{
 "cells": [
  {
   "cell_type": "markdown",
   "metadata": {
    "id": "ITD7UVtxfU87",
    "jupyter": {
     "outputs_hidden": true
    },
    "tags": []
   },
   "source": [
    "OpenCV   \n",
    "!pip install tensorflow   \n",
    "!pip install opencv-python   \n",
    "https://docs.opencv.org/4.x/d0/de3/tutorial_py_intro.html"
   ]
  },
  {
   "cell_type": "code",
   "execution_count": 2,
   "metadata": {
    "ExecuteTime": {
     "end_time": "2023-11-08T06:47:49.346981Z",
     "start_time": "2023-11-08T06:47:38.865455Z"
    },
    "executionInfo": {
     "elapsed": 5536,
     "status": "ok",
     "timestamp": 1712622204336,
     "user": {
      "displayName": "맹광국",
      "userId": "00860531964279012518"
     },
     "user_tz": -540
    },
    "id": "P1He--cnMldx"
   },
   "outputs": [],
   "source": [
    "from tensorflow.keras.datasets import mnist\n",
    "import cv2\n",
    "import matplotlib.pyplot as plt"
   ]
  },
  {
   "cell_type": "code",
   "execution_count": 3,
   "metadata": {
    "ExecuteTime": {
     "end_time": "2023-11-08T06:47:49.372635Z",
     "start_time": "2023-11-08T06:47:49.366019Z"
    },
    "colab": {
     "base_uri": "https://localhost:8080/",
     "height": 35
    },
    "executionInfo": {
     "elapsed": 16,
     "status": "ok",
     "timestamp": 1712622204337,
     "user": {
      "displayName": "맹광국",
      "userId": "00860531964279012518"
     },
     "user_tz": -540
    },
    "id": "f-agIBNrfU9B",
    "outputId": "84b03db1-289b-47eb-b056-3f7aa8efc52b"
   },
   "outputs": [
    {
     "data": {
      "text/plain": [
       "'4.10.0'"
      ]
     },
     "execution_count": 3,
     "metadata": {},
     "output_type": "execute_result"
    }
   ],
   "source": [
    "cv2.__version__"
   ]
  },
  {
   "cell_type": "code",
   "execution_count": 4,
   "metadata": {
    "ExecuteTime": {
     "end_time": "2023-11-08T06:12:33.088219Z",
     "start_time": "2023-11-08T06:12:33.013760Z"
    },
    "executionInfo": {
     "elapsed": 14,
     "status": "ok",
     "timestamp": 1712622204337,
     "user": {
      "displayName": "맹광국",
      "userId": "00860531964279012518"
     },
     "user_tz": -540
    },
    "id": "-l-TvadXfU9C",
    "scrolled": true
   },
   "outputs": [
    {
     "data": {
      "text/plain": [
       "\u001b[1;31mSignature:\u001b[0m \u001b[0mmnist\u001b[0m\u001b[1;33m.\u001b[0m\u001b[0mload_data\u001b[0m\u001b[1;33m(\u001b[0m\u001b[0mpath\u001b[0m\u001b[1;33m=\u001b[0m\u001b[1;34m'mnist.npz'\u001b[0m\u001b[1;33m)\u001b[0m\u001b[1;33m\u001b[0m\u001b[1;33m\u001b[0m\u001b[0m\n",
       "\u001b[1;31mDocstring:\u001b[0m\n",
       "Loads the MNIST dataset.\n",
       "\n",
       "This is a dataset of 60,000 28x28 grayscale images of the 10 digits,\n",
       "along with a test set of 10,000 images.\n",
       "More info can be found at the\n",
       "[MNIST homepage](http://yann.lecun.com/exdb/mnist/).\n",
       "\n",
       "Args:\n",
       "    path: path where to cache the dataset locally\n",
       "        (relative to `~/.keras/datasets`).\n",
       "\n",
       "Returns:\n",
       "    Tuple of NumPy arrays: `(x_train, y_train), (x_test, y_test)`.\n",
       "\n",
       "**`x_train`**: `uint8` NumPy array of grayscale image data with shapes\n",
       "  `(60000, 28, 28)`, containing the training data. Pixel values range\n",
       "  from 0 to 255.\n",
       "\n",
       "**`y_train`**: `uint8` NumPy array of digit labels (integers in range 0-9)\n",
       "  with shape `(60000,)` for the training data.\n",
       "\n",
       "**`x_test`**: `uint8` NumPy array of grayscale image data with shapes\n",
       "  `(10000, 28, 28)`, containing the test data. Pixel values range\n",
       "  from 0 to 255.\n",
       "\n",
       "**`y_test`**: `uint8` NumPy array of digit labels (integers in range 0-9)\n",
       "  with shape `(10000,)` for the test data.\n",
       "\n",
       "Example:\n",
       "\n",
       "```python\n",
       "(x_train, y_train), (x_test, y_test) = keras.datasets.mnist.load_data()\n",
       "assert x_train.shape == (60000, 28, 28)\n",
       "assert x_test.shape == (10000, 28, 28)\n",
       "assert y_train.shape == (60000,)\n",
       "assert y_test.shape == (10000,)\n",
       "```\n",
       "\n",
       "License:\n",
       "\n",
       "Yann LeCun and Corinna Cortes hold the copyright of MNIST dataset,\n",
       "which is a derivative work from original NIST datasets.\n",
       "MNIST dataset is made available under the terms of the\n",
       "[Creative Commons Attribution-Share Alike 3.0 license.](\n",
       "    https://creativecommons.org/licenses/by-sa/3.0/)\n",
       "\u001b[1;31mFile:\u001b[0m      c:\\users\\song4\\anaconda3\\lib\\site-packages\\keras\\src\\datasets\\mnist.py\n",
       "\u001b[1;31mType:\u001b[0m      function"
      ]
     },
     "metadata": {},
     "output_type": "display_data"
    }
   ],
   "source": [
    "mnist.load_data?"
   ]
  },
  {
   "cell_type": "code",
   "execution_count": 5,
   "metadata": {
    "ExecuteTime": {
     "end_time": "2023-11-08T06:13:16.580014Z",
     "start_time": "2023-11-08T06:13:16.238669Z"
    },
    "colab": {
     "base_uri": "https://localhost:8080/"
    },
    "executionInfo": {
     "elapsed": 418,
     "status": "ok",
     "timestamp": 1712622204742,
     "user": {
      "displayName": "맹광국",
      "userId": "00860531964279012518"
     },
     "user_tz": -540
    },
    "id": "41x3-B-DOVIF",
    "outputId": "868b16d4-85d6-485c-8193-4ee8b6134a6d"
   },
   "outputs": [],
   "source": [
    "(X_train, y_train), (X_test, y_test) = mnist.load_data()"
   ]
  },
  {
   "cell_type": "code",
   "execution_count": 6,
   "metadata": {
    "ExecuteTime": {
     "end_time": "2023-11-08T06:13:43.930065Z",
     "start_time": "2023-11-08T06:13:43.925567Z"
    },
    "colab": {
     "base_uri": "https://localhost:8080/"
    },
    "executionInfo": {
     "elapsed": 12,
     "status": "ok",
     "timestamp": 1712622204743,
     "user": {
      "displayName": "맹광국",
      "userId": "00860531964279012518"
     },
     "user_tz": -540
    },
    "id": "tmO9DJrDOaRM",
    "outputId": "d6ebb457-c2ec-45d2-e2e3-b10140704e84"
   },
   "outputs": [
    {
     "data": {
      "text/plain": [
       "(numpy.ndarray, dtype('uint8'), 3, (60000, 28, 28), 47040000)"
      ]
     },
     "execution_count": 6,
     "metadata": {},
     "output_type": "execute_result"
    }
   ],
   "source": [
    "type(X_train), X_train.dtype, X_train.ndim, X_train.shape, X_train.size"
   ]
  },
  {
   "cell_type": "code",
   "execution_count": 7,
   "metadata": {
    "ExecuteTime": {
     "end_time": "2023-11-08T06:14:45.461067Z",
     "start_time": "2023-11-08T06:14:45.452984Z"
    },
    "colab": {
     "base_uri": "https://localhost:8080/",
     "height": 67
    },
    "executionInfo": {
     "elapsed": 10,
     "status": "ok",
     "timestamp": 1712622204743,
     "user": {
      "displayName": "맹광국",
      "userId": "00860531964279012518"
     },
     "user_tz": -540
    },
    "id": "CVtTP_8mfU9D",
    "outputId": "7d94a1a9-6bec-4ada-a6b3-c38dbbeff040",
    "scrolled": true
   },
   "outputs": [
    {
     "data": {
      "text/plain": [
       "array([[  0,   0,   0,   0,   0,   0,   0,   0,   0,   0,   0,   0,   0,\n",
       "          0,   0,   0,   0,   0,   0,   0,   0,   0,   0,   0,   0,   0,\n",
       "          0,   0],\n",
       "       [  0,   0,   0,   0,   0,   0,   0,   0,   0,   0,   0,   0,   0,\n",
       "          0,   0,   0,   0,   0,   0,   0,   0,   0,   0,   0,   0,   0,\n",
       "          0,   0],\n",
       "       [  0,   0,   0,   0,   0,   0,   0,   0,   0,   0,   0,   0,   0,\n",
       "          0,   0,   0,   0,   0,   0,   0,   0,   0,   0,   0,   0,   0,\n",
       "          0,   0],\n",
       "       [  0,   0,   0,   0,   0,   0,   0,   0,   0,   0,   0,   0,   0,\n",
       "          0,   0,   0,   0,   0,   0,   0,   0,   0,   0,   0,   0,   0,\n",
       "          0,   0],\n",
       "       [  0,   0,   0,   0,   0,   0,   0,   0,   0,   0,   0,   0,   0,\n",
       "          0,   0,   0,   0,   0,   0,   0,   0,   0,   0,   0,   0,   0,\n",
       "          0,   0],\n",
       "       [  0,   0,   0,   0,   0,   0,   0,   0,   0,   0,   0,   0,   3,\n",
       "         18,  18,  18, 126, 136, 175,  26, 166, 255, 247, 127,   0,   0,\n",
       "          0,   0],\n",
       "       [  0,   0,   0,   0,   0,   0,   0,   0,  30,  36,  94, 154, 170,\n",
       "        253, 253, 253, 253, 253, 225, 172, 253, 242, 195,  64,   0,   0,\n",
       "          0,   0],\n",
       "       [  0,   0,   0,   0,   0,   0,   0,  49, 238, 253, 253, 253, 253,\n",
       "        253, 253, 253, 253, 251,  93,  82,  82,  56,  39,   0,   0,   0,\n",
       "          0,   0],\n",
       "       [  0,   0,   0,   0,   0,   0,   0,  18, 219, 253, 253, 253, 253,\n",
       "        253, 198, 182, 247, 241,   0,   0,   0,   0,   0,   0,   0,   0,\n",
       "          0,   0],\n",
       "       [  0,   0,   0,   0,   0,   0,   0,   0,  80, 156, 107, 253, 253,\n",
       "        205,  11,   0,  43, 154,   0,   0,   0,   0,   0,   0,   0,   0,\n",
       "          0,   0],\n",
       "       [  0,   0,   0,   0,   0,   0,   0,   0,   0,  14,   1, 154, 253,\n",
       "         90,   0,   0,   0,   0,   0,   0,   0,   0,   0,   0,   0,   0,\n",
       "          0,   0],\n",
       "       [  0,   0,   0,   0,   0,   0,   0,   0,   0,   0,   0, 139, 253,\n",
       "        190,   2,   0,   0,   0,   0,   0,   0,   0,   0,   0,   0,   0,\n",
       "          0,   0],\n",
       "       [  0,   0,   0,   0,   0,   0,   0,   0,   0,   0,   0,  11, 190,\n",
       "        253,  70,   0,   0,   0,   0,   0,   0,   0,   0,   0,   0,   0,\n",
       "          0,   0],\n",
       "       [  0,   0,   0,   0,   0,   0,   0,   0,   0,   0,   0,   0,  35,\n",
       "        241, 225, 160, 108,   1,   0,   0,   0,   0,   0,   0,   0,   0,\n",
       "          0,   0],\n",
       "       [  0,   0,   0,   0,   0,   0,   0,   0,   0,   0,   0,   0,   0,\n",
       "         81, 240, 253, 253, 119,  25,   0,   0,   0,   0,   0,   0,   0,\n",
       "          0,   0],\n",
       "       [  0,   0,   0,   0,   0,   0,   0,   0,   0,   0,   0,   0,   0,\n",
       "          0,  45, 186, 253, 253, 150,  27,   0,   0,   0,   0,   0,   0,\n",
       "          0,   0],\n",
       "       [  0,   0,   0,   0,   0,   0,   0,   0,   0,   0,   0,   0,   0,\n",
       "          0,   0,  16,  93, 252, 253, 187,   0,   0,   0,   0,   0,   0,\n",
       "          0,   0],\n",
       "       [  0,   0,   0,   0,   0,   0,   0,   0,   0,   0,   0,   0,   0,\n",
       "          0,   0,   0,   0, 249, 253, 249,  64,   0,   0,   0,   0,   0,\n",
       "          0,   0],\n",
       "       [  0,   0,   0,   0,   0,   0,   0,   0,   0,   0,   0,   0,   0,\n",
       "          0,  46, 130, 183, 253, 253, 207,   2,   0,   0,   0,   0,   0,\n",
       "          0,   0],\n",
       "       [  0,   0,   0,   0,   0,   0,   0,   0,   0,   0,   0,   0,  39,\n",
       "        148, 229, 253, 253, 253, 250, 182,   0,   0,   0,   0,   0,   0,\n",
       "          0,   0],\n",
       "       [  0,   0,   0,   0,   0,   0,   0,   0,   0,   0,  24, 114, 221,\n",
       "        253, 253, 253, 253, 201,  78,   0,   0,   0,   0,   0,   0,   0,\n",
       "          0,   0],\n",
       "       [  0,   0,   0,   0,   0,   0,   0,   0,  23,  66, 213, 253, 253,\n",
       "        253, 253, 198,  81,   2,   0,   0,   0,   0,   0,   0,   0,   0,\n",
       "          0,   0],\n",
       "       [  0,   0,   0,   0,   0,   0,  18, 171, 219, 253, 253, 253, 253,\n",
       "        195,  80,   9,   0,   0,   0,   0,   0,   0,   0,   0,   0,   0,\n",
       "          0,   0],\n",
       "       [  0,   0,   0,   0,  55, 172, 226, 253, 253, 253, 253, 244, 133,\n",
       "         11,   0,   0,   0,   0,   0,   0,   0,   0,   0,   0,   0,   0,\n",
       "          0,   0],\n",
       "       [  0,   0,   0,   0, 136, 253, 253, 253, 212, 135, 132,  16,   0,\n",
       "          0,   0,   0,   0,   0,   0,   0,   0,   0,   0,   0,   0,   0,\n",
       "          0,   0],\n",
       "       [  0,   0,   0,   0,   0,   0,   0,   0,   0,   0,   0,   0,   0,\n",
       "          0,   0,   0,   0,   0,   0,   0,   0,   0,   0,   0,   0,   0,\n",
       "          0,   0],\n",
       "       [  0,   0,   0,   0,   0,   0,   0,   0,   0,   0,   0,   0,   0,\n",
       "          0,   0,   0,   0,   0,   0,   0,   0,   0,   0,   0,   0,   0,\n",
       "          0,   0],\n",
       "       [  0,   0,   0,   0,   0,   0,   0,   0,   0,   0,   0,   0,   0,\n",
       "          0,   0,   0,   0,   0,   0,   0,   0,   0,   0,   0,   0,   0,\n",
       "          0,   0]], dtype=uint8)"
      ]
     },
     "execution_count": 7,
     "metadata": {},
     "output_type": "execute_result"
    }
   ],
   "source": [
    "X_train[0]"
   ]
  },
  {
   "cell_type": "code",
   "execution_count": 8,
   "metadata": {
    "ExecuteTime": {
     "end_time": "2023-11-08T06:15:30.495139Z",
     "start_time": "2023-11-08T06:15:30.490153Z"
    },
    "colab": {
     "base_uri": "https://localhost:8080/"
    },
    "executionInfo": {
     "elapsed": 9,
     "status": "ok",
     "timestamp": 1712622204744,
     "user": {
      "displayName": "맹광국",
      "userId": "00860531964279012518"
     },
     "user_tz": -540
    },
    "id": "YspKfN-IOb9k",
    "outputId": "a719e052-107b-4cd2-aac1-6e3f77c01699"
   },
   "outputs": [
    {
     "data": {
      "text/plain": [
       "5"
      ]
     },
     "execution_count": 8,
     "metadata": {},
     "output_type": "execute_result"
    }
   ],
   "source": [
    "y_train[0]"
   ]
  },
  {
   "cell_type": "code",
   "execution_count": 9,
   "metadata": {
    "ExecuteTime": {
     "end_time": "2023-11-08T06:23:19.117875Z",
     "start_time": "2023-11-08T06:23:19.112979Z"
    },
    "executionInfo": {
     "elapsed": 7,
     "status": "ok",
     "timestamp": 1712622204745,
     "user": {
      "displayName": "맹광국",
      "userId": "00860531964279012518"
     },
     "user_tz": -540
    },
    "id": "O1EVvKJ6OoqT"
   },
   "outputs": [],
   "source": [
    "# 자동 제한없이 행렬 전체 출력\n",
    "import sys\n",
    "import numpy as np\n",
    "# np.set_printoptions(threshold=np.inf, linewidth=np.inf) # 컴퓨터 성능에 영향을 줄 수 있으므로 주의 할 것\n",
    "np.set_printoptions(linewidth = 150, precision = 2)"
   ]
  },
  {
   "cell_type": "code",
   "execution_count": 10,
   "metadata": {
    "ExecuteTime": {
     "end_time": "2023-11-08T06:17:20.716738Z",
     "start_time": "2023-11-08T06:17:20.709353Z"
    },
    "colab": {
     "base_uri": "https://localhost:8080/",
     "height": 67
    },
    "executionInfo": {
     "elapsed": 6,
     "status": "ok",
     "timestamp": 1712622209341,
     "user": {
      "displayName": "맹광국",
      "userId": "00860531964279012518"
     },
     "user_tz": -540
    },
    "id": "t8cqU6CFOyWT",
    "outputId": "e04a34f9-5b6c-44bf-eec0-769d7c0bab2b"
   },
   "outputs": [
    {
     "data": {
      "text/plain": [
       "array([[  0,   0,   0,   0,   0,   0,   0,   0,   0,   0,   0,   0,   0,   0,   0,   0,   0,   0,   0,   0,   0,   0,   0,   0,   0,   0,   0,   0],\n",
       "       [  0,   0,   0,   0,   0,   0,   0,   0,   0,   0,   0,   0,   0,   0,   0,   0,   0,   0,   0,   0,   0,   0,   0,   0,   0,   0,   0,   0],\n",
       "       [  0,   0,   0,   0,   0,   0,   0,   0,   0,   0,   0,   0,   0,   0,   0,   0,   0,   0,   0,   0,   0,   0,   0,   0,   0,   0,   0,   0],\n",
       "       [  0,   0,   0,   0,   0,   0,   0,   0,   0,   0,   0,   0,   0,   0,   0,   0,   0,   0,   0,   0,   0,   0,   0,   0,   0,   0,   0,   0],\n",
       "       [  0,   0,   0,   0,   0,   0,   0,   0,   0,   0,   0,   0,   0,   0,   0,   0,   0,   0,   0,   0,   0,   0,   0,   0,   0,   0,   0,   0],\n",
       "       [  0,   0,   0,   0,   0,   0,   0,   0,   0,   0,   0,   0,   3,  18,  18,  18, 126, 136, 175,  26, 166, 255, 247, 127,   0,   0,   0,   0],\n",
       "       [  0,   0,   0,   0,   0,   0,   0,   0,  30,  36,  94, 154, 170, 253, 253, 253, 253, 253, 225, 172, 253, 242, 195,  64,   0,   0,   0,   0],\n",
       "       [  0,   0,   0,   0,   0,   0,   0,  49, 238, 253, 253, 253, 253, 253, 253, 253, 253, 251,  93,  82,  82,  56,  39,   0,   0,   0,   0,   0],\n",
       "       [  0,   0,   0,   0,   0,   0,   0,  18, 219, 253, 253, 253, 253, 253, 198, 182, 247, 241,   0,   0,   0,   0,   0,   0,   0,   0,   0,   0],\n",
       "       [  0,   0,   0,   0,   0,   0,   0,   0,  80, 156, 107, 253, 253, 205,  11,   0,  43, 154,   0,   0,   0,   0,   0,   0,   0,   0,   0,   0],\n",
       "       [  0,   0,   0,   0,   0,   0,   0,   0,   0,  14,   1, 154, 253,  90,   0,   0,   0,   0,   0,   0,   0,   0,   0,   0,   0,   0,   0,   0],\n",
       "       [  0,   0,   0,   0,   0,   0,   0,   0,   0,   0,   0, 139, 253, 190,   2,   0,   0,   0,   0,   0,   0,   0,   0,   0,   0,   0,   0,   0],\n",
       "       [  0,   0,   0,   0,   0,   0,   0,   0,   0,   0,   0,  11, 190, 253,  70,   0,   0,   0,   0,   0,   0,   0,   0,   0,   0,   0,   0,   0],\n",
       "       [  0,   0,   0,   0,   0,   0,   0,   0,   0,   0,   0,   0,  35, 241, 225, 160, 108,   1,   0,   0,   0,   0,   0,   0,   0,   0,   0,   0],\n",
       "       [  0,   0,   0,   0,   0,   0,   0,   0,   0,   0,   0,   0,   0,  81, 240, 253, 253, 119,  25,   0,   0,   0,   0,   0,   0,   0,   0,   0],\n",
       "       [  0,   0,   0,   0,   0,   0,   0,   0,   0,   0,   0,   0,   0,   0,  45, 186, 253, 253, 150,  27,   0,   0,   0,   0,   0,   0,   0,   0],\n",
       "       [  0,   0,   0,   0,   0,   0,   0,   0,   0,   0,   0,   0,   0,   0,   0,  16,  93, 252, 253, 187,   0,   0,   0,   0,   0,   0,   0,   0],\n",
       "       [  0,   0,   0,   0,   0,   0,   0,   0,   0,   0,   0,   0,   0,   0,   0,   0,   0, 249, 253, 249,  64,   0,   0,   0,   0,   0,   0,   0],\n",
       "       [  0,   0,   0,   0,   0,   0,   0,   0,   0,   0,   0,   0,   0,   0,  46, 130, 183, 253, 253, 207,   2,   0,   0,   0,   0,   0,   0,   0],\n",
       "       [  0,   0,   0,   0,   0,   0,   0,   0,   0,   0,   0,   0,  39, 148, 229, 253, 253, 253, 250, 182,   0,   0,   0,   0,   0,   0,   0,   0],\n",
       "       [  0,   0,   0,   0,   0,   0,   0,   0,   0,   0,  24, 114, 221, 253, 253, 253, 253, 201,  78,   0,   0,   0,   0,   0,   0,   0,   0,   0],\n",
       "       [  0,   0,   0,   0,   0,   0,   0,   0,  23,  66, 213, 253, 253, 253, 253, 198,  81,   2,   0,   0,   0,   0,   0,   0,   0,   0,   0,   0],\n",
       "       [  0,   0,   0,   0,   0,   0,  18, 171, 219, 253, 253, 253, 253, 195,  80,   9,   0,   0,   0,   0,   0,   0,   0,   0,   0,   0,   0,   0],\n",
       "       [  0,   0,   0,   0,  55, 172, 226, 253, 253, 253, 253, 244, 133,  11,   0,   0,   0,   0,   0,   0,   0,   0,   0,   0,   0,   0,   0,   0],\n",
       "       [  0,   0,   0,   0, 136, 253, 253, 253, 212, 135, 132,  16,   0,   0,   0,   0,   0,   0,   0,   0,   0,   0,   0,   0,   0,   0,   0,   0],\n",
       "       [  0,   0,   0,   0,   0,   0,   0,   0,   0,   0,   0,   0,   0,   0,   0,   0,   0,   0,   0,   0,   0,   0,   0,   0,   0,   0,   0,   0],\n",
       "       [  0,   0,   0,   0,   0,   0,   0,   0,   0,   0,   0,   0,   0,   0,   0,   0,   0,   0,   0,   0,   0,   0,   0,   0,   0,   0,   0,   0],\n",
       "       [  0,   0,   0,   0,   0,   0,   0,   0,   0,   0,   0,   0,   0,   0,   0,   0,   0,   0,   0,   0,   0,   0,   0,   0,   0,   0,   0,   0]],\n",
       "      dtype=uint8)"
      ]
     },
     "execution_count": 10,
     "metadata": {},
     "output_type": "execute_result"
    }
   ],
   "source": [
    "X_train[0]"
   ]
  },
  {
   "cell_type": "code",
   "execution_count": 11,
   "metadata": {
    "ExecuteTime": {
     "start_time": "2023-11-08T06:18:44.441Z"
    },
    "colab": {
     "base_uri": "https://localhost:8080/",
     "height": 67
    },
    "executionInfo": {
     "elapsed": 8,
     "status": "ok",
     "timestamp": 1712622209807,
     "user": {
      "displayName": "맹광국",
      "userId": "00860531964279012518"
     },
     "user_tz": -540
    },
    "id": "sujSZ-LhfU9F",
    "outputId": "918df9e3-6068-4788-8417-bcf65d7e788a"
   },
   "outputs": [
    {
     "data": {
      "text/plain": [
       "array([[  0,   0,   0,   0,   0,   0,   0,   0,   0,   0,   0,   0,   0,   0,   0,   0,   0,   0,   0,   0,   0,   0,   0,   0,   0,   0,   0,   0],\n",
       "       [  0,   0,   0,   0,   0,   0,   0,   0,   0,   0,   0,   0,   0,   0,   0,   0,   0,   0,   0,   0,   0,   0,   0,   0,   0,   0,   0,   0],\n",
       "       [  0,   0,   0,   0,   0,   0,   0,   0,   0,   0,   0,   0,   0,   0,   0,   0,   0,   0,   0,   0,   0,   0,   0,   0,   0,   0,   0,   0],\n",
       "       [  0,   0,   0,   0,   0,   0,   0,   0,   0,   0,   0,   0,   0,   0,   0,   0,   0,   0,   0,   0,   0,   0,   0,   0,   0,   0,   0,   0],\n",
       "       [  0,   0,   0,   0,   0,   0,   0,   0,   0,   0,   0,   0,   0,   0,   0,  51, 159, 253, 159,  50,   0,   0,   0,   0,   0,   0,   0,   0],\n",
       "       [  0,   0,   0,   0,   0,   0,   0,   0,   0,   0,   0,   0,   0,   0,  48, 238, 252, 252, 252, 237,   0,   0,   0,   0,   0,   0,   0,   0],\n",
       "       [  0,   0,   0,   0,   0,   0,   0,   0,   0,   0,   0,   0,   0,  54, 227, 253, 252, 239, 233, 252,  57,   6,   0,   0,   0,   0,   0,   0],\n",
       "       [  0,   0,   0,   0,   0,   0,   0,   0,   0,   0,   0,  10,  60, 224, 252, 253, 252, 202,  84, 252, 253, 122,   0,   0,   0,   0,   0,   0],\n",
       "       [  0,   0,   0,   0,   0,   0,   0,   0,   0,   0,   0, 163, 252, 252, 252, 253, 252, 252,  96, 189, 253, 167,   0,   0,   0,   0,   0,   0],\n",
       "       [  0,   0,   0,   0,   0,   0,   0,   0,   0,   0,  51, 238, 253, 253, 190, 114, 253, 228,  47,  79, 255, 168,   0,   0,   0,   0,   0,   0],\n",
       "       [  0,   0,   0,   0,   0,   0,   0,   0,   0,  48, 238, 252, 252, 179,  12,  75, 121,  21,   0,   0, 253, 243,  50,   0,   0,   0,   0,   0],\n",
       "       [  0,   0,   0,   0,   0,   0,   0,   0,  38, 165, 253, 233, 208,  84,   0,   0,   0,   0,   0,   0, 253, 252, 165,   0,   0,   0,   0,   0],\n",
       "       [  0,   0,   0,   0,   0,   0,   0,   7, 178, 252, 240,  71,  19,  28,   0,   0,   0,   0,   0,   0, 253, 252, 195,   0,   0,   0,   0,   0],\n",
       "       [  0,   0,   0,   0,   0,   0,   0,  57, 252, 252,  63,   0,   0,   0,   0,   0,   0,   0,   0,   0, 253, 252, 195,   0,   0,   0,   0,   0],\n",
       "       [  0,   0,   0,   0,   0,   0,   0, 198, 253, 190,   0,   0,   0,   0,   0,   0,   0,   0,   0,   0, 255, 253, 196,   0,   0,   0,   0,   0],\n",
       "       [  0,   0,   0,   0,   0,   0,  76, 246, 252, 112,   0,   0,   0,   0,   0,   0,   0,   0,   0,   0, 253, 252, 148,   0,   0,   0,   0,   0],\n",
       "       [  0,   0,   0,   0,   0,   0,  85, 252, 230,  25,   0,   0,   0,   0,   0,   0,   0,   0,   7, 135, 253, 186,  12,   0,   0,   0,   0,   0],\n",
       "       [  0,   0,   0,   0,   0,   0,  85, 252, 223,   0,   0,   0,   0,   0,   0,   0,   0,   7, 131, 252, 225,  71,   0,   0,   0,   0,   0,   0],\n",
       "       [  0,   0,   0,   0,   0,   0,  85, 252, 145,   0,   0,   0,   0,   0,   0,   0,  48, 165, 252, 173,   0,   0,   0,   0,   0,   0,   0,   0],\n",
       "       [  0,   0,   0,   0,   0,   0,  86, 253, 225,   0,   0,   0,   0,   0,   0, 114, 238, 253, 162,   0,   0,   0,   0,   0,   0,   0,   0,   0],\n",
       "       [  0,   0,   0,   0,   0,   0,  85, 252, 249, 146,  48,  29,  85, 178, 225, 253, 223, 167,  56,   0,   0,   0,   0,   0,   0,   0,   0,   0],\n",
       "       [  0,   0,   0,   0,   0,   0,  85, 252, 252, 252, 229, 215, 252, 252, 252, 196, 130,   0,   0,   0,   0,   0,   0,   0,   0,   0,   0,   0],\n",
       "       [  0,   0,   0,   0,   0,   0,  28, 199, 252, 252, 253, 252, 252, 233, 145,   0,   0,   0,   0,   0,   0,   0,   0,   0,   0,   0,   0,   0],\n",
       "       [  0,   0,   0,   0,   0,   0,   0,  25, 128, 252, 253, 252, 141,  37,   0,   0,   0,   0,   0,   0,   0,   0,   0,   0,   0,   0,   0,   0],\n",
       "       [  0,   0,   0,   0,   0,   0,   0,   0,   0,   0,   0,   0,   0,   0,   0,   0,   0,   0,   0,   0,   0,   0,   0,   0,   0,   0,   0,   0],\n",
       "       [  0,   0,   0,   0,   0,   0,   0,   0,   0,   0,   0,   0,   0,   0,   0,   0,   0,   0,   0,   0,   0,   0,   0,   0,   0,   0,   0,   0],\n",
       "       [  0,   0,   0,   0,   0,   0,   0,   0,   0,   0,   0,   0,   0,   0,   0,   0,   0,   0,   0,   0,   0,   0,   0,   0,   0,   0,   0,   0],\n",
       "       [  0,   0,   0,   0,   0,   0,   0,   0,   0,   0,   0,   0,   0,   0,   0,   0,   0,   0,   0,   0,   0,   0,   0,   0,   0,   0,   0,   0]],\n",
       "      dtype=uint8)"
      ]
     },
     "execution_count": 11,
     "metadata": {},
     "output_type": "execute_result"
    }
   ],
   "source": [
    "X_train[1]"
   ]
  },
  {
   "cell_type": "markdown",
   "metadata": {
    "id": "gVl3iLEJfU9G"
   },
   "source": [
    "## 이미지 읽고 출력\n",
    "pixabay 무료 이미지 소스 가져오기"
   ]
  },
  {
   "cell_type": "code",
   "execution_count": 13,
   "metadata": {
    "colab": {
     "base_uri": "https://localhost:8080/"
    },
    "executionInfo": {
     "elapsed": 25375,
     "status": "ok",
     "timestamp": 1712622246675,
     "user": {
      "displayName": "맹광국",
      "userId": "00860531964279012518"
     },
     "user_tz": -540
    },
    "id": "PaXr8S2JlFld",
    "outputId": "f809f17e-2ee7-4943-f887-67f759d26058"
   },
   "outputs": [
    {
     "ename": "ModuleNotFoundError",
     "evalue": "No module named 'google.colab'",
     "output_type": "error",
     "traceback": [
      "\u001b[1;31m---------------------------------------------------------------------------\u001b[0m",
      "\u001b[1;31mModuleNotFoundError\u001b[0m                       Traceback (most recent call last)",
      "Cell \u001b[1;32mIn[13], line 1\u001b[0m\n\u001b[1;32m----> 1\u001b[0m \u001b[38;5;28;01mfrom\u001b[39;00m \u001b[38;5;21;01mgoogle\u001b[39;00m\u001b[38;5;21;01m.\u001b[39;00m\u001b[38;5;21;01mcolab\u001b[39;00m \u001b[38;5;28;01mimport\u001b[39;00m drive\n\u001b[0;32m      2\u001b[0m drive\u001b[38;5;241m.\u001b[39mmount(\u001b[38;5;124m'\u001b[39m\u001b[38;5;124m/content/drive\u001b[39m\u001b[38;5;124m'\u001b[39m)\n",
      "\u001b[1;31mModuleNotFoundError\u001b[0m: No module named 'google.colab'"
     ]
    }
   ],
   "source": [
    "from google.colab import drive\n",
    "drive.mount('/content/drive')"
   ]
  },
  {
   "cell_type": "code",
   "execution_count": null,
   "metadata": {
    "colab": {
     "base_uri": "https://localhost:8080/",
     "height": 35
    },
    "executionInfo": {
     "elapsed": 6,
     "status": "ok",
     "timestamp": 1712622246676,
     "user": {
      "displayName": "맹광국",
      "userId": "00860531964279012518"
     },
     "user_tz": -540
    },
    "id": "T2aH1JSRlO5D",
    "outputId": "6ee70f2a-6472-497c-8332-4278237bee1b"
   },
   "outputs": [],
   "source": [
    "pwd"
   ]
  },
  {
   "cell_type": "code",
   "execution_count": null,
   "metadata": {
    "executionInfo": {
     "elapsed": 340,
     "status": "ok",
     "timestamp": 1712622276496,
     "user": {
      "displayName": "맹광국",
      "userId": "00860531964279012518"
     },
     "user_tz": -540
    },
    "id": "dXFZHhmcfU9G"
   },
   "outputs": [],
   "source": [
    "from tensorflow.keras.datasets import mnist\n",
    "import cv2\n",
    "import numpy as np\n",
    "import matplotlib.pyplot as plt"
   ]
  },
  {
   "cell_type": "code",
   "execution_count": null,
   "metadata": {
    "ExecuteTime": {
     "end_time": "2023-11-08T06:47:49.464227Z",
     "start_time": "2023-11-08T06:47:49.412678Z"
    },
    "executionInfo": {
     "elapsed": 579,
     "status": "ok",
     "timestamp": 1712622278004,
     "user": {
      "displayName": "맹광국",
      "userId": "00860531964279012518"
     },
     "user_tz": -540
    },
    "id": "sFpUTWSNfU9G"
   },
   "outputs": [],
   "source": [
    "# 이미지 읽어오기\n",
    "img = cv2.imread('/content/drive/MyDrive/Lecture/ESTsoft/WASSUP2기_교안/03_Data_Preprocessing/data/car.jpg')  # BGR로 인식하므로 컨버팅 필요"
   ]
  },
  {
   "cell_type": "code",
   "execution_count": null,
   "metadata": {
    "colab": {
     "base_uri": "https://localhost:8080/"
    },
    "executionInfo": {
     "elapsed": 5,
     "status": "ok",
     "timestamp": 1712622278757,
     "user": {
      "displayName": "맹광국",
      "userId": "00860531964279012518"
     },
     "user_tz": -540
    },
    "id": "v9EhEkW9fU9H",
    "outputId": "819cfe6c-12cd-4b41-cbb3-4a9644fd21e2"
   },
   "outputs": [],
   "source": [
    "img"
   ]
  },
  {
   "cell_type": "code",
   "execution_count": null,
   "metadata": {
    "colab": {
     "base_uri": "https://localhost:8080/"
    },
    "executionInfo": {
     "elapsed": 441,
     "status": "ok",
     "timestamp": 1712561126391,
     "user": {
      "displayName": "맹광국",
      "userId": "00860531964279012518"
     },
     "user_tz": -540
    },
    "id": "btRmcDxYmLRJ",
    "outputId": "ed6eb5bb-e8b7-4cc4-8c0f-7a8156b798f2"
   },
   "outputs": [],
   "source": [
    "img = cv2.imread('/content/car.jpg')\n",
    "img"
   ]
  },
  {
   "cell_type": "code",
   "execution_count": null,
   "metadata": {
    "id": "CPuMCCEufU9H",
    "scrolled": true
   },
   "outputs": [],
   "source": [
    "cv2.imread?"
   ]
  },
  {
   "cell_type": "code",
   "execution_count": null,
   "metadata": {
    "executionInfo": {
     "elapsed": 328,
     "status": "ok",
     "timestamp": 1712622288254,
     "user": {
      "displayName": "맹광국",
      "userId": "00860531964279012518"
     },
     "user_tz": -540
    },
    "id": "uHBbjRYWmloD"
   },
   "outputs": [],
   "source": [
    "image = img"
   ]
  },
  {
   "cell_type": "code",
   "execution_count": null,
   "metadata": {
    "ExecuteTime": {
     "end_time": "2023-11-08T06:49:45.541772Z",
     "start_time": "2023-11-08T06:49:45.536551Z"
    },
    "colab": {
     "base_uri": "https://localhost:8080/"
    },
    "executionInfo": {
     "elapsed": 4,
     "status": "ok",
     "timestamp": 1712622288587,
     "user": {
      "displayName": "맹광국",
      "userId": "00860531964279012518"
     },
     "user_tz": -540
    },
    "id": "HfK1exfTfU9H",
    "outputId": "4196533c-7135-47fe-9666-096dc7f6cb58"
   },
   "outputs": [],
   "source": [
    "type(image), image.dtype, image.ndim, image.shape, image.size"
   ]
  },
  {
   "cell_type": "code",
   "execution_count": null,
   "metadata": {
    "colab": {
     "base_uri": "https://localhost:8080/"
    },
    "executionInfo": {
     "elapsed": 316,
     "status": "ok",
     "timestamp": 1712622290071,
     "user": {
      "displayName": "맹광국",
      "userId": "00860531964279012518"
     },
     "user_tz": -540
    },
    "id": "39JXDmz0fU9H",
    "outputId": "fdc83221-558e-4095-85d1-3b58feae4fa1"
   },
   "outputs": [],
   "source": [
    "image[0]"
   ]
  },
  {
   "cell_type": "code",
   "execution_count": null,
   "metadata": {
    "ExecuteTime": {
     "end_time": "2023-11-08T06:49:47.339840Z",
     "start_time": "2023-11-08T06:49:46.800646Z"
    },
    "colab": {
     "base_uri": "https://localhost:8080/",
     "height": 404
    },
    "executionInfo": {
     "elapsed": 1707,
     "status": "ok",
     "timestamp": 1712622294165,
     "user": {
      "displayName": "맹광국",
      "userId": "00860531964279012518"
     },
     "user_tz": -540
    },
    "id": "dF8dK-3yfU9I",
    "outputId": "a14700df-68c6-41e7-9a21-9d8788f6d6e6"
   },
   "outputs": [],
   "source": [
    "plt.imshow(image)"
   ]
  },
  {
   "cell_type": "code",
   "execution_count": null,
   "metadata": {
    "ExecuteTime": {
     "end_time": "2023-11-08T06:48:01.759162Z",
     "start_time": "2023-11-08T06:48:01.712272Z"
    },
    "id": "lF7STnEAfU9I",
    "outputId": "b997eeaa-7565-47b1-e918-d985ad223588",
    "scrolled": true
   },
   "outputs": [],
   "source": [
    "# # 이미지 출력\n",
    "# cv2.imshow('title', image) # 원본 출력\n",
    "# cv2.waitKey(0)\n",
    "# cv2.destroyAllWindows()"
   ]
  },
  {
   "cell_type": "markdown",
   "metadata": {
    "id": "LRmFE_A0fU9I"
   },
   "source": [
    "## 컨버팅\n",
    "### 왜 OpenCV는 BGR을 쓸까?\n",
    "일반적인 방법인 PIL로 이미지를 읽으면 RGB 순서로, OpenCV로 읽으면(cv2.imread 등) BGR순서로 이미지가 읽힌다.   \n",
    "RGB, BGR 각각 Color space 또는 Color system을 말하며, 유추할 수 있듯 색상이 저장되는 순서가 서로 정반대이다.   \n",
    "https://blog.xcoda.net/102   \n",
    "https://learnopencv.com/why-does-opencv-use-bgr-color-format/"
   ]
  },
  {
   "cell_type": "code",
   "execution_count": null,
   "metadata": {
    "ExecuteTime": {
     "end_time": "2023-11-08T06:49:37.276112Z",
     "start_time": "2023-11-08T06:49:37.273265Z"
    },
    "executionInfo": {
     "elapsed": 315,
     "status": "ok",
     "timestamp": 1712622315121,
     "user": {
      "displayName": "맹광국",
      "userId": "00860531964279012518"
     },
     "user_tz": -540
    },
    "id": "S9nhAHESfU9I"
   },
   "outputs": [],
   "source": [
    "def imginfo(image):\n",
    "    print(type(image), image.dtype, image.ndim, image.shape, image.size)"
   ]
  },
  {
   "cell_type": "code",
   "execution_count": null,
   "metadata": {
    "ExecuteTime": {
     "end_time": "2023-11-08T07:02:25.345825Z",
     "start_time": "2023-11-08T07:02:24.922164Z"
    },
    "colab": {
     "base_uri": "https://localhost:8080/",
     "height": 404
    },
    "executionInfo": {
     "elapsed": 1225,
     "status": "ok",
     "timestamp": 1712622317290,
     "user": {
      "displayName": "맹광국",
      "userId": "00860531964279012518"
     },
     "user_tz": -540
    },
    "id": "qNsA4bH-fU9J",
    "outputId": "df35581c-c0eb-4dfe-a9ec-9ae75a9f3bfc"
   },
   "outputs": [],
   "source": [
    "# bgr => rgb\n",
    "image = cv2.cvtColor(image, cv2.COLOR_BGR2RGB) # RGB로 컨버팅\n",
    "plt.imshow(image)\n",
    "# plt.show()# 객체 디스크립션 숨김\n",
    "imginfo(image)"
   ]
  },
  {
   "cell_type": "code",
   "execution_count": null,
   "metadata": {
    "ExecuteTime": {
     "end_time": "2023-11-08T06:50:24.647590Z",
     "start_time": "2023-11-08T06:50:24.304591Z"
    },
    "colab": {
     "base_uri": "https://localhost:8080/",
     "height": 404
    },
    "executionInfo": {
     "elapsed": 1507,
     "status": "ok",
     "timestamp": 1712622341862,
     "user": {
      "displayName": "맹광국",
      "userId": "00860531964279012518"
     },
     "user_tz": -540
    },
    "id": "oSwLeDiCfU9J",
    "outputId": "19da5c8a-6221-4852-8ef8-a639c7172cc7"
   },
   "outputs": [],
   "source": [
    "# bgr => gray\n",
    "gray = cv2.cvtColor(image, cv2.COLOR_BGR2GRAY)\n",
    "plt.imshow(gray) # cmap ='gray'\n",
    "imginfo(gray)"
   ]
  },
  {
   "cell_type": "code",
   "execution_count": null,
   "metadata": {
    "ExecuteTime": {
     "end_time": "2023-11-08T06:50:50.261701Z",
     "start_time": "2023-11-08T06:50:50.256562Z"
    },
    "colab": {
     "base_uri": "https://localhost:8080/"
    },
    "executionInfo": {
     "elapsed": 322,
     "status": "ok",
     "timestamp": 1712622343558,
     "user": {
      "displayName": "맹광국",
      "userId": "00860531964279012518"
     },
     "user_tz": -540
    },
    "id": "o3YrpKQefU9J",
    "outputId": "768960d0-687c-40a1-97bb-d69402959c26"
   },
   "outputs": [],
   "source": [
    "gray[0], imginfo(gray[0])"
   ]
  },
  {
   "cell_type": "code",
   "execution_count": null,
   "metadata": {
    "ExecuteTime": {
     "end_time": "2023-11-08T06:50:56.295130Z",
     "start_time": "2023-11-08T06:50:55.913072Z"
    },
    "colab": {
     "base_uri": "https://localhost:8080/",
     "height": 404
    },
    "executionInfo": {
     "elapsed": 1296,
     "status": "ok",
     "timestamp": 1712622345182,
     "user": {
      "displayName": "맹광국",
      "userId": "00860531964279012518"
     },
     "user_tz": -540
    },
    "id": "QSrWfoC4fU9J",
    "outputId": "61748c25-7e0d-437c-de67-11273338df61"
   },
   "outputs": [],
   "source": [
    "# gray => colormap\n",
    "im_color = cv2.applyColorMap(gray, cv2.COLORMAP_SUMMER)\n",
    "plt.imshow(im_color)\n",
    "imginfo(im_color)"
   ]
  },
  {
   "cell_type": "code",
   "execution_count": null,
   "metadata": {
    "ExecuteTime": {
     "end_time": "2023-11-08T06:50:56.707569Z",
     "start_time": "2023-11-08T06:50:56.315156Z"
    },
    "colab": {
     "base_uri": "https://localhost:8080/",
     "height": 404
    },
    "executionInfo": {
     "elapsed": 1390,
     "status": "ok",
     "timestamp": 1712622347846,
     "user": {
      "displayName": "맹광국",
      "userId": "00860531964279012518"
     },
     "user_tz": -540
    },
    "id": "VQAejEERfU9K",
    "outputId": "502f84c7-5d4d-4a6a-fc3a-2fdb504f02e9"
   },
   "outputs": [],
   "source": [
    "hsv = cv2.cvtColor(img, cv2.COLOR_BGR2HSV)\n",
    "plt.imshow(hsv)\n",
    "imginfo(hsv)"
   ]
  },
  {
   "cell_type": "markdown",
   "metadata": {
    "id": "vbe3RrtHfU9K"
   },
   "source": [
    "lower_green = np.array([0, 100, 0])   \n",
    "\n",
    "upper_green = np.array([100, 200, 100])\n",
    "![image-2.png](attachment:image-2.png)"
   ]
  },
  {
   "cell_type": "code",
   "execution_count": null,
   "metadata": {
    "ExecuteTime": {
     "end_time": "2023-11-08T06:51:00.147215Z",
     "start_time": "2023-11-08T06:50:59.872616Z"
    },
    "colab": {
     "base_uri": "https://localhost:8080/",
     "height": 404
    },
    "executionInfo": {
     "elapsed": 1103,
     "status": "ok",
     "timestamp": 1712622356340,
     "user": {
      "displayName": "맹광국",
      "userId": "00860531964279012518"
     },
     "user_tz": -540
    },
    "id": "q2PNNBhcfU9K",
    "outputId": "d4acf465-e3b7-4537-a8d2-b6b8d32b2ab6"
   },
   "outputs": [],
   "source": [
    "# 그린 색상 마스킹 = 크로마키\n",
    "lower_green = np.array([0, 50, 0])\n",
    "upper_green = np.array([100, 255, 100])\n",
    "\n",
    "mask_green = cv2.inRange(hsv, lower_green, upper_green)\n",
    "plt.imshow(mask_green)"
   ]
  },
  {
   "cell_type": "markdown",
   "metadata": {
    "id": "o19cgomOfU9L"
   },
   "source": [
    "## 크기 조절\n",
    "보간법 : 이미지의 크기를 변경하는 경우, 변형된 이미지의 픽셀은 추정해서 값을 할당해야 합니다.   \n",
    "이미지의 비율을 변경하면 존재하지 않는 영역에 새로운 픽셀값을 매핑하거나 존재하는 픽셀들을 압축해서 새로운 값을 할당해야 합니다.   \n",
    "이를 이미지 상에 존재하는 픽셀 데이터들에 대해 근사 함수를 적용해서 새로운 픽셀 값을 구하는 것으로 이해할 수 있습니다.   \n",
    "그러므로, 추정해야 하는 픽셀은 보간법을 이용하여 픽셀들의 값을 할당합니다.\n",
    "* 이미지를 축소하려면 일반적으로 #INTER_AREA 보간을 사용하는 것이 가장 좋습니다.\n",
    "* 이미지를 확대하면 일반적으로 #INTER_CUBIC(느림) 또는 #INTER_LINEAR를 사용하는 것이 가장 좋습니다.\n",
    "![image.png](attachment:image.png)"
   ]
  },
  {
   "cell_type": "code",
   "execution_count": null,
   "metadata": {
    "ExecuteTime": {
     "end_time": "2023-11-08T07:10:23.480443Z",
     "start_time": "2023-11-08T07:10:23.475456Z"
    },
    "colab": {
     "base_uri": "https://localhost:8080/"
    },
    "executionInfo": {
     "elapsed": 327,
     "status": "ok",
     "timestamp": 1712622513181,
     "user": {
      "displayName": "맹광국",
      "userId": "00860531964279012518"
     },
     "user_tz": -540
    },
    "id": "GRm56JUafU9L",
    "outputId": "3d894207-1790-4e4e-816b-8dc360386263"
   },
   "outputs": [],
   "source": [
    "height, width, channel = image.shape\n",
    "height, width, channel"
   ]
  },
  {
   "cell_type": "code",
   "execution_count": null,
   "metadata": {
    "ExecuteTime": {
     "end_time": "2023-11-08T07:10:24.186546Z",
     "start_time": "2023-11-08T07:10:24.179927Z"
    },
    "executionInfo": {
     "elapsed": 325,
     "status": "ok",
     "timestamp": 1712622520974,
     "user": {
      "displayName": "맹광국",
      "userId": "00860531964279012518"
     },
     "user_tz": -540
    },
    "id": "Tamndq6ZfU9L",
    "scrolled": true
   },
   "outputs": [],
   "source": [
    "cv2.resize?"
   ]
  },
  {
   "cell_type": "code",
   "execution_count": null,
   "metadata": {
    "ExecuteTime": {
     "end_time": "2023-11-08T07:10:28.636902Z",
     "start_time": "2023-11-08T07:10:28.217891Z"
    },
    "colab": {
     "base_uri": "https://localhost:8080/",
     "height": 392
    },
    "executionInfo": {
     "elapsed": 1236,
     "status": "ok",
     "timestamp": 1712622546756,
     "user": {
      "displayName": "맹광국",
      "userId": "00860531964279012518"
     },
     "user_tz": -540
    },
    "id": "FIFiakXuUkHk",
    "outputId": "58ef5eae-fd39-43b6-967e-040b84361336"
   },
   "outputs": [],
   "source": [
    "# 크기 조절\n",
    "dst = cv2.resize(image, dsize=(320,187), interpolation=cv2.INTER_AREA) #interpolation 보간\n",
    "imginfo(dst)\n",
    "plt.imshow(dst)"
   ]
  },
  {
   "cell_type": "code",
   "execution_count": null,
   "metadata": {
    "ExecuteTime": {
     "end_time": "2023-11-08T07:10:56.486172Z",
     "start_time": "2023-11-08T07:10:56.123887Z"
    },
    "colab": {
     "base_uri": "https://localhost:8080/",
     "height": 472
    },
    "executionInfo": {
     "elapsed": 1192,
     "status": "ok",
     "timestamp": 1712622564987,
     "user": {
      "displayName": "맹광국",
      "userId": "00860531964279012518"
     },
     "user_tz": -540
    },
    "id": "SnoE6EOzU2EF",
    "outputId": "68f2a6fb-6ea1-4a54-aeb2-d2dd281c940c"
   },
   "outputs": [],
   "source": [
    "# 크기 조절\n",
    "dst = cv2.resize(image, dsize=(0,0), fx=0.3, fy=0.7, interpolation=cv2.INTER_LINEAR) # X축기준으로 30%, Y축 기준으로 70% 크기 조절, dzie(0,0)하면 비율 적용\n",
    "imginfo(dst)\n",
    "plt.imshow(dst)"
   ]
  },
  {
   "cell_type": "code",
   "execution_count": null,
   "metadata": {
    "ExecuteTime": {
     "end_time": "2023-11-08T07:11:09.496289Z",
     "start_time": "2023-11-08T07:11:08.278882Z"
    },
    "colab": {
     "base_uri": "https://localhost:8080/",
     "height": 574
    },
    "executionInfo": {
     "elapsed": 3092,
     "status": "ok",
     "timestamp": 1712622598269,
     "user": {
      "displayName": "맹광국",
      "userId": "00860531964279012518"
     },
     "user_tz": -540
    },
    "id": "N73x-KP0VZ2s",
    "outputId": "863dc387-6cd0-4288-ee5f-8bff2bc72c7c"
   },
   "outputs": [],
   "source": [
    "# 확대, 축소\n",
    "dst3 = cv2.pyrUp(image, dstsize=(width*2, height*2))\n",
    "plt.imshow(dst3)\n",
    "imginfo(dst3)\n",
    "plt.show"
   ]
  },
  {
   "cell_type": "code",
   "execution_count": null,
   "metadata": {
    "ExecuteTime": {
     "end_time": "2023-11-08T07:05:14.526022Z",
     "start_time": "2023-11-08T07:05:14.521945Z"
    },
    "id": "AMZy-lSgfU9N",
    "outputId": "986bcf1f-7a60-4383-99a6-7954da04c88f",
    "scrolled": true
   },
   "outputs": [],
   "source": [
    "cv2.pyrDown?"
   ]
  },
  {
   "cell_type": "code",
   "execution_count": null,
   "metadata": {
    "ExecuteTime": {
     "end_time": "2023-11-08T07:11:13.536652Z",
     "start_time": "2023-11-08T07:11:13.106674Z"
    },
    "colab": {
     "base_uri": "https://localhost:8080/",
     "height": 403
    },
    "executionInfo": {
     "elapsed": 1483,
     "status": "ok",
     "timestamp": 1712622783936,
     "user": {
      "displayName": "맹광국",
      "userId": "00860531964279012518"
     },
     "user_tz": -540
    },
    "id": "Tbbi1_w8Vw7l",
    "outputId": "4a560040-67ab-47aa-b37f-fcb0481d3570"
   },
   "outputs": [],
   "source": [
    "# 이미지 축소 메서드\n",
    "dst4 = cv2.pyrDown(image)\n",
    "plt.imshow(dst4)\n",
    "imginfo(dst4)\n",
    "plt.show()"
   ]
  },
  {
   "cell_type": "markdown",
   "metadata": {
    "id": "nzqNwz6jWzk8"
   },
   "source": [
    "## 자르기"
   ]
  },
  {
   "cell_type": "markdown",
   "metadata": {
    "id": "S0Avp7sbfU9O"
   },
   "source": [
    "![image.png](attachment:995d3a3b-98d0-409f-a578-7f49cffbffd3.png)"
   ]
  },
  {
   "cell_type": "code",
   "execution_count": null,
   "metadata": {
    "colab": {
     "base_uri": "https://localhost:8080/",
     "height": 404
    },
    "executionInfo": {
     "elapsed": 1484,
     "status": "ok",
     "timestamp": 1712622788913,
     "user": {
      "displayName": "맹광국",
      "userId": "00860531964279012518"
     },
     "user_tz": -540
    },
    "id": "gDgZnyg1fU9P",
    "outputId": "42127ab9-b314-4d6b-ec5e-a7f826cf83a7"
   },
   "outputs": [],
   "source": [
    "plt.imshow(image)\n",
    "imginfo(image)"
   ]
  },
  {
   "cell_type": "code",
   "execution_count": null,
   "metadata": {
    "ExecuteTime": {
     "end_time": "2023-11-08T07:08:16.667514Z",
     "start_time": "2023-11-08T07:08:16.362199Z"
    },
    "colab": {
     "base_uri": "https://localhost:8080/",
     "height": 374
    },
    "executionInfo": {
     "elapsed": 869,
     "status": "ok",
     "timestamp": 1712622798033,
     "user": {
      "displayName": "맹광국",
      "userId": "00860531964279012518"
     },
     "user_tz": -540
    },
    "id": "5eDB-qcPWB-B",
    "outputId": "4c167bba-7150-438d-f880-bd632aec6381"
   },
   "outputs": [],
   "source": [
    "dst5 = image[:375, :641]\n",
    "plt.imshow(dst5)"
   ]
  },
  {
   "cell_type": "code",
   "execution_count": null,
   "metadata": {
    "ExecuteTime": {
     "end_time": "2023-11-08T07:15:43.647088Z",
     "start_time": "2023-11-08T07:15:43.142131Z"
    },
    "id": "ULkI9NpUW4Jd",
    "outputId": "74789486-a6c1-4df2-eeac-dc2541864269"
   },
   "outputs": [],
   "source": [
    "# 가운데 중심점을 기준으로 50% 이미지 잘라내기\n",
    "# 가운데 중심점 : height/2, width/2 , 시작위치 : height/2 – height/4    ,  끝위치: height/2 + height/4를 계산\n",
    "#  image[y범위, x범위]\n",
    "\n",
    "dst6 = image[int(height/2-height/4) : int(height/2+height/4),         # y 범위\n",
    "             int(width/2-width/4)  : int(width/2+width/4)] # x범위\n",
    "plt.imshow(dst6)"
   ]
  },
  {
   "cell_type": "code",
   "execution_count": null,
   "metadata": {
    "ExecuteTime": {
     "end_time": "2023-11-08T07:18:09.592478Z",
     "start_time": "2023-11-08T07:18:08.885250Z"
    },
    "colab": {
     "base_uri": "https://localhost:8080/",
     "height": 453
    },
    "executionInfo": {
     "elapsed": 1226,
     "status": "ok",
     "timestamp": 1712623131508,
     "user": {
      "displayName": "맹광국",
      "userId": "00860531964279012518"
     },
     "user_tz": -540
    },
    "id": "DCbg4L0WfU9R",
    "outputId": "cc641af0-3083-443a-eb15-50b7f9f10e1a"
   },
   "outputs": [],
   "source": [
    "import tensorflow as tf\n",
    "# IMAGE CROP\n",
    "dst14 = tf.image.crop_to_bounding_box(image, 100, 200, 300, 400) # BOX좌표\n",
    "# offset_height(위에서 아래로 +100), offset_width(좌에서 우방향으로 +200), target_height(offset지점에서부터 높이+300), target_width(offset지점부터 +400)\n",
    "plt.imshow(dst14)"
   ]
  },
  {
   "cell_type": "markdown",
   "metadata": {
    "id": "Nk_L3cYyfU9R"
   },
   "source": [
    "## 이동"
   ]
  },
  {
   "cell_type": "code",
   "execution_count": null,
   "metadata": {
    "ExecuteTime": {
     "end_time": "2023-11-08T07:18:18.532823Z",
     "start_time": "2023-11-08T07:18:18.527754Z"
    },
    "colab": {
     "base_uri": "https://localhost:8080/"
    },
    "executionInfo": {
     "elapsed": 485,
     "status": "ok",
     "timestamp": 1712623136540,
     "user": {
      "displayName": "맹광국",
      "userId": "00860531964279012518"
     },
     "user_tz": -540
    },
    "id": "hV3PjcnRfU9R",
    "outputId": "ca7097a0-e6b1-4a6e-da70-8985f08e903f"
   },
   "outputs": [],
   "source": [
    "rows, cols, channels = image.shape\n",
    "image.shape"
   ]
  },
  {
   "cell_type": "code",
   "execution_count": null,
   "metadata": {
    "ExecuteTime": {
     "end_time": "2023-11-08T07:18:24.447238Z",
     "start_time": "2023-11-08T07:18:24.442775Z"
    },
    "id": "xdBNNp3GfU9S",
    "outputId": "9b147bc0-08cf-4b1f-8c49-330b3295f53e",
    "scrolled": true
   },
   "outputs": [],
   "source": [
    "cv2.warpAffine?"
   ]
  },
  {
   "cell_type": "code",
   "execution_count": null,
   "metadata": {
    "ExecuteTime": {
     "end_time": "2023-11-08T07:18:55.850356Z",
     "start_time": "2023-11-08T07:18:55.225303Z"
    },
    "colab": {
     "base_uri": "https://localhost:8080/",
     "height": 404
    },
    "executionInfo": {
     "elapsed": 1815,
     "status": "ok",
     "timestamp": 1712623146835,
     "user": {
      "displayName": "맹광국",
      "userId": "00860531964279012518"
     },
     "user_tz": -540
    },
    "id": "vgXscacPfU9T",
    "outputId": "af2bc7a2-fbce-46cf-9625-426def343e42"
   },
   "outputs": [],
   "source": [
    "rows, cols, channels = img.shape\n",
    "\n",
    "m = np.float32([[1,0,200],[0,1,100]]) # [x축 True, y축 false, 이동 200 ], [x축 false, y축 True, 이동 100]\n",
    "\n",
    "dst = cv2.warpAffine(img, m, (cols,rows))\n",
    "\n",
    "plt.imshow(dst)"
   ]
  },
  {
   "cell_type": "markdown",
   "metadata": {
    "id": "BybcCEwRfU9T"
   },
   "source": [
    "## 회전"
   ]
  },
  {
   "cell_type": "code",
   "execution_count": null,
   "metadata": {
    "ExecuteTime": {
     "end_time": "2023-11-08T07:20:56.882708Z",
     "start_time": "2023-11-08T07:20:56.877687Z"
    },
    "id": "JGORIXX3fU9T",
    "outputId": "00b4ab8b-7a50-4c3d-a5cf-a846786b289e",
    "scrolled": true
   },
   "outputs": [],
   "source": [
    "cv2.getRotationMatrix2D?"
   ]
  },
  {
   "cell_type": "code",
   "execution_count": null,
   "metadata": {
    "ExecuteTime": {
     "end_time": "2023-11-08T07:20:51.234543Z",
     "start_time": "2023-11-08T07:20:50.524505Z"
    },
    "colab": {
     "base_uri": "https://localhost:8080/",
     "height": 404
    },
    "executionInfo": {
     "elapsed": 824,
     "status": "ok",
     "timestamp": 1712623234959,
     "user": {
      "displayName": "맹광국",
      "userId": "00860531964279012518"
     },
     "user_tz": -540
    },
    "id": "K-7p5a1-fU9U",
    "outputId": "2f428278-28b2-4394-80b8-46ecc19baae4",
    "scrolled": true
   },
   "outputs": [],
   "source": [
    "# 중심점에서 30도 시계방향\n",
    "M = cv2.getRotationMatrix2D((cols/2, rows/2), -30, 1)\n",
    "\n",
    "rotate_30 = cv2.warpAffine(img, M, (cols,rows))\n",
    "\n",
    "plt.imshow(rotate_30)"
   ]
  },
  {
   "cell_type": "markdown",
   "metadata": {
    "id": "nJn5PjvGZEUM"
   },
   "source": [
    "## 흐리게, 선명하게\n",
    "이미지 또는 영상을 흐릿하게 만드는 원리는,   \n",
    "다음과 같은 kernel를 전체 이미지에 convolution을 돌림으로써, 커널 사이즈에 맞게 픽셀 평균값을 대입하는 것입니다.   \n",
    "즉, 특정 픽셀의 주변 값의 평균(또는 임의의 array 연산)값을 해당 픽셀에 넣는 것입니다.   \n",
    "2D Convolution kernel의 원리는 딥러닝에서도 CNN이라는 유명 알고리즘에 사용되는 동일한 방식입니다.   \n",
    "그 만큼 많이 쓰이면서도 단순한 원리입니다.\n",
    "![image.png](attachment:image.png)\n",
    "![image-4.png](attachment:image-4.png)\n",
    "![image-5.png](attachment:image-5.png)"
   ]
  },
  {
   "cell_type": "code",
   "execution_count": null,
   "metadata": {
    "ExecuteTime": {
     "end_time": "2023-11-08T07:30:32.878947Z",
     "start_time": "2023-11-08T07:30:32.875299Z"
    },
    "id": "d3jTvscwfU9U",
    "outputId": "da213a12-3872-4009-ca2c-da4e6fbe44a2",
    "scrolled": true
   },
   "outputs": [],
   "source": [
    "cv2.blur?"
   ]
  },
  {
   "cell_type": "code",
   "execution_count": null,
   "metadata": {
    "ExecuteTime": {
     "end_time": "2023-11-08T07:30:17.748604Z",
     "start_time": "2023-11-08T07:30:17.079422Z"
    },
    "colab": {
     "base_uri": "https://localhost:8080/",
     "height": 404
    },
    "executionInfo": {
     "elapsed": 2745,
     "status": "ok",
     "timestamp": 1712623295556,
     "user": {
      "displayName": "맹광국",
      "userId": "00860531964279012518"
     },
     "user_tz": -540
    },
    "id": "vx29F8P9YNxF",
    "outputId": "89642442-2397-4cfd-8849-1e390e85ee15"
   },
   "outputs": [],
   "source": [
    "dst7 = cv2.blur(image, (20, 20)) # 값이 커질수록 더 흐려짐 , 필터의 컨벌루션\n",
    "plt.imshow(dst7)"
   ]
  },
  {
   "cell_type": "code",
   "execution_count": null,
   "metadata": {
    "ExecuteTime": {
     "end_time": "2023-11-08T07:32:47.599697Z",
     "start_time": "2023-11-08T07:32:47.014618Z"
    },
    "colab": {
     "base_uri": "https://localhost:8080/",
     "height": 404
    },
    "executionInfo": {
     "elapsed": 929,
     "status": "ok",
     "timestamp": 1712623444110,
     "user": {
      "displayName": "맹광국",
      "userId": "00860531964279012518"
     },
     "user_tz": -540
    },
    "id": "BkF8oWUEZIts",
    "outputId": "0bc2c1b3-84af-4fc2-f759-e27f2d152a80"
   },
   "outputs": [],
   "source": [
    "# 중앙값을 키워주는 형태의 마스크를 만든 후 적용하여 특징을 강조\n",
    "# sharpening ; 주변 pixel과의 차이를 극대화시켜 경계부분의 명암비를 증가시키는 작업\n",
    "# 주변부의 픽셀값을 감소시킬때, 강조될 강도를 mask중앙에 지정하고  주변부의 값을 줄여 총합이 1이 되도록 mask 생성\n",
    "kernel = np.array([ [-1, -1, -1], [-1, 9, -1], [-1, -1, -1]    ]) # 필터 ,\n",
    "dst8 = cv2.filter2D(image, -1, kernel) #두번째 인자인 depth은 출력영상의 데이터타입으로 default는 -1로 입력과 동일한 타입으로 출력\n",
    "plt.imshow(dst8)"
   ]
  },
  {
   "cell_type": "code",
   "execution_count": null,
   "metadata": {
    "ExecuteTime": {
     "end_time": "2023-11-08T07:32:54.643645Z",
     "start_time": "2023-11-08T07:32:52.690571Z"
    },
    "colab": {
     "base_uri": "https://localhost:8080/",
     "height": 230
    },
    "executionInfo": {
     "elapsed": 2884,
     "status": "ok",
     "timestamp": 1712623448628,
     "user": {
      "displayName": "맹광국",
      "userId": "00860531964279012518"
     },
     "user_tz": -540
    },
    "id": "4cWXaHLcZaes",
    "outputId": "768d8cfb-cc47-45a2-ff81-b10225d9ea3c"
   },
   "outputs": [],
   "source": [
    "fig, ax = plt.subplots(1, 3, figsize = (20, 10))\n",
    "ax[0].imshow(dst7)\n",
    "ax[1].imshow(image)\n",
    "ax[2].imshow(dst8)"
   ]
  },
  {
   "cell_type": "markdown",
   "metadata": {
    "id": "mar2HxwDZ8Dr"
   },
   "source": [
    "## 대칭"
   ]
  },
  {
   "cell_type": "code",
   "execution_count": null,
   "metadata": {
    "ExecuteTime": {
     "end_time": "2023-11-08T07:33:15.768574Z",
     "start_time": "2023-11-08T07:33:15.155731Z"
    },
    "colab": {
     "base_uri": "https://localhost:8080/",
     "height": 404
    },
    "executionInfo": {
     "elapsed": 1456,
     "status": "ok",
     "timestamp": 1712623464479,
     "user": {
      "displayName": "맹광국",
      "userId": "00860531964279012518"
     },
     "user_tz": -540
    },
    "id": "yEqeqrgnZhbN",
    "outputId": "1a5b28d6-1d98-4ad2-9c0c-e492894fa6e5"
   },
   "outputs": [],
   "source": [
    "# 상하 대칭\n",
    "dst9 = cv2.flip(image, 0)\n",
    "plt.imshow(dst9)"
   ]
  },
  {
   "cell_type": "code",
   "execution_count": null,
   "metadata": {
    "ExecuteTime": {
     "end_time": "2023-11-08T07:33:39.899097Z",
     "start_time": "2023-11-08T07:33:39.321000Z"
    },
    "colab": {
     "base_uri": "https://localhost:8080/",
     "height": 404
    },
    "executionInfo": {
     "elapsed": 1294,
     "status": "ok",
     "timestamp": 1712623469411,
     "user": {
      "displayName": "맹광국",
      "userId": "00860531964279012518"
     },
     "user_tz": -540
    },
    "id": "QCm7efExaB3k",
    "outputId": "70e9d25c-a278-429d-f998-7bf5c0caf587"
   },
   "outputs": [],
   "source": [
    "# 좌우 대칭\n",
    "dst10 = cv2.flip(image, 1)\n",
    "plt.imshow(dst10)"
   ]
  },
  {
   "cell_type": "code",
   "execution_count": null,
   "metadata": {
    "ExecuteTime": {
     "end_time": "2023-11-08T07:34:00.938053Z",
     "start_time": "2023-11-08T07:33:59.962753Z"
    },
    "colab": {
     "base_uri": "https://localhost:8080/",
     "height": 404
    },
    "executionInfo": {
     "elapsed": 1582,
     "status": "ok",
     "timestamp": 1712623476016,
     "user": {
      "displayName": "맹광국",
      "userId": "00860531964279012518"
     },
     "user_tz": -540
    },
    "id": "ICw_GopzfU9X",
    "outputId": "948f0124-ad36-4862-de4d-413b8db435c0"
   },
   "outputs": [],
   "source": [
    "import tensorflow as tf\n",
    "dst15 = tf.image.flip_left_right(image)\n",
    "plt.imshow(dst15)"
   ]
  },
  {
   "cell_type": "markdown",
   "metadata": {
    "id": "cQKBppM6cSHt"
   },
   "source": [
    "## 경계 추출, 엣지\n",
    "canny 알고리즘을 이용해서 경계를 추출합니다.    \n",
    "뒤의 숫자 개는 경계점을 정하는 값으로 클수록 엣지 추출값이 적어집니다.   \n",
    "앞의 숫자는 minVal로 이 수치가 적어지면 인근 엣지와 더 잘 연결됩니다.   \n",
    "뒤의 숫자는 maxvVal로 이 수치가 적어지면 엣지 추출이 많아집니다.   \n",
    "\n",
    "https://engineer-mole.tistory.com/243\n",
    "![image.png](attachment:image.png)"
   ]
  },
  {
   "cell_type": "code",
   "execution_count": null,
   "metadata": {
    "ExecuteTime": {
     "end_time": "2023-11-08T07:35:23.725796Z",
     "start_time": "2023-11-08T07:35:23.721074Z"
    },
    "executionInfo": {
     "elapsed": 414,
     "status": "ok",
     "timestamp": 1712623546393,
     "user": {
      "displayName": "맹광국",
      "userId": "00860531964279012518"
     },
     "user_tz": -540
    },
    "id": "u4XqTXWefU9Y",
    "scrolled": true
   },
   "outputs": [],
   "source": [
    "cv2.Canny?"
   ]
  },
  {
   "cell_type": "code",
   "execution_count": null,
   "metadata": {
    "ExecuteTime": {
     "end_time": "2023-11-08T07:35:55.517841Z",
     "start_time": "2023-11-08T07:35:55.046456Z"
    },
    "colab": {
     "base_uri": "https://localhost:8080/",
     "height": 404
    },
    "executionInfo": {
     "elapsed": 1179,
     "status": "ok",
     "timestamp": 1712623552515,
     "user": {
      "displayName": "맹광국",
      "userId": "00860531964279012518"
     },
     "user_tz": -540
    },
    "id": "vPHFFThSfU9Y",
    "outputId": "a08d23de-0bf9-4049-f944-e58796d4e501"
   },
   "outputs": [],
   "source": [
    "dst11 = cv2.Canny(image, 500, 500) # (src, 작아질수록 엣지가 연결이 더 잘됨 , 작아질수록 엣지추출이 많아짐)\n",
    "plt.imshow(dst11)"
   ]
  },
  {
   "cell_type": "code",
   "execution_count": null,
   "metadata": {
    "ExecuteTime": {
     "end_time": "2023-11-08T07:36:47.693501Z",
     "start_time": "2023-11-08T07:36:47.187322Z"
    },
    "colab": {
     "base_uri": "https://localhost:8080/",
     "height": 404
    },
    "executionInfo": {
     "elapsed": 849,
     "status": "ok",
     "timestamp": 1712623681259,
     "user": {
      "displayName": "맹광국",
      "userId": "00860531964279012518"
     },
     "user_tz": -540
    },
    "id": "Z8uB_X_iaF98",
    "outputId": "09c34966-1442-4ca5-e33a-b6f611f6d7e7"
   },
   "outputs": [],
   "source": [
    "dst11 = cv2.Canny(image, 50, 500)\n",
    "plt.imshow(dst11)"
   ]
  },
  {
   "cell_type": "code",
   "execution_count": null,
   "metadata": {
    "ExecuteTime": {
     "end_time": "2023-11-08T07:37:45.532974Z",
     "start_time": "2023-11-08T07:37:45.039636Z"
    },
    "colab": {
     "base_uri": "https://localhost:8080/",
     "height": 404
    },
    "executionInfo": {
     "elapsed": 934,
     "status": "ok",
     "timestamp": 1712623693914,
     "user": {
      "displayName": "맹광국",
      "userId": "00860531964279012518"
     },
     "user_tz": -540
    },
    "id": "-HJfOuDwfU9Z",
    "outputId": "ed4aeee0-3439-4c1d-8e44-30f4abdbfb99"
   },
   "outputs": [],
   "source": [
    "dst11 = cv2.Canny(image, 500, 50) #    (src, 작아질수록 엣지가 연결이 더 잘됨 , 작아질수록 엣지추출이 많아짐)\n",
    "plt.imshow(dst11)"
   ]
  },
  {
   "cell_type": "code",
   "execution_count": null,
   "metadata": {
    "ExecuteTime": {
     "end_time": "2023-11-08T07:38:10.953279Z",
     "start_time": "2023-11-08T07:38:10.386780Z"
    },
    "colab": {
     "base_uri": "https://localhost:8080/",
     "height": 404
    },
    "executionInfo": {
     "elapsed": 1346,
     "status": "ok",
     "timestamp": 1712623748579,
     "user": {
      "displayName": "맹광국",
      "userId": "00860531964279012518"
     },
     "user_tz": -540
    },
    "id": "8PeyJ88lfU9Z",
    "outputId": "a4e15929-4aea-4ff9-a3af-00a0f846989d"
   },
   "outputs": [],
   "source": [
    "dst11 = cv2.Canny(image, 100, 100)\n",
    "plt.imshow(dst11)"
   ]
  },
  {
   "cell_type": "markdown",
   "metadata": {
    "id": "4yP8VWSrfU9Z"
   },
   "source": [
    "## 이미지 저장"
   ]
  },
  {
   "cell_type": "code",
   "execution_count": null,
   "metadata": {
    "ExecuteTime": {
     "end_time": "2023-11-08T07:38:31.777514Z",
     "start_time": "2023-11-08T07:38:31.760458Z"
    },
    "colab": {
     "base_uri": "https://localhost:8080/"
    },
    "executionInfo": {
     "elapsed": 2,
     "status": "ok",
     "timestamp": 1712623768665,
     "user": {
      "displayName": "맹광국",
      "userId": "00860531964279012518"
     },
     "user_tz": -540
    },
    "id": "0bKnNJ9lXJ1N",
    "outputId": "b8363d2b-6bda-4134-c2f2-8eb73cceca85"
   },
   "outputs": [],
   "source": [
    "# 미변환하면 색상값이 BGR로 변경되므로 컨버팅 필요\n",
    "# 변환전\n",
    "cv2.imwrite('car_resize1.jpg', dst7)"
   ]
  },
  {
   "cell_type": "code",
   "execution_count": null,
   "metadata": {
    "ExecuteTime": {
     "end_time": "2023-11-08T07:40:04.850444Z",
     "start_time": "2023-11-08T07:40:04.837248Z"
    },
    "colab": {
     "base_uri": "https://localhost:8080/"
    },
    "executionInfo": {
     "elapsed": 9,
     "status": "ok",
     "timestamp": 1712623799176,
     "user": {
      "displayName": "맹광국",
      "userId": "00860531964279012518"
     },
     "user_tz": -540
    },
    "id": "6y6xfI4qX3Rk",
    "outputId": "a53aa451-5dc6-48a8-87a4-8f5b30c07945",
    "scrolled": true
   },
   "outputs": [],
   "source": [
    "# 변환 후\n",
    "dst7_BGR = cv2.cvtColor(dst7, cv2.COLOR_BGR2RGB)\n",
    "cv2.imwrite('car_resize2.jpg', dst7_BGR)"
   ]
  },
  {
   "cell_type": "markdown",
   "metadata": {
    "id": "bh0mi8CwfU9a"
   },
   "source": [
    "# 연습 문제\n",
    "* 다양한 처리기법을 포함한 랜덤 이미지 변환 함수를 만들어보세요.\n",
    "* image폴더 안에 있는 모든 이미지에 랜덤변환함수를 적용하여 result 폴더에 저장하세요"
   ]
  },
  {
   "cell_type": "code",
   "execution_count": null,
   "metadata": {
    "ExecuteTime": {
     "end_time": "2023-11-08T07:49:44.424600Z",
     "start_time": "2023-11-08T07:49:44.419609Z"
    },
    "colab": {
     "base_uri": "https://localhost:8080/"
    },
    "executionInfo": {
     "elapsed": 3,
     "status": "ok",
     "timestamp": 1712624282369,
     "user": {
      "displayName": "맹광국",
      "userId": "00860531964279012518"
     },
     "user_tz": -540
    },
    "id": "aE6Az9B6fU9b",
    "outputId": "af5bc72c-d690-4d1a-f38c-098e24d1cee9"
   },
   "outputs": [],
   "source": [
    "import os\n",
    "print(os.getcwd())\n",
    "print(os.listdir())"
   ]
  },
  {
   "cell_type": "code",
   "execution_count": null,
   "metadata": {
    "colab": {
     "base_uri": "https://localhost:8080/"
    },
    "executionInfo": {
     "elapsed": 422,
     "status": "ok",
     "timestamp": 1712624339017,
     "user": {
      "displayName": "맹광국",
      "userId": "00860531964279012518"
     },
     "user_tz": -540
    },
    "id": "B2OSRMpuXK-q",
    "outputId": "6d49bf1b-52cc-4f67-cbd7-3bf3cc052d6c"
   },
   "outputs": [],
   "source": [
    "os.chdir('/content/drive/MyDrive/Lecture/ESTsoft/WASSUP2기_교안/03_Data_Preprocessing/data')\n",
    "print(os.getcwd())"
   ]
  },
  {
   "cell_type": "code",
   "execution_count": null,
   "metadata": {
    "ExecuteTime": {
     "end_time": "2023-11-08T07:49:44.759732Z",
     "start_time": "2023-11-08T07:49:44.752719Z"
    },
    "colab": {
     "base_uri": "https://localhost:8080/"
    },
    "executionInfo": {
     "elapsed": 5,
     "status": "ok",
     "timestamp": 1712624365621,
     "user": {
      "displayName": "맹광국",
      "userId": "00860531964279012518"
     },
     "user_tz": -540
    },
    "id": "QZr4pDSIfU9b",
    "outputId": "af03bcc4-259a-49a3-e3fd-d2894c8d9cda",
    "scrolled": true
   },
   "outputs": [],
   "source": [
    "img_folder_list = os.listdir() # /content/drive/MyDrive/Lecture/ESTsoft/WASSUP2기_교안/03_Data_Preprocessing/data\n",
    "img_folder_list"
   ]
  },
  {
   "cell_type": "code",
   "execution_count": null,
   "metadata": {
    "ExecuteTime": {
     "end_time": "2023-11-08T07:49:45.144556Z",
     "start_time": "2023-11-08T07:49:45.136656Z"
    },
    "colab": {
     "base_uri": "https://localhost:8080/"
    },
    "executionInfo": {
     "elapsed": 399,
     "status": "ok",
     "timestamp": 1712624383137,
     "user": {
      "displayName": "맹광국",
      "userId": "00860531964279012518"
     },
     "user_tz": -540
    },
    "id": "jMGDcriwfU9b",
    "outputId": "75d94fe9-c4a7-4bfd-c04b-251427c563c1",
    "scrolled": true
   },
   "outputs": [],
   "source": [
    "import glob # 경로 가져오는 모듈\n",
    "img_path = glob.glob('*.jpg') # 이미지폴더내 모든 이미지파일 경로\n",
    "img_path"
   ]
  },
  {
   "cell_type": "code",
   "execution_count": null,
   "metadata": {
    "executionInfo": {
     "elapsed": 377,
     "status": "ok",
     "timestamp": 1712624846086,
     "user": {
      "displayName": "맹광국",
      "userId": "00860531964279012518"
     },
     "user_tz": -540
    },
    "id": "hLQalcUsfU9b"
   },
   "outputs": [],
   "source": [
    "# 파일명 잘라오기\n",
    "def file_name(path):\n",
    "    # name = path.split('\\\\')[1].split('.')[0]\n",
    "    name = path.split('.')[0]\n",
    "    return name"
   ]
  },
  {
   "cell_type": "code",
   "execution_count": null,
   "metadata": {
    "colab": {
     "base_uri": "https://localhost:8080/"
    },
    "executionInfo": {
     "elapsed": 3,
     "status": "ok",
     "timestamp": 1712624847296,
     "user": {
      "displayName": "맹광국",
      "userId": "00860531964279012518"
     },
     "user_tz": -540
    },
    "id": "h4FRmPlofU9c",
    "outputId": "fc31c71f-4343-4ea6-d8b8-467dfb9a78c0",
    "scrolled": true
   },
   "outputs": [],
   "source": [
    "for i in img_path:\n",
    "    print(file_name(i))"
   ]
  },
  {
   "cell_type": "code",
   "execution_count": null,
   "metadata": {
    "ExecuteTime": {
     "end_time": "2023-11-08T07:50:23.317296Z",
     "start_time": "2023-11-08T07:50:23.310739Z"
    },
    "executionInfo": {
     "elapsed": 426,
     "status": "ok",
     "timestamp": 1712624851479,
     "user": {
      "displayName": "맹광국",
      "userId": "00860531964279012518"
     },
     "user_tz": -540
    },
    "id": "dqTmro3LfU9c"
   },
   "outputs": [],
   "source": [
    "import random\n",
    "def rd_change(img):\n",
    "    rows, cols, channels = img.shape\n",
    "    rotate = random.randint(0,360)\n",
    "    x_shift = random.randint(-100,100)\n",
    "    y_shift = random.randint(-100,100)\n",
    "\n",
    "    # move\n",
    "    sm = np.float32([[1,0,x_shift],[0,1,y_shift]])\n",
    "    img = cv2.warpAffine(img,sm,(cols,rows))\n",
    "\n",
    "    # rotate\n",
    "    rm = cv2.getRotationMatrix2D((cols/2,rows/2),rotate,1)\n",
    "    img = cv2.warpAffine(img,rm,(cols,rows))\n",
    "\n",
    "    return img"
   ]
  },
  {
   "cell_type": "code",
   "execution_count": null,
   "metadata": {
    "executionInfo": {
     "elapsed": 5,
     "status": "ok",
     "timestamp": 1712624882695,
     "user": {
      "displayName": "맹광국",
      "userId": "00860531964279012518"
     },
     "user_tz": -540
    },
    "id": "N6XNsUt0fU9c"
   },
   "outputs": [],
   "source": [
    "# 파일명 잘라오기\n",
    "def file_name(path):\n",
    "    # name = path.split('\\\\')[1]\n",
    "    name = path.split('.')[0]\n",
    "    return name"
   ]
  },
  {
   "cell_type": "code",
   "execution_count": null,
   "metadata": {
    "ExecuteTime": {
     "end_time": "2023-11-08T07:50:32.320083Z",
     "start_time": "2023-11-08T07:50:30.041265Z"
    },
    "colab": {
     "base_uri": "https://localhost:8080/"
    },
    "executionInfo": {
     "elapsed": 21873,
     "status": "ok",
     "timestamp": 1712625081714,
     "user": {
      "displayName": "맹광국",
      "userId": "00860531964279012518"
     },
     "user_tz": -540
    },
    "id": "Wt-col9nfU9c",
    "outputId": "95f95030-6f5d-4985-d6f8-296f83f003a3",
    "tags": []
   },
   "outputs": [],
   "source": [
    "# 실행 및 이미지 저장\n",
    "import cv2\n",
    "import numpy as np\n",
    "# os.mkdir('result')\n",
    "\n",
    "num = 0\n",
    "for path in img_path:\n",
    "    img = cv2.imread(path)\n",
    "    rd_changed = rd_change(img)\n",
    "\n",
    "    name = file_name(path)\n",
    "    #cv2.imwrite('./result/'+name, rd_changed)\n",
    "    cv2.imwrite('./result/'+name+'.jpg', rd_changed)\n",
    "    num += 1\n",
    "    print(num, path, '변환 저장 완료')\n",
    "print('전체 이미지 변환 저장이 완료됐습니다.')"
   ]
  }
 ],
 "metadata": {
  "colab": {
   "provenance": []
  },
  "kernelspec": {
   "display_name": "Python 3 (ipykernel)",
   "language": "python",
   "name": "python3"
  },
  "language_info": {
   "codemirror_mode": {
    "name": "ipython",
    "version": 3
   },
   "file_extension": ".py",
   "mimetype": "text/x-python",
   "name": "python",
   "nbconvert_exporter": "python",
   "pygments_lexer": "ipython3",
   "version": "3.11.7"
  },
  "toc": {
   "base_numbering": 1,
   "nav_menu": {},
   "number_sections": true,
   "sideBar": true,
   "skip_h1_title": false,
   "title_cell": "Table of Contents",
   "title_sidebar": "Contents",
   "toc_cell": false,
   "toc_position": {
    "height": "calc(100% - 180px)",
    "left": "10px",
    "top": "150px",
    "width": "384px"
   },
   "toc_section_display": true,
   "toc_window_display": false
  },
  "varInspector": {
   "cols": {
    "lenName": 16,
    "lenType": 16,
    "lenVar": 40
   },
   "kernels_config": {
    "python": {
     "delete_cmd_postfix": "",
     "delete_cmd_prefix": "del ",
     "library": "var_list.py",
     "varRefreshCmd": "print(var_dic_list())"
    },
    "r": {
     "delete_cmd_postfix": ") ",
     "delete_cmd_prefix": "rm(",
     "library": "var_list.r",
     "varRefreshCmd": "cat(var_dic_list()) "
    }
   },
   "position": {
    "height": "209.844px",
    "left": "269px",
    "right": "20px",
    "top": "121px",
    "width": "669px"
   },
   "types_to_exclude": [
    "module",
    "function",
    "builtin_function_or_method",
    "instance",
    "_Feature"
   ],
   "window_display": false
  }
 },
 "nbformat": 4,
 "nbformat_minor": 4
}
