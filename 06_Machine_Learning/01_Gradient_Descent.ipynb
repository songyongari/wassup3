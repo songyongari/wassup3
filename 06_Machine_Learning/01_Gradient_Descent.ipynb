{
 "cells": [
  {
   "cell_type": "markdown",
   "metadata": {
    "id": "rERYNixnjUp-"
   },
   "source": [
    "# 경사 하강법(Gradient Descent)"
   ]
  },
  {
   "cell_type": "code",
   "execution_count": 3,
   "metadata": {
    "ExecuteTime": {
     "end_time": "2023-12-03T06:27:33.991763Z",
     "start_time": "2023-12-03T06:27:33.988760Z"
    },
    "executionInfo": {
     "elapsed": 24,
     "status": "ok",
     "timestamp": 1663913873165,
     "user": {
      "displayName": "이정구",
      "userId": "17400242557229223804"
     },
     "user_tz": -540
    },
    "id": "RbPgODpVzdHI",
    "tags": []
   },
   "outputs": [],
   "source": [
    "import warnings\n",
    "warnings.filterwarnings('ignore')"
   ]
  },
  {
   "cell_type": "markdown",
   "metadata": {
    "id": "97NN5qcXja8D"
   },
   "source": [
    "# Machine( ) 정의\n",
    "\n",
    "* numpy Package"
   ]
  },
  {
   "cell_type": "code",
   "execution_count": 6,
   "metadata": {
    "ExecuteTime": {
     "end_time": "2023-12-03T06:27:34.805078Z",
     "start_time": "2023-12-03T06:27:34.802059Z"
    },
    "executionInfo": {
     "elapsed": 23,
     "status": "ok",
     "timestamp": 1663913873165,
     "user": {
      "displayName": "이정구",
      "userId": "17400242557229223804"
     },
     "user_tz": -540
    },
    "id": "7WFfR0CMi2gt",
    "tags": []
   },
   "outputs": [],
   "source": [
    "import numpy as np"
   ]
  },
  {
   "cell_type": "markdown",
   "metadata": {
    "id": "kx7HH8f9k0BF"
   },
   "source": [
    "## def Machine( )"
   ]
  },
  {
   "cell_type": "code",
   "execution_count": 9,
   "metadata": {
    "ExecuteTime": {
     "end_time": "2023-12-03T06:27:35.933869Z",
     "start_time": "2023-12-03T06:27:35.930274Z"
    },
    "executionInfo": {
     "elapsed": 23,
     "status": "ok",
     "timestamp": 1663913873166,
     "user": {
      "displayName": "이정구",
      "userId": "17400242557229223804"
     },
     "user_tz": -540
    },
    "id": "HAcs151Qj_Gl",
    "tags": []
   },
   "outputs": [],
   "source": [
    "def Machine(x, w, b):\n",
    "    y_hat = (w * x) + b\n",
    "    return y_hat"
   ]
  },
  {
   "cell_type": "markdown",
   "metadata": {
    "id": "equzYcnpk4t3"
   },
   "source": [
    "## x, w, b 객체 임의 지정"
   ]
  },
  {
   "cell_type": "code",
   "execution_count": 12,
   "metadata": {
    "ExecuteTime": {
     "end_time": "2023-12-03T06:27:52.342301Z",
     "start_time": "2023-12-03T06:27:52.338311Z"
    },
    "executionInfo": {
     "elapsed": 23,
     "status": "ok",
     "timestamp": 1663913873166,
     "user": {
      "displayName": "이정구",
      "userId": "17400242557229223804"
     },
     "user_tz": -540
    },
    "id": "H1UOpmfskHrN",
    "tags": []
   },
   "outputs": [],
   "source": [
    "x = np.array([1, 3, 5, 7, 9])\n",
    "w = 2\n",
    "b = 1"
   ]
  },
  {
   "cell_type": "markdown",
   "metadata": {
    "id": "iCytCuWFk-kk"
   },
   "source": [
    "## Machine( ) 테스트"
   ]
  },
  {
   "cell_type": "code",
   "execution_count": 15,
   "metadata": {
    "ExecuteTime": {
     "end_time": "2023-12-03T06:27:53.171242Z",
     "start_time": "2023-12-03T06:27:53.162758Z"
    },
    "colab": {
     "base_uri": "https://localhost:8080/"
    },
    "executionInfo": {
     "elapsed": 22,
     "status": "ok",
     "timestamp": 1663913873166,
     "user": {
      "displayName": "이정구",
      "userId": "17400242557229223804"
     },
     "user_tz": -540
    },
    "id": "9cL_MPZ_kUZ4",
    "outputId": "3bd5960a-6212-4f25-c246-8d2a6eadd114",
    "tags": []
   },
   "outputs": [
    {
     "data": {
      "text/plain": [
       "array([ 3,  7, 11, 15, 19])"
      ]
     },
     "execution_count": 15,
     "metadata": {},
     "output_type": "execute_result"
    }
   ],
   "source": [
    "Machine(x, w, b)"
   ]
  },
  {
   "cell_type": "markdown",
   "metadata": {
    "id": "O_ZlpJPjmDAy"
   },
   "source": [
    "# Gradient( ) 정의\n",
    "* def Gradient( )"
   ]
  },
  {
   "cell_type": "code",
   "execution_count": 18,
   "metadata": {
    "ExecuteTime": {
     "end_time": "2023-12-03T08:45:16.743155Z",
     "start_time": "2023-12-03T08:45:16.729774Z"
    },
    "executionInfo": {
     "elapsed": 19,
     "status": "ok",
     "timestamp": 1663913873167,
     "user": {
      "displayName": "이정구",
      "userId": "17400242557229223804"
     },
     "user_tz": -540
    },
    "id": "HNgWgaxXmJWN",
    "tags": []
   },
   "outputs": [],
   "source": [
    "def Gradient(x, y, w, b):\n",
    "    y_hat = Machine(x, w, b)\n",
    "\n",
    "    dw = np.mean((y - y_hat) * (-2 * x)) # 편미분\n",
    "    db = np.mean((y - y_hat) * (-2)) # 편미분\n",
    "\n",
    "    return dw, db"
   ]
  },
  {
   "cell_type": "markdown",
   "metadata": {
    "id": "obtq3GHvAlP3"
   },
   "source": [
    "## Gradient( ) 테스트"
   ]
  },
  {
   "cell_type": "code",
   "execution_count": 26,
   "metadata": {
    "ExecuteTime": {
     "end_time": "2023-12-03T08:45:17.857302Z",
     "start_time": "2023-12-03T08:45:17.847624Z"
    },
    "executionInfo": {
     "elapsed": 18,
     "status": "ok",
     "timestamp": 1663913873167,
     "user": {
      "displayName": "이정구",
      "userId": "17400242557229223804"
     },
     "user_tz": -540
    },
    "id": "dopNJxl_mmmC",
    "tags": []
   },
   "outputs": [],
   "source": [
    "y = np.array([2, 4, 6, 8, 10])\n",
    "\n",
    "dw, db = Gradient(x, y, w, b)"
   ]
  },
  {
   "cell_type": "code",
   "execution_count": 28,
   "metadata": {
    "ExecuteTime": {
     "end_time": "2023-12-03T08:45:25.083553Z",
     "start_time": "2023-12-03T08:45:25.079924Z"
    },
    "colab": {
     "base_uri": "https://localhost:8080/"
    },
    "executionInfo": {
     "elapsed": 18,
     "status": "ok",
     "timestamp": 1663913873168,
     "user": {
      "displayName": "이정구",
      "userId": "17400242557229223804"
     },
     "user_tz": -540
    },
    "id": "4TuBqxL5ms0y",
    "outputId": "ff789ea1-0ab3-4e8d-a2b4-410308a278d6",
    "tags": []
   },
   "outputs": [
    {
     "name": "stdout",
     "output_type": "stream",
     "text": [
      "dw is  66.0\n",
      "db is  10.0\n"
     ]
    }
   ],
   "source": [
    "print('dw is ', dw) # 기울기 변화량\n",
    "print('db is ', db) # 절편 변화량"
   ]
  },
  {
   "cell_type": "markdown",
   "metadata": {
    "id": "kriXMDHXnNtH"
   },
   "source": [
    "# Learning( ) 정의\n",
    "* def Learning( )"
   ]
  },
  {
   "cell_type": "code",
   "execution_count": 31,
   "metadata": {
    "ExecuteTime": {
     "end_time": "2023-12-03T08:46:37.428213Z",
     "start_time": "2023-12-03T08:46:37.425191Z"
    },
    "executionInfo": {
     "elapsed": 16,
     "status": "ok",
     "timestamp": 1663913873168,
     "user": {
      "displayName": "이정구",
      "userId": "17400242557229223804"
     },
     "user_tz": -540
    },
    "id": "32gIDBJUnStp",
    "tags": []
   },
   "outputs": [],
   "source": [
    "def Learning(x, y, w, b, step):\n",
    "    dw, db = Gradient(x, y, w, b)\n",
    "    \n",
    "    uw = w - step * dw\n",
    "    ub = b - step * db\n",
    "    \n",
    "    return uw, ub"
   ]
  },
  {
   "cell_type": "markdown",
   "metadata": {
    "id": "YpD9p4GABAfc"
   },
   "source": [
    "## Learning( ) 테스트"
   ]
  },
  {
   "cell_type": "code",
   "execution_count": 34,
   "metadata": {
    "ExecuteTime": {
     "end_time": "2023-12-03T08:46:47.499833Z",
     "start_time": "2023-12-03T08:46:47.496075Z"
    },
    "executionInfo": {
     "elapsed": 15,
     "status": "ok",
     "timestamp": 1663913873168,
     "user": {
      "displayName": "이정구",
      "userId": "17400242557229223804"
     },
     "user_tz": -540
    },
    "id": "0fYKLNx-n8Uf",
    "tags": []
   },
   "outputs": [],
   "source": [
    "step = 0.05\n",
    "\n",
    "uw, ub = Learning(x, y, w, b, step)"
   ]
  },
  {
   "cell_type": "code",
   "execution_count": 36,
   "metadata": {
    "ExecuteTime": {
     "end_time": "2023-12-03T08:46:48.203609Z",
     "start_time": "2023-12-03T08:46:48.199944Z"
    },
    "colab": {
     "base_uri": "https://localhost:8080/"
    },
    "executionInfo": {
     "elapsed": 14,
     "status": "ok",
     "timestamp": 1663913873169,
     "user": {
      "displayName": "이정구",
      "userId": "17400242557229223804"
     },
     "user_tz": -540
    },
    "id": "07aKd6fAoBj_",
    "outputId": "11cead92-c75e-4089-c573-c41772724a63",
    "tags": []
   },
   "outputs": [
    {
     "name": "stdout",
     "output_type": "stream",
     "text": [
      "Updated_w is  -1.300\n",
      "Updated_b is  0.500\n"
     ]
    }
   ],
   "source": [
    "print('Updated_w is ', '%.3f' % uw)\n",
    "print('Updated_b is ', '%.3f' % ub)"
   ]
  },
  {
   "cell_type": "markdown",
   "metadata": {
    "id": "LAllev0opPwz"
   },
   "source": [
    "# testData.csv에 적용"
   ]
  },
  {
   "cell_type": "markdown",
   "metadata": {
    "id": "b9uLbsksBGhn"
   },
   "source": [
    "* pandas & matplotlib Packages"
   ]
  },
  {
   "cell_type": "code",
   "execution_count": 40,
   "metadata": {
    "ExecuteTime": {
     "end_time": "2023-12-03T08:47:20.269065Z",
     "start_time": "2023-12-03T08:47:18.831999Z"
    },
    "executionInfo": {
     "elapsed": 663,
     "status": "ok",
     "timestamp": 1663913873820,
     "user": {
      "displayName": "이정구",
      "userId": "17400242557229223804"
     },
     "user_tz": -540
    },
    "id": "tredQulNofEn",
    "tags": []
   },
   "outputs": [],
   "source": [
    "import pandas as pd\n",
    "import matplotlib.pyplot as plt"
   ]
  },
  {
   "cell_type": "markdown",
   "metadata": {
    "id": "lpj334qxBP0b"
   },
   "source": [
    "## Read testData.csv"
   ]
  },
  {
   "cell_type": "code",
   "execution_count": 43,
   "metadata": {
    "ExecuteTime": {
     "end_time": "2023-12-03T08:47:28.282698Z",
     "start_time": "2023-12-03T08:47:27.551844Z"
    },
    "executionInfo": {
     "elapsed": 33,
     "status": "ok",
     "timestamp": 1663913873822,
     "user": {
      "displayName": "이정구",
      "userId": "17400242557229223804"
     },
     "user_tz": -540
    },
    "id": "zSKfJXZjoIP_",
    "tags": []
   },
   "outputs": [],
   "source": [
    "url = 'https://raw.githubusercontent.com/rusita-ai/pyData/master/testData.csv'\n",
    "\n",
    "DATA = pd.read_csv(url)"
   ]
  },
  {
   "cell_type": "markdown",
   "metadata": {
    "id": "bJpHDWwMBdNO"
   },
   "source": [
    "## testData.csv Information"
   ]
  },
  {
   "cell_type": "code",
   "execution_count": 46,
   "metadata": {
    "ExecuteTime": {
     "end_time": "2023-12-03T08:48:44.856094Z",
     "start_time": "2023-12-03T08:48:44.847462Z"
    },
    "colab": {
     "base_uri": "https://localhost:8080/"
    },
    "executionInfo": {
     "elapsed": 33,
     "status": "ok",
     "timestamp": 1663913873823,
     "user": {
      "displayName": "이정구",
      "userId": "17400242557229223804"
     },
     "user_tz": -540
    },
    "id": "QZdbN293qIvF",
    "outputId": "cd3c4ffb-6065-44f2-e10e-82662e6fce41",
    "tags": []
   },
   "outputs": [
    {
     "name": "stdout",
     "output_type": "stream",
     "text": [
      "<class 'pandas.core.frame.DataFrame'>\n",
      "RangeIndex: 5000 entries, 0 to 4999\n",
      "Data columns (total 2 columns):\n",
      " #   Column   Non-Null Count  Dtype  \n",
      "---  ------   --------------  -----  \n",
      " 0   inputs   5000 non-null   float64\n",
      " 1   outputs  5000 non-null   float64\n",
      "dtypes: float64(2)\n",
      "memory usage: 78.3 KB\n"
     ]
    }
   ],
   "source": [
    "DATA.info()"
   ]
  },
  {
   "cell_type": "code",
   "execution_count": 48,
   "metadata": {
    "ExecuteTime": {
     "end_time": "2023-12-03T08:48:47.049039Z",
     "start_time": "2023-12-03T08:48:47.032158Z"
    },
    "colab": {
     "base_uri": "https://localhost:8080/",
     "height": 206
    },
    "executionInfo": {
     "elapsed": 727,
     "status": "ok",
     "timestamp": 1663913874539,
     "user": {
      "displayName": "이정구",
      "userId": "17400242557229223804"
     },
     "user_tz": -540
    },
    "id": "Et-rtH7gqQqO",
    "outputId": "e19a362c-18a9-4962-80ac-123f6f3a2c09",
    "tags": []
   },
   "outputs": [
    {
     "data": {
      "text/html": [
       "<div>\n",
       "<style scoped>\n",
       "    .dataframe tbody tr th:only-of-type {\n",
       "        vertical-align: middle;\n",
       "    }\n",
       "\n",
       "    .dataframe tbody tr th {\n",
       "        vertical-align: top;\n",
       "    }\n",
       "\n",
       "    .dataframe thead th {\n",
       "        text-align: right;\n",
       "    }\n",
       "</style>\n",
       "<table border=\"1\" class=\"dataframe\">\n",
       "  <thead>\n",
       "    <tr style=\"text-align: right;\">\n",
       "      <th></th>\n",
       "      <th>inputs</th>\n",
       "      <th>outputs</th>\n",
       "    </tr>\n",
       "  </thead>\n",
       "  <tbody>\n",
       "    <tr>\n",
       "      <th>0</th>\n",
       "      <td>0.2362</td>\n",
       "      <td>0.162367</td>\n",
       "    </tr>\n",
       "    <tr>\n",
       "      <th>1</th>\n",
       "      <td>0.9415</td>\n",
       "      <td>0.479356</td>\n",
       "    </tr>\n",
       "    <tr>\n",
       "      <th>2</th>\n",
       "      <td>0.3495</td>\n",
       "      <td>0.095733</td>\n",
       "    </tr>\n",
       "    <tr>\n",
       "      <th>3</th>\n",
       "      <td>0.3200</td>\n",
       "      <td>-0.111783</td>\n",
       "    </tr>\n",
       "    <tr>\n",
       "      <th>4</th>\n",
       "      <td>0.8335</td>\n",
       "      <td>0.386012</td>\n",
       "    </tr>\n",
       "  </tbody>\n",
       "</table>\n",
       "</div>"
      ],
      "text/plain": [
       "   inputs   outputs\n",
       "0  0.2362  0.162367\n",
       "1  0.9415  0.479356\n",
       "2  0.3495  0.095733\n",
       "3  0.3200 -0.111783\n",
       "4  0.8335  0.386012"
      ]
     },
     "execution_count": 48,
     "metadata": {},
     "output_type": "execute_result"
    }
   ],
   "source": [
    "DATA.head()"
   ]
  },
  {
   "cell_type": "markdown",
   "metadata": {
    "id": "EN0shyiHBlhx"
   },
   "source": [
    "## testData.csv Visualization\n",
    " - Distribution"
   ]
  },
  {
   "cell_type": "code",
   "execution_count": 51,
   "metadata": {
    "ExecuteTime": {
     "end_time": "2023-12-03T08:48:56.552699Z",
     "start_time": "2023-12-03T08:48:56.231531Z"
    },
    "colab": {
     "base_uri": "https://localhost:8080/",
     "height": 265
    },
    "executionInfo": {
     "elapsed": 36,
     "status": "ok",
     "timestamp": 1663913874540,
     "user": {
      "displayName": "이정구",
      "userId": "17400242557229223804"
     },
     "user_tz": -540
    },
    "id": "t-wCkffoqMVV",
    "outputId": "a4399021-5c50-4e56-a902-bb57dc3a45ee",
    "tags": []
   },
   "outputs": [
    {
     "data": {
      "image/png": "[encoded data removed]",
      "text/plain": [
       "<Figure size 640x480 with 1 Axes>"
      ]
     },
     "metadata": {},
     "output_type": "display_data"
    }
   ],
   "source": [
    "plt.scatter(DATA.inputs, DATA.outputs, s = 0.5)\n",
    "plt.show()"
   ]
  },
  {
   "cell_type": "markdown",
   "metadata": {
    "id": "xfAS4CXCBtCx"
   },
   "source": [
    "## 1500번 학습 실행"
   ]
  },
  {
   "cell_type": "code",
   "execution_count": 54,
   "metadata": {
    "ExecuteTime": {
     "end_time": "2023-12-03T08:49:24.002427Z",
     "start_time": "2023-12-03T08:49:23.999604Z"
    },
    "executionInfo": {
     "elapsed": 31,
     "status": "ok",
     "timestamp": 1663913874541,
     "user": {
      "displayName": "이정구",
      "userId": "17400242557229223804"
     },
     "user_tz": -540
    },
    "id": "X4qyJ6RuqrGb",
    "tags": []
   },
   "outputs": [],
   "source": [
    "w = 2\n",
    "b = 3\n",
    "step = 0.05 "
   ]
  },
  {
   "cell_type": "code",
   "execution_count": 56,
   "metadata": {
    "ExecuteTime": {
     "end_time": "2023-12-03T08:49:38.779145Z",
     "start_time": "2023-12-03T08:49:37.688276Z"
    },
    "executionInfo": {
     "elapsed": 956,
     "status": "ok",
     "timestamp": 1663913875467,
     "user": {
      "displayName": "이정구",
      "userId": "17400242557229223804"
     },
     "user_tz": -540
    },
    "id": "h7qxksCvq_N3",
    "tags": []
   },
   "outputs": [],
   "source": [
    "for i in range(0, 1500):\n",
    "    uw, ub = Learning(DATA.inputs, DATA.outputs, w, b, step)\n",
    "    w = uw\n",
    "    b = ub"
   ]
  },
  {
   "cell_type": "code",
   "execution_count": 57,
   "metadata": {
    "ExecuteTime": {
     "end_time": "2023-12-03T08:49:42.523295Z",
     "start_time": "2023-12-03T08:49:42.519829Z"
    },
    "colab": {
     "base_uri": "https://localhost:8080/"
    },
    "executionInfo": {
     "elapsed": 17,
     "status": "ok",
     "timestamp": 1663913875468,
     "user": {
      "displayName": "이정구",
      "userId": "17400242557229223804"
     },
     "user_tz": -540
    },
    "id": "t-mbdSworeDl",
    "outputId": "59d306b2-84af-4ae7-9a97-c7630b12d6cf",
    "tags": []
   },
   "outputs": [
    {
     "name": "stdout",
     "output_type": "stream",
     "text": [
      "Learned_w is  0.505\n",
      "Learned_b is  -0.170\n"
     ]
    }
   ],
   "source": [
    "print('Learned_w is ', '%.3f' % w)\n",
    "print('Learned_b is ', '%.3f' % b)"
   ]
  },
  {
   "cell_type": "markdown",
   "metadata": {
    "id": "EpDFjtOeB540"
   },
   "source": [
    "## 학습결과 회귀선 그리기"
   ]
  },
  {
   "cell_type": "code",
   "execution_count": 62,
   "metadata": {
    "ExecuteTime": {
     "end_time": "2023-12-03T08:49:59.027067Z",
     "start_time": "2023-12-03T08:49:58.887958Z"
    },
    "colab": {
     "base_uri": "https://localhost:8080/",
     "height": 265
    },
    "executionInfo": {
     "elapsed": 787,
     "status": "ok",
     "timestamp": 1663913876248,
     "user": {
      "displayName": "이정구",
      "userId": "17400242557229223804"
     },
     "user_tz": -540
    },
    "id": "IeL7N6tlr9bD",
    "outputId": "bad3eacf-315f-4ebd-c347-9f3f80f13a59",
    "tags": []
   },
   "outputs": [
    {
     "data": {
      "image/png": "[encoded data removed]",
      "text/plain": [
       "<Figure size 640x480 with 1 Axes>"
      ]
     },
     "metadata": {},
     "output_type": "display_data"
    }
   ],
   "source": [
    "X = np.linspace(0, 1, 100)\n",
    "Y = (w * X) + b\n",
    "\n",
    "plt.scatter(DATA.inputs, DATA.outputs, s = 0.3)\n",
    "plt.plot(X, Y, '-r', linewidth = 1.5)\n",
    "plt.show()"
   ]
  },
  {
   "cell_type": "markdown",
   "metadata": {
    "id": "gTVY6EO5-Um2"
   },
   "source": [
    "# Loss(MSE) Visualization"
   ]
  },
  {
   "cell_type": "markdown",
   "metadata": {
    "id": "gfnPOnzACTul"
   },
   "source": [
    "* Gradient( )에 MSE 추가"
   ]
  },
  {
   "cell_type": "code",
   "execution_count": 66,
   "metadata": {
    "ExecuteTime": {
     "end_time": "2023-12-03T08:50:37.147974Z",
     "start_time": "2023-12-03T08:50:37.143962Z"
    },
    "executionInfo": {
     "elapsed": 11,
     "status": "ok",
     "timestamp": 1663913876249,
     "user": {
      "displayName": "이정구",
      "userId": "17400242557229223804"
     },
     "user_tz": -540
    },
    "id": "G0auOOt0-Gig",
    "tags": []
   },
   "outputs": [],
   "source": [
    "def Gradient(x, y, w, b):\n",
    "    y_hat = Machine(x, w, b)\n",
    "    \n",
    "    dw = np.mean((y - y_hat) * (-2 * x))\n",
    "    db = np.mean((y - y_hat) * (-2))\n",
    "    MSE = np.mean((y - y_hat)**2)\n",
    "\n",
    "    return dw, db, MSE"
   ]
  },
  {
   "cell_type": "markdown",
   "metadata": {
    "id": "FCqfJNAoCZeC"
   },
   "source": [
    "## Learning( )에 MSE 추가"
   ]
  },
  {
   "cell_type": "code",
   "execution_count": 69,
   "metadata": {
    "ExecuteTime": {
     "end_time": "2023-12-03T08:50:57.675361Z",
     "start_time": "2023-12-03T08:50:57.671966Z"
    },
    "executionInfo": {
     "elapsed": 11,
     "status": "ok",
     "timestamp": 1663913876251,
     "user": {
      "displayName": "이정구",
      "userId": "17400242557229223804"
     },
     "user_tz": -540
    },
    "id": "tDz_UQmp-gjz",
    "tags": []
   },
   "outputs": [],
   "source": [
    "def Learning(x, y, w, b, step):\n",
    "    dw, db, MSE = Gradient(x, y, w, b)\n",
    "    \n",
    "    uw = w - step * dw\n",
    "    ub = b - step * db\n",
    "\n",
    "    return uw, ub, MSE"
   ]
  },
  {
   "cell_type": "markdown",
   "metadata": {
    "id": "KYzdb906CePg"
   },
   "source": [
    "## 1500번 학습 실행"
   ]
  },
  {
   "cell_type": "code",
   "execution_count": 72,
   "metadata": {
    "ExecuteTime": {
     "end_time": "2023-12-03T08:51:03.810587Z",
     "start_time": "2023-12-03T08:51:03.807811Z"
    },
    "executionInfo": {
     "elapsed": 11,
     "status": "ok",
     "timestamp": 1663913876252,
     "user": {
      "displayName": "이정구",
      "userId": "17400242557229223804"
     },
     "user_tz": -540
    },
    "id": "CxYtxjkU-2Zd",
    "tags": []
   },
   "outputs": [],
   "source": [
    "w = 2\n",
    "b = 3\n",
    "step = 0.001\n",
    "mse = []"
   ]
  },
  {
   "cell_type": "code",
   "execution_count": 74,
   "metadata": {
    "ExecuteTime": {
     "end_time": "2023-12-03T08:51:28.132964Z",
     "start_time": "2023-12-03T08:51:26.671895Z"
    },
    "executionInfo": {
     "elapsed": 1787,
     "status": "ok",
     "timestamp": 1663913878029,
     "user": {
      "displayName": "이정구",
      "userId": "17400242557229223804"
     },
     "user_tz": -540
    },
    "id": "DFikAENA-6-x",
    "tags": []
   },
   "outputs": [],
   "source": [
    "for i in range(0, 1500):\n",
    "    uw, ub, MSE = Learning(DATA.inputs, DATA.outputs, w, b, step)\n",
    "\n",
    "    w = uw\n",
    "    b = ub\n",
    "    mse.append(MSE)"
   ]
  },
  {
   "cell_type": "markdown",
   "metadata": {
    "id": "qtSDqgjkCich"
   },
   "source": [
    "## Loss(MSE) 감소 확인"
   ]
  },
  {
   "cell_type": "code",
   "execution_count": 76,
   "metadata": {
    "ExecuteTime": {
     "end_time": "2023-12-03T08:51:37.292087Z",
     "start_time": "2023-12-03T08:51:37.287812Z"
    },
    "colab": {
     "base_uri": "https://localhost:8080/"
    },
    "executionInfo": {
     "elapsed": 17,
     "status": "ok",
     "timestamp": 1663913878030,
     "user": {
      "displayName": "이정구",
      "userId": "17400242557229223804"
     },
     "user_tz": -540
    },
    "id": "fMr6RhmW_fEs",
    "outputId": "041625b2-5542-4e67-9d4b-343b31238d83",
    "tags": []
   },
   "outputs": [
    {
     "data": {
      "text/plain": [
       "[15.595575679087718,\n",
       " 15.51649361545252,\n",
       " 15.43781315527885,\n",
       " 15.359532259084672,\n",
       " 15.281648897745166,\n",
       " 15.204161052440112,\n",
       " 15.127066714601563,\n",
       " 15.050363885861781,\n",
       " 14.974050578001444,\n",
       " 14.8981248128981]"
      ]
     },
     "execution_count": 76,
     "metadata": {},
     "output_type": "execute_result"
    }
   ],
   "source": [
    "mse[0:10]"
   ]
  },
  {
   "cell_type": "code",
   "execution_count": 79,
   "metadata": {
    "ExecuteTime": {
     "end_time": "2023-12-03T08:52:04.371460Z",
     "start_time": "2023-12-03T08:52:04.239462Z"
    },
    "colab": {
     "base_uri": "https://localhost:8080/",
     "height": 265
    },
    "executionInfo": {
     "elapsed": 644,
     "status": "ok",
     "timestamp": 1663913878664,
     "user": {
      "displayName": "이정구",
      "userId": "17400242557229223804"
     },
     "user_tz": -540
    },
    "id": "HfaDtvIA_alg",
    "outputId": "08cd7d15-175d-4821-ca34-42cd74c1db97",
    "tags": []
   },
   "outputs": [
    {
     "data": {
      "image/png": "[encoded data removed]",
      "text/plain": [
       "<Figure size 640x480 with 1 Axes>"
      ]
     },
     "metadata": {},
     "output_type": "display_data"
    }
   ],
   "source": [
    "plt.plot(mse)\n",
    "plt.show()"
   ]
  },
  {
   "cell_type": "code",
   "execution_count": 81,
   "metadata": {
    "ExecuteTime": {
     "end_time": "2023-12-03T08:52:12.069804Z",
     "start_time": "2023-12-03T08:52:11.943693Z"
    },
    "colab": {
     "base_uri": "https://localhost:8080/",
     "height": 265
    },
    "executionInfo": {
     "elapsed": 53,
     "status": "ok",
     "timestamp": 1663913878671,
     "user": {
      "displayName": "이정구",
      "userId": "17400242557229223804"
     },
     "user_tz": -540
    },
    "id": "mklIss1h_qPr",
    "outputId": "588d7339-105c-4057-a8da-8331a6a1e535",
    "tags": []
   },
   "outputs": [
    {
     "data": {
      "image/png": "[encoded data removed]",
      "text/plain": [
       "<Figure size 640x480 with 1 Axes>"
      ]
     },
     "metadata": {},
     "output_type": "display_data"
    }
   ],
   "source": [
    "plt.plot(mse[0:50], '.')\n",
    "plt.show()"
   ]
  },
  {
   "cell_type": "code",
   "execution_count": 83,
   "metadata": {
    "ExecuteTime": {
     "end_time": "2023-12-03T08:52:22.575008Z",
     "start_time": "2023-12-03T08:52:22.456189Z"
    },
    "colab": {
     "base_uri": "https://localhost:8080/",
     "height": 265
    },
    "executionInfo": {
     "elapsed": 53,
     "status": "ok",
     "timestamp": 1663913878674,
     "user": {
      "displayName": "이정구",
      "userId": "17400242557229223804"
     },
     "user_tz": -540
    },
    "id": "xkQIZK5T_2Jp",
    "outputId": "b868b3e9-149f-4807-e63d-5f8523cc2811",
    "tags": []
   },
   "outputs": [
    {
     "data": {
      "image/png": "[encoded data removed]",
      "text/plain": [
       "<Figure size 640x480 with 1 Axes>"
      ]
     },
     "metadata": {},
     "output_type": "display_data"
    }
   ],
   "source": [
    "plt.plot(mse[1450:1500], '.')\n",
    "plt.show()"
   ]
  },
  {
   "cell_type": "markdown",
   "metadata": {
    "id": "DGERC1cNvZXJ"
   },
   "source": [
    "# The End"
   ]
  }
 ],
 "metadata": {
  "colab": {
   "collapsed_sections": [],
   "provenance": []
  },
  "kernelspec": {
   "display_name": "Python 3 (ipykernel)",
   "language": "python",
   "name": "python3"
  },
  "language_info": {
   "codemirror_mode": {
    "name": "ipython",
    "version": 3
   },
   "file_extension": ".py",
   "mimetype": "text/x-python",
   "name": "python",
   "nbconvert_exporter": "python",
   "pygments_lexer": "ipython3",
   "version": "3.11.7"
  },
  "toc": {
   "base_numbering": 1,
   "nav_menu": {},
   "number_sections": true,
   "sideBar": true,
   "skip_h1_title": false,
   "title_cell": "Table of Contents",
   "title_sidebar": "Contents",
   "toc_cell": false,
   "toc_position": {},
   "toc_section_display": true,
   "toc_window_display": false
  },
  "varInspector": {
   "cols": {
    "lenName": 16,
    "lenType": 16,
    "lenVar": 40
   },
   "kernels_config": {
    "python": {
     "delete_cmd_postfix": "",
     "delete_cmd_prefix": "del ",
     "library": "var_list.py",
     "varRefreshCmd": "print(var_dic_list())"
    },
    "r": {
     "delete_cmd_postfix": ") ",
     "delete_cmd_prefix": "rm(",
     "library": "var_list.r",
     "varRefreshCmd": "cat(var_dic_list()) "
    }
   },
   "types_to_exclude": [
    "module",
    "function",
    "builtin_function_or_method",
    "instance",
    "_Feature"
   ],
   "window_display": false
  }
 },
 "nbformat": 4,
 "nbformat_minor": 4
}
