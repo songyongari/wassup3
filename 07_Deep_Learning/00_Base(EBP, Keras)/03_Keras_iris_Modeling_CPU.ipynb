{
  "cells": [
    {
      "cell_type": "markdown",
      "metadata": {
        "id": "RMLHu3RZ5lWK"
      },
      "source": [
        "# Keras iris Modeling"
      ]
    },
    {
      "cell_type": "code",
      "execution_count": 1,
      "metadata": {
        "id": "RbPgODpVzdHI",
        "tags": []
      },
      "outputs": [],
      "source": [
        "import warnings\n",
        "warnings.filterwarnings('ignore')"
      ]
    },
    {
      "cell_type": "markdown",
      "metadata": {
        "id": "Z0vCjo566DU3"
      },
      "source": [
        "> ## 1) 실습용 데이터 설정\n",
        "\n",
        "* iris.csv"
      ]
    },
    {
      "cell_type": "code",
      "execution_count": 2,
      "metadata": {
        "id": "LfEBY4JwDS1i",
        "tags": []
      },
      "outputs": [],
      "source": [
        "import seaborn as sns\n",
        "\n",
        "iris = sns.load_dataset('iris')"
      ]
    },
    {
      "cell_type": "markdown",
      "metadata": {
        "id": "_2m1joqE6eEq"
      },
      "source": [
        "* pandas DataFrame"
      ]
    },
    {
      "cell_type": "code",
      "execution_count": 3,
      "metadata": {
        "colab": {
          "base_uri": "https://localhost:8080/"
        },
        "id": "F6MvmhtB53CS",
        "outputId": "7dcf924c-bec5-4e84-9f6c-f7db2a04ee4e",
        "tags": []
      },
      "outputs": [
        {
          "output_type": "stream",
          "name": "stdout",
          "text": [
            "<class 'pandas.core.frame.DataFrame'>\n",
            "RangeIndex: 150 entries, 0 to 149\n",
            "Data columns (total 5 columns):\n",
            " #   Column        Non-Null Count  Dtype  \n",
            "---  ------        --------------  -----  \n",
            " 0   sepal_length  150 non-null    float64\n",
            " 1   sepal_width   150 non-null    float64\n",
            " 2   petal_length  150 non-null    float64\n",
            " 3   petal_width   150 non-null    float64\n",
            " 4   species       150 non-null    object \n",
            "dtypes: float64(4), object(1)\n",
            "memory usage: 6.0+ KB\n"
          ]
        }
      ],
      "source": [
        "iris.info()"
      ]
    },
    {
      "cell_type": "code",
      "execution_count": 4,
      "metadata": {
        "colab": {
          "base_uri": "https://localhost:8080/",
          "height": 143
        },
        "id": "7l2ojjz_D39D",
        "outputId": "157655b5-cbd4-4445-e7f3-e092285a76e4",
        "tags": []
      },
      "outputs": [
        {
          "output_type": "execute_result",
          "data": {
            "text/plain": [
              "   sepal_length  sepal_width  petal_length  petal_width species\n",
              "0           5.1          3.5           1.4          0.2  setosa\n",
              "1           4.9          3.0           1.4          0.2  setosa\n",
              "2           4.7          3.2           1.3          0.2  setosa"
            ],
            "text/html": [
              "\n",
              "  <div id=\"df-730755b5-acf5-4751-b619-6cd2c0c94c0c\" class=\"colab-df-container\">\n",
              "    <div>\n",
              "<style scoped>\n",
              "    .dataframe tbody tr th:only-of-type {\n",
              "        vertical-align: middle;\n",
              "    }\n",
              "\n",
              "    .dataframe tbody tr th {\n",
              "        vertical-align: top;\n",
              "    }\n",
              "\n",
              "    .dataframe thead th {\n",
              "        text-align: right;\n",
              "    }\n",
              "</style>\n",
              "<table border=\"1\" class=\"dataframe\">\n",
              "  <thead>\n",
              "    <tr style=\"text-align: right;\">\n",
              "      <th></th>\n",
              "      <th>sepal_length</th>\n",
              "      <th>sepal_width</th>\n",
              "      <th>petal_length</th>\n",
              "      <th>petal_width</th>\n",
              "      <th>species</th>\n",
              "    </tr>\n",
              "  </thead>\n",
              "  <tbody>\n",
              "    <tr>\n",
              "      <th>0</th>\n",
              "      <td>5.1</td>\n",
              "      <td>3.5</td>\n",
              "      <td>1.4</td>\n",
              "      <td>0.2</td>\n",
              "      <td>setosa</td>\n",
              "    </tr>\n",
              "    <tr>\n",
              "      <th>1</th>\n",
              "      <td>4.9</td>\n",
              "      <td>3.0</td>\n",
              "      <td>1.4</td>\n",
              "      <td>0.2</td>\n",
              "      <td>setosa</td>\n",
              "    </tr>\n",
              "    <tr>\n",
              "      <th>2</th>\n",
              "      <td>4.7</td>\n",
              "      <td>3.2</td>\n",
              "      <td>1.3</td>\n",
              "      <td>0.2</td>\n",
              "      <td>setosa</td>\n",
              "    </tr>\n",
              "  </tbody>\n",
              "</table>\n",
              "</div>\n",
              "    <div class=\"colab-df-buttons\">\n",
              "\n",
              "  <div class=\"colab-df-container\">\n",
              "    <button class=\"colab-df-convert\" onclick=\"convertToInteractive('df-730755b5-acf5-4751-b619-6cd2c0c94c0c')\"\n",
              "            title=\"Convert this dataframe to an interactive table.\"\n",
              "            style=\"display:none;\">\n",
              "\n",
              "  <svg xmlns=\"http://www.w3.org/2000/svg\" height=\"24px\" viewBox=\"0 -960 960 960\">\n",
              "    <path d=\"M120-120v-720h720v720H120Zm60-500h600v-160H180v160Zm220 220h160v-160H400v160Zm0 220h160v-160H400v160ZM180-400h160v-160H180v160Zm440 0h160v-160H620v160ZM180-180h160v-160H180v160Zm440 0h160v-160H620v160Z\"/>\n",
              "  </svg>\n",
              "    </button>\n",
              "\n",
              "  <style>\n",
              "    .colab-df-container {\n",
              "      display:flex;\n",
              "      gap: 12px;\n",
              "    }\n",
              "\n",
              "    .colab-df-convert {\n",
              "      background-color: #E8F0FE;\n",
              "      border: none;\n",
              "      border-radius: 50%;\n",
              "      cursor: pointer;\n",
              "      display: none;\n",
              "      fill: #1967D2;\n",
              "      height: 32px;\n",
              "      padding: 0 0 0 0;\n",
              "      width: 32px;\n",
              "    }\n",
              "\n",
              "    .colab-df-convert:hover {\n",
              "      background-color: #E2EBFA;\n",
              "      box-shadow: 0px 1px 2px rgba(60, 64, 67, 0.3), 0px 1px 3px 1px rgba(60, 64, 67, 0.15);\n",
              "      fill: #174EA6;\n",
              "    }\n",
              "\n",
              "    .colab-df-buttons div {\n",
              "      margin-bottom: 4px;\n",
              "    }\n",
              "\n",
              "    [theme=dark] .colab-df-convert {\n",
              "      background-color: #3B4455;\n",
              "      fill: #D2E3FC;\n",
              "    }\n",
              "\n",
              "    [theme=dark] .colab-df-convert:hover {\n",
              "      background-color: #434B5C;\n",
              "      box-shadow: 0px 1px 3px 1px rgba(0, 0, 0, 0.15);\n",
              "      filter: drop-shadow(0px 1px 2px rgba(0, 0, 0, 0.3));\n",
              "      fill: #FFFFFF;\n",
              "    }\n",
              "  </style>\n",
              "\n",
              "    <script>\n",
              "      const buttonEl =\n",
              "        document.querySelector('#df-730755b5-acf5-4751-b619-6cd2c0c94c0c button.colab-df-convert');\n",
              "      buttonEl.style.display =\n",
              "        google.colab.kernel.accessAllowed ? 'block' : 'none';\n",
              "\n",
              "      async function convertToInteractive(key) {\n",
              "        const element = document.querySelector('#df-730755b5-acf5-4751-b619-6cd2c0c94c0c');\n",
              "        const dataTable =\n",
              "          await google.colab.kernel.invokeFunction('convertToInteractive',\n",
              "                                                    [key], {});\n",
              "        if (!dataTable) return;\n",
              "\n",
              "        const docLinkHtml = 'Like what you see? Visit the ' +\n",
              "          '<a target=\"_blank\" href=https://colab.research.google.com/notebooks/data_table.ipynb>data table notebook</a>'\n",
              "          + ' to learn more about interactive tables.';\n",
              "        element.innerHTML = '';\n",
              "        dataTable['output_type'] = 'display_data';\n",
              "        await google.colab.output.renderOutput(dataTable, element);\n",
              "        const docLink = document.createElement('div');\n",
              "        docLink.innerHTML = docLinkHtml;\n",
              "        element.appendChild(docLink);\n",
              "      }\n",
              "    </script>\n",
              "  </div>\n",
              "\n",
              "\n",
              "<div id=\"df-4486a7b8-5b23-48af-8938-45ae32fc1c12\">\n",
              "  <button class=\"colab-df-quickchart\" onclick=\"quickchart('df-4486a7b8-5b23-48af-8938-45ae32fc1c12')\"\n",
              "            title=\"Suggest charts\"\n",
              "            style=\"display:none;\">\n",
              "\n",
              "<svg xmlns=\"http://www.w3.org/2000/svg\" height=\"24px\"viewBox=\"0 0 24 24\"\n",
              "     width=\"24px\">\n",
              "    <g>\n",
              "        <path d=\"M19 3H5c-1.1 0-2 .9-2 2v14c0 1.1.9 2 2 2h14c1.1 0 2-.9 2-2V5c0-1.1-.9-2-2-2zM9 17H7v-7h2v7zm4 0h-2V7h2v10zm4 0h-2v-4h2v4z\"/>\n",
              "    </g>\n",
              "</svg>\n",
              "  </button>\n",
              "\n",
              "<style>\n",
              "  .colab-df-quickchart {\n",
              "      --bg-color: #E8F0FE;\n",
              "      --fill-color: #1967D2;\n",
              "      --hover-bg-color: #E2EBFA;\n",
              "      --hover-fill-color: #174EA6;\n",
              "      --disabled-fill-color: #AAA;\n",
              "      --disabled-bg-color: #DDD;\n",
              "  }\n",
              "\n",
              "  [theme=dark] .colab-df-quickchart {\n",
              "      --bg-color: #3B4455;\n",
              "      --fill-color: #D2E3FC;\n",
              "      --hover-bg-color: #434B5C;\n",
              "      --hover-fill-color: #FFFFFF;\n",
              "      --disabled-bg-color: #3B4455;\n",
              "      --disabled-fill-color: #666;\n",
              "  }\n",
              "\n",
              "  .colab-df-quickchart {\n",
              "    background-color: var(--bg-color);\n",
              "    border: none;\n",
              "    border-radius: 50%;\n",
              "    cursor: pointer;\n",
              "    display: none;\n",
              "    fill: var(--fill-color);\n",
              "    height: 32px;\n",
              "    padding: 0;\n",
              "    width: 32px;\n",
              "  }\n",
              "\n",
              "  .colab-df-quickchart:hover {\n",
              "    background-color: var(--hover-bg-color);\n",
              "    box-shadow: 0 1px 2px rgba(60, 64, 67, 0.3), 0 1px 3px 1px rgba(60, 64, 67, 0.15);\n",
              "    fill: var(--button-hover-fill-color);\n",
              "  }\n",
              "\n",
              "  .colab-df-quickchart-complete:disabled,\n",
              "  .colab-df-quickchart-complete:disabled:hover {\n",
              "    background-color: var(--disabled-bg-color);\n",
              "    fill: var(--disabled-fill-color);\n",
              "    box-shadow: none;\n",
              "  }\n",
              "\n",
              "  .colab-df-spinner {\n",
              "    border: 2px solid var(--fill-color);\n",
              "    border-color: transparent;\n",
              "    border-bottom-color: var(--fill-color);\n",
              "    animation:\n",
              "      spin 1s steps(1) infinite;\n",
              "  }\n",
              "\n",
              "  @keyframes spin {\n",
              "    0% {\n",
              "      border-color: transparent;\n",
              "      border-bottom-color: var(--fill-color);\n",
              "      border-left-color: var(--fill-color);\n",
              "    }\n",
              "    20% {\n",
              "      border-color: transparent;\n",
              "      border-left-color: var(--fill-color);\n",
              "      border-top-color: var(--fill-color);\n",
              "    }\n",
              "    30% {\n",
              "      border-color: transparent;\n",
              "      border-left-color: var(--fill-color);\n",
              "      border-top-color: var(--fill-color);\n",
              "      border-right-color: var(--fill-color);\n",
              "    }\n",
              "    40% {\n",
              "      border-color: transparent;\n",
              "      border-right-color: var(--fill-color);\n",
              "      border-top-color: var(--fill-color);\n",
              "    }\n",
              "    60% {\n",
              "      border-color: transparent;\n",
              "      border-right-color: var(--fill-color);\n",
              "    }\n",
              "    80% {\n",
              "      border-color: transparent;\n",
              "      border-right-color: var(--fill-color);\n",
              "      border-bottom-color: var(--fill-color);\n",
              "    }\n",
              "    90% {\n",
              "      border-color: transparent;\n",
              "      border-bottom-color: var(--fill-color);\n",
              "    }\n",
              "  }\n",
              "</style>\n",
              "\n",
              "  <script>\n",
              "    async function quickchart(key) {\n",
              "      const quickchartButtonEl =\n",
              "        document.querySelector('#' + key + ' button');\n",
              "      quickchartButtonEl.disabled = true;  // To prevent multiple clicks.\n",
              "      quickchartButtonEl.classList.add('colab-df-spinner');\n",
              "      try {\n",
              "        const charts = await google.colab.kernel.invokeFunction(\n",
              "            'suggestCharts', [key], {});\n",
              "      } catch (error) {\n",
              "        console.error('Error during call to suggestCharts:', error);\n",
              "      }\n",
              "      quickchartButtonEl.classList.remove('colab-df-spinner');\n",
              "      quickchartButtonEl.classList.add('colab-df-quickchart-complete');\n",
              "    }\n",
              "    (() => {\n",
              "      let quickchartButtonEl =\n",
              "        document.querySelector('#df-4486a7b8-5b23-48af-8938-45ae32fc1c12 button');\n",
              "      quickchartButtonEl.style.display =\n",
              "        google.colab.kernel.accessAllowed ? 'block' : 'none';\n",
              "    })();\n",
              "  </script>\n",
              "</div>\n",
              "\n",
              "    </div>\n",
              "  </div>\n"
            ],
            "application/vnd.google.colaboratory.intrinsic+json": {
              "type": "dataframe",
              "variable_name": "iris",
              "summary": "{\n  \"name\": \"iris\",\n  \"rows\": 150,\n  \"fields\": [\n    {\n      \"column\": \"sepal_length\",\n      \"properties\": {\n        \"dtype\": \"number\",\n        \"std\": 0.828066127977863,\n        \"min\": 4.3,\n        \"max\": 7.9,\n        \"num_unique_values\": 35,\n        \"samples\": [\n          6.2,\n          4.5,\n          5.6\n        ],\n        \"semantic_type\": \"\",\n        \"description\": \"\"\n      }\n    },\n    {\n      \"column\": \"sepal_width\",\n      \"properties\": {\n        \"dtype\": \"number\",\n        \"std\": 0.4358662849366982,\n        \"min\": 2.0,\n        \"max\": 4.4,\n        \"num_unique_values\": 23,\n        \"samples\": [\n          2.3,\n          4.0,\n          3.5\n        ],\n        \"semantic_type\": \"\",\n        \"description\": \"\"\n      }\n    },\n    {\n      \"column\": \"petal_length\",\n      \"properties\": {\n        \"dtype\": \"number\",\n        \"std\": 1.7652982332594662,\n        \"min\": 1.0,\n        \"max\": 6.9,\n        \"num_unique_values\": 43,\n        \"samples\": [\n          6.7,\n          3.8,\n          3.7\n        ],\n        \"semantic_type\": \"\",\n        \"description\": \"\"\n      }\n    },\n    {\n      \"column\": \"petal_width\",\n      \"properties\": {\n        \"dtype\": \"number\",\n        \"std\": 0.7622376689603465,\n        \"min\": 0.1,\n        \"max\": 2.5,\n        \"num_unique_values\": 22,\n        \"samples\": [\n          0.2,\n          1.2,\n          1.3\n        ],\n        \"semantic_type\": \"\",\n        \"description\": \"\"\n      }\n    },\n    {\n      \"column\": \"species\",\n      \"properties\": {\n        \"dtype\": \"category\",\n        \"num_unique_values\": 3,\n        \"samples\": [\n          \"setosa\",\n          \"versicolor\",\n          \"virginica\"\n        ],\n        \"semantic_type\": \"\",\n        \"description\": \"\"\n      }\n    }\n  ]\n}"
            }
          },
          "metadata": {},
          "execution_count": 4
        }
      ],
      "source": [
        "iris.head(3)"
      ]
    },
    {
      "cell_type": "markdown",
      "metadata": {
        "id": "I2Forf0oXF8c"
      },
      "source": [
        "> ## 2) Version check"
      ]
    },
    {
      "cell_type": "markdown",
      "metadata": {
        "id": "uPaHtu9NOYaX"
      },
      "source": [
        "* TensorFlow Version"
      ]
    },
    {
      "cell_type": "code",
      "execution_count": 5,
      "metadata": {
        "colab": {
          "base_uri": "https://localhost:8080/",
          "height": 35
        },
        "id": "X6xKtsfgOTso",
        "outputId": "5b2a5558-992f-4a62-fb00-06d879ba4ae6",
        "tags": []
      },
      "outputs": [
        {
          "output_type": "execute_result",
          "data": {
            "text/plain": [
              "'2.15.0'"
            ],
            "application/vnd.google.colaboratory.intrinsic+json": {
              "type": "string"
            }
          },
          "metadata": {},
          "execution_count": 5
        }
      ],
      "source": [
        "import tensorflow\n",
        "\n",
        "tensorflow.__version__"
      ]
    },
    {
      "cell_type": "markdown",
      "metadata": {
        "id": "Ydu4ux7dOm2N"
      },
      "source": [
        "* Keras Version"
      ]
    },
    {
      "cell_type": "code",
      "execution_count": 6,
      "metadata": {
        "colab": {
          "base_uri": "https://localhost:8080/",
          "height": 35
        },
        "id": "zhMz9QSBOjTK",
        "outputId": "985c2188-4502-4a59-f06e-7a34dc05ff1e",
        "tags": []
      },
      "outputs": [
        {
          "output_type": "execute_result",
          "data": {
            "text/plain": [
              "'2.15.0'"
            ],
            "application/vnd.google.colaboratory.intrinsic+json": {
              "type": "string"
            }
          },
          "metadata": {},
          "execution_count": 6
        }
      ],
      "source": [
        "import keras\n",
        "\n",
        "keras.__version__"
      ]
    },
    {
      "cell_type": "markdown",
      "metadata": {
        "id": "0a9zRCoM6iHg"
      },
      "source": [
        "# I. Data Preprocessing"
      ]
    },
    {
      "cell_type": "markdown",
      "metadata": {
        "id": "WIq-NRIq659b"
      },
      "source": [
        "> ## 1) iris.Species 빈도분석"
      ]
    },
    {
      "cell_type": "markdown",
      "metadata": {
        "id": "sg3g1ycL0bj_"
      },
      "source": [
        "* Species : setosa, versicolor, virginica"
      ]
    },
    {
      "cell_type": "code",
      "execution_count": 7,
      "metadata": {
        "colab": {
          "base_uri": "https://localhost:8080/"
        },
        "id": "Ccv6L9LX6mBD",
        "outputId": "97dc1793-30f6-4b39-902b-249c01bb83a2",
        "tags": []
      },
      "outputs": [
        {
          "output_type": "execute_result",
          "data": {
            "text/plain": [
              "species\n",
              "setosa        50\n",
              "versicolor    50\n",
              "virginica     50\n",
              "Name: count, dtype: int64"
            ]
          },
          "metadata": {},
          "execution_count": 7
        }
      ],
      "source": [
        "iris.species.value_counts()"
      ]
    },
    {
      "cell_type": "markdown",
      "metadata": {
        "id": "JrKQmY9s7WzT"
      },
      "source": [
        "> ## 2) 분석 변수 선택\n",
        "\n",
        "* X: 'sepal_length', 'sepal_width', 'petal_length', 'petal_width'\n",
        "* y: 'species'"
      ]
    },
    {
      "cell_type": "code",
      "execution_count": 8,
      "metadata": {
        "colab": {
          "base_uri": "https://localhost:8080/"
        },
        "id": "tPJYM6B3Y64I",
        "outputId": "c711f9c3-8e6b-4b85-d4ce-6017988f85e5",
        "tags": []
      },
      "outputs": [
        {
          "output_type": "execute_result",
          "data": {
            "text/plain": [
              "((150, 4), (150,))"
            ]
          },
          "metadata": {},
          "execution_count": 8
        }
      ],
      "source": [
        "X = iris[['sepal_length', 'sepal_width', 'petal_length', 'petal_width']]\n",
        "y = iris['species']\n",
        "\n",
        "X.shape, y.shape"
      ]
    },
    {
      "cell_type": "markdown",
      "metadata": {
        "id": "lUx516tc8E6Q"
      },
      "source": [
        "> ## 3) One Hot Encoding with sklearn & Keras"
      ]
    },
    {
      "cell_type": "markdown",
      "metadata": {
        "id": "9lm5fWHmIgOd"
      },
      "source": [
        "* LabelEncoder( )\n",
        " - ['setosa', 'versicolor', 'virginica'] to [0, 1, 2]"
      ]
    },
    {
      "cell_type": "code",
      "execution_count": 9,
      "metadata": {
        "colab": {
          "base_uri": "https://localhost:8080/"
        },
        "id": "iFhNzeIMbXyV",
        "outputId": "f405fc42-d138-4854-ac9b-6e2122e5267a",
        "tags": []
      },
      "outputs": [
        {
          "output_type": "execute_result",
          "data": {
            "text/plain": [
              "array([0, 0, 0, 0, 0, 0, 0, 0, 0, 0, 0, 0, 0, 0, 0, 0, 0, 0, 0, 0, 0, 0,\n",
              "       0, 0, 0, 0, 0, 0, 0, 0, 0, 0, 0, 0, 0, 0, 0, 0, 0, 0, 0, 0, 0, 0,\n",
              "       0, 0, 0, 0, 0, 0, 1, 1, 1, 1, 1, 1, 1, 1, 1, 1, 1, 1, 1, 1, 1, 1,\n",
              "       1, 1, 1, 1, 1, 1, 1, 1, 1, 1, 1, 1, 1, 1, 1, 1, 1, 1, 1, 1, 1, 1,\n",
              "       1, 1, 1, 1, 1, 1, 1, 1, 1, 1, 1, 1, 2, 2, 2, 2, 2, 2, 2, 2, 2, 2,\n",
              "       2, 2, 2, 2, 2, 2, 2, 2, 2, 2, 2, 2, 2, 2, 2, 2, 2, 2, 2, 2, 2, 2,\n",
              "       2, 2, 2, 2, 2, 2, 2, 2, 2, 2, 2, 2, 2, 2, 2, 2, 2, 2])"
            ]
          },
          "metadata": {},
          "execution_count": 9
        }
      ],
      "source": [
        "from sklearn.preprocessing import LabelEncoder\n",
        "\n",
        "encoder =  LabelEncoder()\n",
        "LBE_y = encoder.fit_transform(y)\n",
        "\n",
        "LBE_y"
      ]
    },
    {
      "cell_type": "markdown",
      "metadata": {
        "id": "k7LEIdH3JAtw"
      },
      "source": [
        "* One-Hot Encoding - to_categorical( )"
      ]
    },
    {
      "cell_type": "code",
      "execution_count": 10,
      "metadata": {
        "colab": {
          "base_uri": "https://localhost:8080/"
        },
        "collapsed": true,
        "id": "hxdLQPuuZQ13",
        "jupyter": {
          "outputs_hidden": true
        },
        "outputId": "8f3e4743-e6e7-4097-a947-76c6e486b40e",
        "tags": []
      },
      "outputs": [
        {
          "output_type": "execute_result",
          "data": {
            "text/plain": [
              "array([[1., 0., 0.],\n",
              "       [1., 0., 0.],\n",
              "       [1., 0., 0.],\n",
              "       [1., 0., 0.],\n",
              "       [1., 0., 0.],\n",
              "       [1., 0., 0.],\n",
              "       [1., 0., 0.],\n",
              "       [1., 0., 0.],\n",
              "       [1., 0., 0.],\n",
              "       [1., 0., 0.],\n",
              "       [1., 0., 0.],\n",
              "       [1., 0., 0.],\n",
              "       [1., 0., 0.],\n",
              "       [1., 0., 0.],\n",
              "       [1., 0., 0.],\n",
              "       [1., 0., 0.],\n",
              "       [1., 0., 0.],\n",
              "       [1., 0., 0.],\n",
              "       [1., 0., 0.],\n",
              "       [1., 0., 0.],\n",
              "       [1., 0., 0.],\n",
              "       [1., 0., 0.],\n",
              "       [1., 0., 0.],\n",
              "       [1., 0., 0.],\n",
              "       [1., 0., 0.],\n",
              "       [1., 0., 0.],\n",
              "       [1., 0., 0.],\n",
              "       [1., 0., 0.],\n",
              "       [1., 0., 0.],\n",
              "       [1., 0., 0.],\n",
              "       [1., 0., 0.],\n",
              "       [1., 0., 0.],\n",
              "       [1., 0., 0.],\n",
              "       [1., 0., 0.],\n",
              "       [1., 0., 0.],\n",
              "       [1., 0., 0.],\n",
              "       [1., 0., 0.],\n",
              "       [1., 0., 0.],\n",
              "       [1., 0., 0.],\n",
              "       [1., 0., 0.],\n",
              "       [1., 0., 0.],\n",
              "       [1., 0., 0.],\n",
              "       [1., 0., 0.],\n",
              "       [1., 0., 0.],\n",
              "       [1., 0., 0.],\n",
              "       [1., 0., 0.],\n",
              "       [1., 0., 0.],\n",
              "       [1., 0., 0.],\n",
              "       [1., 0., 0.],\n",
              "       [1., 0., 0.],\n",
              "       [0., 1., 0.],\n",
              "       [0., 1., 0.],\n",
              "       [0., 1., 0.],\n",
              "       [0., 1., 0.],\n",
              "       [0., 1., 0.],\n",
              "       [0., 1., 0.],\n",
              "       [0., 1., 0.],\n",
              "       [0., 1., 0.],\n",
              "       [0., 1., 0.],\n",
              "       [0., 1., 0.],\n",
              "       [0., 1., 0.],\n",
              "       [0., 1., 0.],\n",
              "       [0., 1., 0.],\n",
              "       [0., 1., 0.],\n",
              "       [0., 1., 0.],\n",
              "       [0., 1., 0.],\n",
              "       [0., 1., 0.],\n",
              "       [0., 1., 0.],\n",
              "       [0., 1., 0.],\n",
              "       [0., 1., 0.],\n",
              "       [0., 1., 0.],\n",
              "       [0., 1., 0.],\n",
              "       [0., 1., 0.],\n",
              "       [0., 1., 0.],\n",
              "       [0., 1., 0.],\n",
              "       [0., 1., 0.],\n",
              "       [0., 1., 0.],\n",
              "       [0., 1., 0.],\n",
              "       [0., 1., 0.],\n",
              "       [0., 1., 0.],\n",
              "       [0., 1., 0.],\n",
              "       [0., 1., 0.],\n",
              "       [0., 1., 0.],\n",
              "       [0., 1., 0.],\n",
              "       [0., 1., 0.],\n",
              "       [0., 1., 0.],\n",
              "       [0., 1., 0.],\n",
              "       [0., 1., 0.],\n",
              "       [0., 1., 0.],\n",
              "       [0., 1., 0.],\n",
              "       [0., 1., 0.],\n",
              "       [0., 1., 0.],\n",
              "       [0., 1., 0.],\n",
              "       [0., 1., 0.],\n",
              "       [0., 1., 0.],\n",
              "       [0., 1., 0.],\n",
              "       [0., 1., 0.],\n",
              "       [0., 1., 0.],\n",
              "       [0., 1., 0.],\n",
              "       [0., 1., 0.],\n",
              "       [0., 0., 1.],\n",
              "       [0., 0., 1.],\n",
              "       [0., 0., 1.],\n",
              "       [0., 0., 1.],\n",
              "       [0., 0., 1.],\n",
              "       [0., 0., 1.],\n",
              "       [0., 0., 1.],\n",
              "       [0., 0., 1.],\n",
              "       [0., 0., 1.],\n",
              "       [0., 0., 1.],\n",
              "       [0., 0., 1.],\n",
              "       [0., 0., 1.],\n",
              "       [0., 0., 1.],\n",
              "       [0., 0., 1.],\n",
              "       [0., 0., 1.],\n",
              "       [0., 0., 1.],\n",
              "       [0., 0., 1.],\n",
              "       [0., 0., 1.],\n",
              "       [0., 0., 1.],\n",
              "       [0., 0., 1.],\n",
              "       [0., 0., 1.],\n",
              "       [0., 0., 1.],\n",
              "       [0., 0., 1.],\n",
              "       [0., 0., 1.],\n",
              "       [0., 0., 1.],\n",
              "       [0., 0., 1.],\n",
              "       [0., 0., 1.],\n",
              "       [0., 0., 1.],\n",
              "       [0., 0., 1.],\n",
              "       [0., 0., 1.],\n",
              "       [0., 0., 1.],\n",
              "       [0., 0., 1.],\n",
              "       [0., 0., 1.],\n",
              "       [0., 0., 1.],\n",
              "       [0., 0., 1.],\n",
              "       [0., 0., 1.],\n",
              "       [0., 0., 1.],\n",
              "       [0., 0., 1.],\n",
              "       [0., 0., 1.],\n",
              "       [0., 0., 1.],\n",
              "       [0., 0., 1.],\n",
              "       [0., 0., 1.],\n",
              "       [0., 0., 1.],\n",
              "       [0., 0., 1.],\n",
              "       [0., 0., 1.],\n",
              "       [0., 0., 1.],\n",
              "       [0., 0., 1.],\n",
              "       [0., 0., 1.],\n",
              "       [0., 0., 1.],\n",
              "       [0., 0., 1.]], dtype=float32)"
            ]
          },
          "metadata": {},
          "execution_count": 10
        }
      ],
      "source": [
        "from tensorflow.keras.utils import to_categorical\n",
        "\n",
        "OHE_y = to_categorical(LBE_y)\n",
        "\n",
        "OHE_y"
      ]
    },
    {
      "cell_type": "markdown",
      "metadata": {
        "id": "8zievJ6A8dQc"
      },
      "source": [
        "> ## 4) train_test_split( )"
      ]
    },
    {
      "cell_type": "markdown",
      "metadata": {
        "id": "CT8iuCjxJdIn"
      },
      "source": [
        "* 7 : 3"
      ]
    },
    {
      "cell_type": "code",
      "execution_count": 11,
      "metadata": {
        "colab": {
          "base_uri": "https://localhost:8080/"
        },
        "id": "WIiSOik0dGct",
        "outputId": "c47a3e2f-d09f-4488-943a-7e1fb0559345",
        "tags": []
      },
      "outputs": [
        {
          "output_type": "execute_result",
          "data": {
            "text/plain": [
              "((105, 4), (45, 4), (105, 3), (45, 3))"
            ]
          },
          "metadata": {},
          "execution_count": 11
        }
      ],
      "source": [
        "from sklearn.model_selection import train_test_split\n",
        "\n",
        "X_train, X_test, y_train, y_test = train_test_split(X, OHE_y,\n",
        "                                                    test_size = 0.3,\n",
        "                                                    random_state = 2045)\n",
        "\n",
        "X_train.shape, X_test.shape, y_train.shape, y_test.shape"
      ]
    },
    {
      "cell_type": "code",
      "execution_count": 12,
      "metadata": {
        "tags": [],
        "colab": {
          "base_uri": "https://localhost:8080/",
          "height": 206
        },
        "id": "9Tyvim3DQVWH",
        "outputId": "ee4c268e-a985-4c22-aaea-49fad0133c40"
      },
      "outputs": [
        {
          "output_type": "execute_result",
          "data": {
            "text/plain": [
              "     sepal_length  sepal_width  petal_length  petal_width\n",
              "40            5.0          3.5           1.3          0.3\n",
              "83            6.0          2.7           5.1          1.6\n",
              "110           6.5          3.2           5.1          2.0\n",
              "78            6.0          2.9           4.5          1.5\n",
              "93            5.0          2.3           3.3          1.0"
            ],
            "text/html": [
              "\n",
              "  <div id=\"df-65913007-7622-4c16-93ce-74cf6fbdad81\" class=\"colab-df-container\">\n",
              "    <div>\n",
              "<style scoped>\n",
              "    .dataframe tbody tr th:only-of-type {\n",
              "        vertical-align: middle;\n",
              "    }\n",
              "\n",
              "    .dataframe tbody tr th {\n",
              "        vertical-align: top;\n",
              "    }\n",
              "\n",
              "    .dataframe thead th {\n",
              "        text-align: right;\n",
              "    }\n",
              "</style>\n",
              "<table border=\"1\" class=\"dataframe\">\n",
              "  <thead>\n",
              "    <tr style=\"text-align: right;\">\n",
              "      <th></th>\n",
              "      <th>sepal_length</th>\n",
              "      <th>sepal_width</th>\n",
              "      <th>petal_length</th>\n",
              "      <th>petal_width</th>\n",
              "    </tr>\n",
              "  </thead>\n",
              "  <tbody>\n",
              "    <tr>\n",
              "      <th>40</th>\n",
              "      <td>5.0</td>\n",
              "      <td>3.5</td>\n",
              "      <td>1.3</td>\n",
              "      <td>0.3</td>\n",
              "    </tr>\n",
              "    <tr>\n",
              "      <th>83</th>\n",
              "      <td>6.0</td>\n",
              "      <td>2.7</td>\n",
              "      <td>5.1</td>\n",
              "      <td>1.6</td>\n",
              "    </tr>\n",
              "    <tr>\n",
              "      <th>110</th>\n",
              "      <td>6.5</td>\n",
              "      <td>3.2</td>\n",
              "      <td>5.1</td>\n",
              "      <td>2.0</td>\n",
              "    </tr>\n",
              "    <tr>\n",
              "      <th>78</th>\n",
              "      <td>6.0</td>\n",
              "      <td>2.9</td>\n",
              "      <td>4.5</td>\n",
              "      <td>1.5</td>\n",
              "    </tr>\n",
              "    <tr>\n",
              "      <th>93</th>\n",
              "      <td>5.0</td>\n",
              "      <td>2.3</td>\n",
              "      <td>3.3</td>\n",
              "      <td>1.0</td>\n",
              "    </tr>\n",
              "  </tbody>\n",
              "</table>\n",
              "</div>\n",
              "    <div class=\"colab-df-buttons\">\n",
              "\n",
              "  <div class=\"colab-df-container\">\n",
              "    <button class=\"colab-df-convert\" onclick=\"convertToInteractive('df-65913007-7622-4c16-93ce-74cf6fbdad81')\"\n",
              "            title=\"Convert this dataframe to an interactive table.\"\n",
              "            style=\"display:none;\">\n",
              "\n",
              "  <svg xmlns=\"http://www.w3.org/2000/svg\" height=\"24px\" viewBox=\"0 -960 960 960\">\n",
              "    <path d=\"M120-120v-720h720v720H120Zm60-500h600v-160H180v160Zm220 220h160v-160H400v160Zm0 220h160v-160H400v160ZM180-400h160v-160H180v160Zm440 0h160v-160H620v160ZM180-180h160v-160H180v160Zm440 0h160v-160H620v160Z\"/>\n",
              "  </svg>\n",
              "    </button>\n",
              "\n",
              "  <style>\n",
              "    .colab-df-container {\n",
              "      display:flex;\n",
              "      gap: 12px;\n",
              "    }\n",
              "\n",
              "    .colab-df-convert {\n",
              "      background-color: #E8F0FE;\n",
              "      border: none;\n",
              "      border-radius: 50%;\n",
              "      cursor: pointer;\n",
              "      display: none;\n",
              "      fill: #1967D2;\n",
              "      height: 32px;\n",
              "      padding: 0 0 0 0;\n",
              "      width: 32px;\n",
              "    }\n",
              "\n",
              "    .colab-df-convert:hover {\n",
              "      background-color: #E2EBFA;\n",
              "      box-shadow: 0px 1px 2px rgba(60, 64, 67, 0.3), 0px 1px 3px 1px rgba(60, 64, 67, 0.15);\n",
              "      fill: #174EA6;\n",
              "    }\n",
              "\n",
              "    .colab-df-buttons div {\n",
              "      margin-bottom: 4px;\n",
              "    }\n",
              "\n",
              "    [theme=dark] .colab-df-convert {\n",
              "      background-color: #3B4455;\n",
              "      fill: #D2E3FC;\n",
              "    }\n",
              "\n",
              "    [theme=dark] .colab-df-convert:hover {\n",
              "      background-color: #434B5C;\n",
              "      box-shadow: 0px 1px 3px 1px rgba(0, 0, 0, 0.15);\n",
              "      filter: drop-shadow(0px 1px 2px rgba(0, 0, 0, 0.3));\n",
              "      fill: #FFFFFF;\n",
              "    }\n",
              "  </style>\n",
              "\n",
              "    <script>\n",
              "      const buttonEl =\n",
              "        document.querySelector('#df-65913007-7622-4c16-93ce-74cf6fbdad81 button.colab-df-convert');\n",
              "      buttonEl.style.display =\n",
              "        google.colab.kernel.accessAllowed ? 'block' : 'none';\n",
              "\n",
              "      async function convertToInteractive(key) {\n",
              "        const element = document.querySelector('#df-65913007-7622-4c16-93ce-74cf6fbdad81');\n",
              "        const dataTable =\n",
              "          await google.colab.kernel.invokeFunction('convertToInteractive',\n",
              "                                                    [key], {});\n",
              "        if (!dataTable) return;\n",
              "\n",
              "        const docLinkHtml = 'Like what you see? Visit the ' +\n",
              "          '<a target=\"_blank\" href=https://colab.research.google.com/notebooks/data_table.ipynb>data table notebook</a>'\n",
              "          + ' to learn more about interactive tables.';\n",
              "        element.innerHTML = '';\n",
              "        dataTable['output_type'] = 'display_data';\n",
              "        await google.colab.output.renderOutput(dataTable, element);\n",
              "        const docLink = document.createElement('div');\n",
              "        docLink.innerHTML = docLinkHtml;\n",
              "        element.appendChild(docLink);\n",
              "      }\n",
              "    </script>\n",
              "  </div>\n",
              "\n",
              "\n",
              "<div id=\"df-ba5f9b2a-238a-43d8-a61e-a7dd8b35e4fa\">\n",
              "  <button class=\"colab-df-quickchart\" onclick=\"quickchart('df-ba5f9b2a-238a-43d8-a61e-a7dd8b35e4fa')\"\n",
              "            title=\"Suggest charts\"\n",
              "            style=\"display:none;\">\n",
              "\n",
              "<svg xmlns=\"http://www.w3.org/2000/svg\" height=\"24px\"viewBox=\"0 0 24 24\"\n",
              "     width=\"24px\">\n",
              "    <g>\n",
              "        <path d=\"M19 3H5c-1.1 0-2 .9-2 2v14c0 1.1.9 2 2 2h14c1.1 0 2-.9 2-2V5c0-1.1-.9-2-2-2zM9 17H7v-7h2v7zm4 0h-2V7h2v10zm4 0h-2v-4h2v4z\"/>\n",
              "    </g>\n",
              "</svg>\n",
              "  </button>\n",
              "\n",
              "<style>\n",
              "  .colab-df-quickchart {\n",
              "      --bg-color: #E8F0FE;\n",
              "      --fill-color: #1967D2;\n",
              "      --hover-bg-color: #E2EBFA;\n",
              "      --hover-fill-color: #174EA6;\n",
              "      --disabled-fill-color: #AAA;\n",
              "      --disabled-bg-color: #DDD;\n",
              "  }\n",
              "\n",
              "  [theme=dark] .colab-df-quickchart {\n",
              "      --bg-color: #3B4455;\n",
              "      --fill-color: #D2E3FC;\n",
              "      --hover-bg-color: #434B5C;\n",
              "      --hover-fill-color: #FFFFFF;\n",
              "      --disabled-bg-color: #3B4455;\n",
              "      --disabled-fill-color: #666;\n",
              "  }\n",
              "\n",
              "  .colab-df-quickchart {\n",
              "    background-color: var(--bg-color);\n",
              "    border: none;\n",
              "    border-radius: 50%;\n",
              "    cursor: pointer;\n",
              "    display: none;\n",
              "    fill: var(--fill-color);\n",
              "    height: 32px;\n",
              "    padding: 0;\n",
              "    width: 32px;\n",
              "  }\n",
              "\n",
              "  .colab-df-quickchart:hover {\n",
              "    background-color: var(--hover-bg-color);\n",
              "    box-shadow: 0 1px 2px rgba(60, 64, 67, 0.3), 0 1px 3px 1px rgba(60, 64, 67, 0.15);\n",
              "    fill: var(--button-hover-fill-color);\n",
              "  }\n",
              "\n",
              "  .colab-df-quickchart-complete:disabled,\n",
              "  .colab-df-quickchart-complete:disabled:hover {\n",
              "    background-color: var(--disabled-bg-color);\n",
              "    fill: var(--disabled-fill-color);\n",
              "    box-shadow: none;\n",
              "  }\n",
              "\n",
              "  .colab-df-spinner {\n",
              "    border: 2px solid var(--fill-color);\n",
              "    border-color: transparent;\n",
              "    border-bottom-color: var(--fill-color);\n",
              "    animation:\n",
              "      spin 1s steps(1) infinite;\n",
              "  }\n",
              "\n",
              "  @keyframes spin {\n",
              "    0% {\n",
              "      border-color: transparent;\n",
              "      border-bottom-color: var(--fill-color);\n",
              "      border-left-color: var(--fill-color);\n",
              "    }\n",
              "    20% {\n",
              "      border-color: transparent;\n",
              "      border-left-color: var(--fill-color);\n",
              "      border-top-color: var(--fill-color);\n",
              "    }\n",
              "    30% {\n",
              "      border-color: transparent;\n",
              "      border-left-color: var(--fill-color);\n",
              "      border-top-color: var(--fill-color);\n",
              "      border-right-color: var(--fill-color);\n",
              "    }\n",
              "    40% {\n",
              "      border-color: transparent;\n",
              "      border-right-color: var(--fill-color);\n",
              "      border-top-color: var(--fill-color);\n",
              "    }\n",
              "    60% {\n",
              "      border-color: transparent;\n",
              "      border-right-color: var(--fill-color);\n",
              "    }\n",
              "    80% {\n",
              "      border-color: transparent;\n",
              "      border-right-color: var(--fill-color);\n",
              "      border-bottom-color: var(--fill-color);\n",
              "    }\n",
              "    90% {\n",
              "      border-color: transparent;\n",
              "      border-bottom-color: var(--fill-color);\n",
              "    }\n",
              "  }\n",
              "</style>\n",
              "\n",
              "  <script>\n",
              "    async function quickchart(key) {\n",
              "      const quickchartButtonEl =\n",
              "        document.querySelector('#' + key + ' button');\n",
              "      quickchartButtonEl.disabled = true;  // To prevent multiple clicks.\n",
              "      quickchartButtonEl.classList.add('colab-df-spinner');\n",
              "      try {\n",
              "        const charts = await google.colab.kernel.invokeFunction(\n",
              "            'suggestCharts', [key], {});\n",
              "      } catch (error) {\n",
              "        console.error('Error during call to suggestCharts:', error);\n",
              "      }\n",
              "      quickchartButtonEl.classList.remove('colab-df-spinner');\n",
              "      quickchartButtonEl.classList.add('colab-df-quickchart-complete');\n",
              "    }\n",
              "    (() => {\n",
              "      let quickchartButtonEl =\n",
              "        document.querySelector('#df-ba5f9b2a-238a-43d8-a61e-a7dd8b35e4fa button');\n",
              "      quickchartButtonEl.style.display =\n",
              "        google.colab.kernel.accessAllowed ? 'block' : 'none';\n",
              "    })();\n",
              "  </script>\n",
              "</div>\n",
              "\n",
              "    </div>\n",
              "  </div>\n"
            ],
            "application/vnd.google.colaboratory.intrinsic+json": {
              "type": "dataframe",
              "variable_name": "X_train",
              "summary": "{\n  \"name\": \"X_train\",\n  \"rows\": 105,\n  \"fields\": [\n    {\n      \"column\": \"sepal_length\",\n      \"properties\": {\n        \"dtype\": \"number\",\n        \"std\": 0.822339199018117,\n        \"min\": 4.3,\n        \"max\": 7.9,\n        \"num_unique_values\": 32,\n        \"samples\": [\n          6.9,\n          6.7,\n          6.8\n        ],\n        \"semantic_type\": \"\",\n        \"description\": \"\"\n      }\n    },\n    {\n      \"column\": \"sepal_width\",\n      \"properties\": {\n        \"dtype\": \"number\",\n        \"std\": 0.43566504255451716,\n        \"min\": 2.0,\n        \"max\": 4.2,\n        \"num_unique_values\": 22,\n        \"samples\": [\n          3.5,\n          3.3,\n          3.1\n        ],\n        \"semantic_type\": \"\",\n        \"description\": \"\"\n      }\n    },\n    {\n      \"column\": \"petal_length\",\n      \"properties\": {\n        \"dtype\": \"number\",\n        \"std\": 1.771273108503718,\n        \"min\": 1.0,\n        \"max\": 6.9,\n        \"num_unique_values\": 40,\n        \"samples\": [\n          3.9,\n          5.7,\n          5.8\n        ],\n        \"semantic_type\": \"\",\n        \"description\": \"\"\n      }\n    },\n    {\n      \"column\": \"petal_width\",\n      \"properties\": {\n        \"dtype\": \"number\",\n        \"std\": 0.7596533815321697,\n        \"min\": 0.1,\n        \"max\": 2.5,\n        \"num_unique_values\": 21,\n        \"samples\": [\n          0.3,\n          1.7,\n          0.4\n        ],\n        \"semantic_type\": \"\",\n        \"description\": \"\"\n      }\n    }\n  ]\n}"
            }
          },
          "metadata": {},
          "execution_count": 12
        }
      ],
      "source": [
        "X_train.head()"
      ]
    },
    {
      "cell_type": "markdown",
      "metadata": {
        "id": "_WuSRwBd8oxV"
      },
      "source": [
        "# II. Keras Modeling"
      ]
    },
    {
      "cell_type": "markdown",
      "metadata": {
        "id": "5RHmF1kr9heb"
      },
      "source": [
        "> ## 1) Keras models & layers import"
      ]
    },
    {
      "cell_type": "code",
      "execution_count": 13,
      "metadata": {
        "id": "K0DN73_6duqG",
        "tags": []
      },
      "outputs": [],
      "source": [
        "from tensorflow.keras import models\n",
        "from tensorflow.keras import layers"
      ]
    },
    {
      "cell_type": "markdown",
      "metadata": {
        "id": "-rDeiCMV-eKV"
      },
      "source": [
        "> ## 2) Model Define"
      ]
    },
    {
      "cell_type": "markdown",
      "metadata": {
        "id": "1ix6_3Tk-yWW"
      },
      "source": [
        "* 모델 신경망 구조 정의"
      ]
    },
    {
      "cell_type": "code",
      "execution_count": 14,
      "metadata": {
        "id": "DJ8uzQMSemA-",
        "tags": []
      },
      "outputs": [],
      "source": [
        "Model_iris = models.Sequential() # 순차적 모델\n",
        "\n",
        "# Dense = Fully Connected layer\n",
        "Model_iris.add(layers.Dense(16, activation = 'relu', input_shape = (4,)))\n",
        "Model_iris.add(layers.Dense(8, activation = 'relu'))\n",
        "Model_iris.add(layers.Dense(3, activation = 'softmax'))"
      ]
    },
    {
      "cell_type": "markdown",
      "metadata": {
        "id": "U0vAUcHx-zdW"
      },
      "source": [
        "* 모델 구조 확인\n",
        " - Layers & Parameters"
      ]
    },
    {
      "cell_type": "code",
      "execution_count": 15,
      "metadata": {
        "colab": {
          "base_uri": "https://localhost:8080/"
        },
        "id": "1sfOdgz2jQeM",
        "outputId": "81cc671c-6676-4308-eee1-9394edca01e8",
        "tags": []
      },
      "outputs": [
        {
          "output_type": "stream",
          "name": "stdout",
          "text": [
            "Model: \"sequential\"\n",
            "_________________________________________________________________\n",
            " Layer (type)                Output Shape              Param #   \n",
            "=================================================================\n",
            " dense (Dense)               (None, 16)                80        \n",
            "                                                                 \n",
            " dense_1 (Dense)             (None, 8)                 136       \n",
            "                                                                 \n",
            " dense_2 (Dense)             (None, 3)                 27        \n",
            "                                                                 \n",
            "=================================================================\n",
            "Total params: 243 (972.00 Byte)\n",
            "Trainable params: 243 (972.00 Byte)\n",
            "Non-trainable params: 0 (0.00 Byte)\n",
            "_________________________________________________________________\n"
          ]
        }
      ],
      "source": [
        "Model_iris.summary()"
      ]
    },
    {
      "cell_type": "markdown",
      "metadata": {
        "id": "j9nJ82S8TmOW"
      },
      "source": [
        "* 모델 레이어 시각화\n",
        "    - 파일로도 저장해준다."
      ]
    },
    {
      "cell_type": "code",
      "execution_count": 16,
      "metadata": {
        "colab": {
          "base_uri": "https://localhost:8080/",
          "height": 545
        },
        "id": "SqtCd2AuTWfv",
        "outputId": "4801d0d4-3581-4293-eea4-58df74f55c50",
        "tags": []
      },
      "outputs": [
        {
          "output_type": "execute_result",
          "data": {
            "image/png": "[encoded data removed]",
            "text/plain": [
              "<IPython.core.display.Image object>"
            ]
          },
          "metadata": {},
          "execution_count": 16
        }
      ],
      "source": [
        "from tensorflow.keras import utils\n",
        "\n",
        "utils.plot_model(Model_iris,\n",
        "                 show_shapes = True,\n",
        "                 show_dtype = True)"
      ]
    },
    {
      "cell_type": "markdown",
      "metadata": {
        "id": "3jTRDB6y-5Mx"
      },
      "source": [
        "> ## 3) Model Compile"
      ]
    },
    {
      "cell_type": "markdown",
      "metadata": {
        "id": "iixRFcKM_PUJ"
      },
      "source": [
        "* 모델 학습방법 설정"
      ]
    },
    {
      "cell_type": "code",
      "execution_count": 17,
      "metadata": {
        "id": "Qe9CXqyKjHhI",
        "tags": []
      },
      "outputs": [],
      "source": [
        "Model_iris.compile(loss = 'categorical_crossentropy',\n",
        "                   optimizer = 'adam',\n",
        "                   metrics = ['accuracy'])"
      ]
    },
    {
      "cell_type": "markdown",
      "metadata": {
        "id": "y7zLg_l4_BvM"
      },
      "source": [
        "> ## 4) Model Fit"
      ]
    },
    {
      "cell_type": "markdown",
      "metadata": {
        "id": "BLjGgSpG_UiT"
      },
      "source": [
        "* 모델 학습 수행"
      ]
    },
    {
      "cell_type": "code",
      "execution_count": 18,
      "metadata": {
        "collapsed": true,
        "jupyter": {
          "outputs_hidden": true
        },
        "tags": [],
        "id": "cZfa0-XXQVWK"
      },
      "outputs": [],
      "source": [
        "Model_iris.fit?"
      ]
    },
    {
      "cell_type": "code",
      "execution_count": 19,
      "metadata": {
        "colab": {
          "base_uri": "https://localhost:8080/"
        },
        "id": "1J-5DPpUjKPZ",
        "outputId": "5c3f1514-1826-4fa3-b1e6-a4cf6710992b",
        "tags": []
      },
      "outputs": [
        {
          "output_type": "stream",
          "name": "stdout",
          "text": [
            "Epoch 1/250\n",
            "15/15 [==============================] - 3s 52ms/step - loss: 1.2549 - accuracy: 0.3429 - val_loss: 1.2384 - val_accuracy: 0.3111\n",
            "Epoch 2/250\n",
            "15/15 [==============================] - 0s 11ms/step - loss: 1.1379 - accuracy: 0.3429 - val_loss: 1.1391 - val_accuracy: 0.3778\n",
            "Epoch 3/250\n",
            "15/15 [==============================] - 0s 7ms/step - loss: 1.0634 - accuracy: 0.4762 - val_loss: 1.0569 - val_accuracy: 0.5333\n",
            "Epoch 4/250\n",
            "15/15 [==============================] - 0s 9ms/step - loss: 1.0101 - accuracy: 0.3905 - val_loss: 0.9848 - val_accuracy: 0.3111\n",
            "Epoch 5/250\n",
            "15/15 [==============================] - 0s 10ms/step - loss: 0.9466 - accuracy: 0.4095 - val_loss: 0.9313 - val_accuracy: 0.5333\n",
            "Epoch 6/250\n",
            "15/15 [==============================] - 0s 11ms/step - loss: 0.9001 - accuracy: 0.6190 - val_loss: 0.8833 - val_accuracy: 0.6889\n",
            "Epoch 7/250\n",
            "15/15 [==============================] - 0s 11ms/step - loss: 0.8586 - accuracy: 0.7333 - val_loss: 0.8308 - val_accuracy: 0.8000\n",
            "Epoch 8/250\n",
            "15/15 [==============================] - 0s 17ms/step - loss: 0.8126 - accuracy: 0.8190 - val_loss: 0.7873 - val_accuracy: 0.8000\n",
            "Epoch 9/250\n",
            "15/15 [==============================] - 0s 7ms/step - loss: 0.7734 - accuracy: 0.6667 - val_loss: 0.7468 - val_accuracy: 0.6889\n",
            "Epoch 10/250\n",
            "15/15 [==============================] - 0s 6ms/step - loss: 0.7349 - accuracy: 0.6952 - val_loss: 0.7052 - val_accuracy: 0.7111\n",
            "Epoch 11/250\n",
            "15/15 [==============================] - 0s 6ms/step - loss: 0.6995 - accuracy: 0.6762 - val_loss: 0.6659 - val_accuracy: 0.7111\n",
            "Epoch 12/250\n",
            "15/15 [==============================] - 0s 8ms/step - loss: 0.6659 - accuracy: 0.7619 - val_loss: 0.6353 - val_accuracy: 0.8000\n",
            "Epoch 13/250\n",
            "15/15 [==============================] - 0s 14ms/step - loss: 0.6353 - accuracy: 0.7619 - val_loss: 0.6003 - val_accuracy: 0.8000\n",
            "Epoch 14/250\n",
            "15/15 [==============================] - 0s 13ms/step - loss: 0.6041 - accuracy: 0.8095 - val_loss: 0.5675 - val_accuracy: 0.8222\n",
            "Epoch 15/250\n",
            "15/15 [==============================] - 0s 10ms/step - loss: 0.5769 - accuracy: 0.7810 - val_loss: 0.5376 - val_accuracy: 0.7778\n",
            "Epoch 16/250\n",
            "15/15 [==============================] - 0s 17ms/step - loss: 0.5476 - accuracy: 0.8000 - val_loss: 0.5087 - val_accuracy: 0.8222\n",
            "Epoch 17/250\n",
            "15/15 [==============================] - 0s 15ms/step - loss: 0.5201 - accuracy: 0.8762 - val_loss: 0.4827 - val_accuracy: 0.8889\n",
            "Epoch 18/250\n",
            "15/15 [==============================] - 0s 25ms/step - loss: 0.4976 - accuracy: 0.9048 - val_loss: 0.4595 - val_accuracy: 0.9556\n",
            "Epoch 19/250\n",
            "15/15 [==============================] - 0s 18ms/step - loss: 0.4780 - accuracy: 0.8857 - val_loss: 0.4413 - val_accuracy: 0.8667\n",
            "Epoch 20/250\n",
            "15/15 [==============================] - 0s 24ms/step - loss: 0.4569 - accuracy: 0.8857 - val_loss: 0.4217 - val_accuracy: 0.9333\n",
            "Epoch 21/250\n",
            "15/15 [==============================] - 0s 27ms/step - loss: 0.4422 - accuracy: 0.9238 - val_loss: 0.4053 - val_accuracy: 0.9556\n",
            "Epoch 22/250\n",
            "15/15 [==============================] - 0s 15ms/step - loss: 0.4276 - accuracy: 0.9143 - val_loss: 0.3903 - val_accuracy: 0.9778\n",
            "Epoch 23/250\n",
            "15/15 [==============================] - 0s 10ms/step - loss: 0.4121 - accuracy: 0.9333 - val_loss: 0.3761 - val_accuracy: 0.9556\n",
            "Epoch 24/250\n",
            "15/15 [==============================] - 0s 11ms/step - loss: 0.3998 - accuracy: 0.9143 - val_loss: 0.3630 - val_accuracy: 0.9556\n",
            "Epoch 25/250\n",
            "15/15 [==============================] - 0s 9ms/step - loss: 0.3863 - accuracy: 0.9429 - val_loss: 0.3497 - val_accuracy: 0.9778\n",
            "Epoch 26/250\n",
            "15/15 [==============================] - 0s 9ms/step - loss: 0.3744 - accuracy: 0.9619 - val_loss: 0.3377 - val_accuracy: 0.9778\n",
            "Epoch 27/250\n",
            "15/15 [==============================] - 0s 8ms/step - loss: 0.3625 - accuracy: 0.9333 - val_loss: 0.3268 - val_accuracy: 0.9778\n",
            "Epoch 28/250\n",
            "15/15 [==============================] - 0s 6ms/step - loss: 0.3510 - accuracy: 0.9429 - val_loss: 0.3157 - val_accuracy: 0.9778\n",
            "Epoch 29/250\n",
            "15/15 [==============================] - 0s 7ms/step - loss: 0.3418 - accuracy: 0.9524 - val_loss: 0.3054 - val_accuracy: 0.9778\n",
            "Epoch 30/250\n",
            "15/15 [==============================] - 0s 9ms/step - loss: 0.3379 - accuracy: 0.9524 - val_loss: 0.2955 - val_accuracy: 0.9778\n",
            "Epoch 31/250\n",
            "15/15 [==============================] - 0s 7ms/step - loss: 0.3252 - accuracy: 0.9429 - val_loss: 0.2859 - val_accuracy: 0.9778\n",
            "Epoch 32/250\n",
            "15/15 [==============================] - 0s 11ms/step - loss: 0.3132 - accuracy: 0.9619 - val_loss: 0.2766 - val_accuracy: 0.9778\n",
            "Epoch 33/250\n",
            "15/15 [==============================] - 0s 14ms/step - loss: 0.3038 - accuracy: 0.9619 - val_loss: 0.2675 - val_accuracy: 0.9778\n",
            "Epoch 34/250\n",
            "15/15 [==============================] - 0s 11ms/step - loss: 0.2948 - accuracy: 0.9714 - val_loss: 0.2589 - val_accuracy: 0.9778\n",
            "Epoch 35/250\n",
            "15/15 [==============================] - 0s 8ms/step - loss: 0.2861 - accuracy: 0.9714 - val_loss: 0.2507 - val_accuracy: 0.9778\n",
            "Epoch 36/250\n",
            "15/15 [==============================] - 0s 7ms/step - loss: 0.2816 - accuracy: 0.9524 - val_loss: 0.2448 - val_accuracy: 0.9778\n",
            "Epoch 37/250\n",
            "15/15 [==============================] - 0s 11ms/step - loss: 0.2783 - accuracy: 0.9429 - val_loss: 0.2402 - val_accuracy: 0.9778\n",
            "Epoch 38/250\n",
            "15/15 [==============================] - 0s 7ms/step - loss: 0.2680 - accuracy: 0.9619 - val_loss: 0.2279 - val_accuracy: 0.9778\n",
            "Epoch 39/250\n",
            "15/15 [==============================] - 0s 8ms/step - loss: 0.2571 - accuracy: 0.9619 - val_loss: 0.2209 - val_accuracy: 0.9778\n",
            "Epoch 40/250\n",
            "15/15 [==============================] - 0s 14ms/step - loss: 0.2544 - accuracy: 0.9810 - val_loss: 0.2145 - val_accuracy: 0.9778\n",
            "Epoch 41/250\n",
            "15/15 [==============================] - 0s 9ms/step - loss: 0.2522 - accuracy: 0.9429 - val_loss: 0.2095 - val_accuracy: 0.9778\n",
            "Epoch 42/250\n",
            "15/15 [==============================] - 0s 7ms/step - loss: 0.2372 - accuracy: 0.9714 - val_loss: 0.2049 - val_accuracy: 0.9778\n",
            "Epoch 43/250\n",
            "15/15 [==============================] - 0s 7ms/step - loss: 0.2309 - accuracy: 0.9714 - val_loss: 0.1955 - val_accuracy: 0.9778\n",
            "Epoch 44/250\n",
            "15/15 [==============================] - 0s 7ms/step - loss: 0.2264 - accuracy: 0.9714 - val_loss: 0.1892 - val_accuracy: 0.9778\n",
            "Epoch 45/250\n",
            "15/15 [==============================] - 0s 7ms/step - loss: 0.2222 - accuracy: 0.9714 - val_loss: 0.1835 - val_accuracy: 0.9778\n",
            "Epoch 46/250\n",
            "15/15 [==============================] - 0s 6ms/step - loss: 0.2176 - accuracy: 0.9714 - val_loss: 0.1787 - val_accuracy: 1.0000\n",
            "Epoch 47/250\n",
            "15/15 [==============================] - 0s 6ms/step - loss: 0.2109 - accuracy: 0.9714 - val_loss: 0.1733 - val_accuracy: 0.9778\n",
            "Epoch 48/250\n",
            "15/15 [==============================] - 0s 7ms/step - loss: 0.2065 - accuracy: 0.9619 - val_loss: 0.1681 - val_accuracy: 0.9778\n",
            "Epoch 49/250\n",
            "15/15 [==============================] - 0s 6ms/step - loss: 0.2048 - accuracy: 0.9714 - val_loss: 0.1635 - val_accuracy: 0.9778\n",
            "Epoch 50/250\n",
            "15/15 [==============================] - 0s 7ms/step - loss: 0.1962 - accuracy: 0.9714 - val_loss: 0.1591 - val_accuracy: 0.9778\n",
            "Epoch 51/250\n",
            "15/15 [==============================] - 0s 6ms/step - loss: 0.1934 - accuracy: 0.9714 - val_loss: 0.1551 - val_accuracy: 0.9778\n",
            "Epoch 52/250\n",
            "15/15 [==============================] - 0s 6ms/step - loss: 0.1970 - accuracy: 0.9333 - val_loss: 0.1537 - val_accuracy: 0.9778\n",
            "Epoch 53/250\n",
            "15/15 [==============================] - 0s 7ms/step - loss: 0.1915 - accuracy: 0.9714 - val_loss: 0.1479 - val_accuracy: 0.9778\n",
            "Epoch 54/250\n",
            "15/15 [==============================] - 0s 7ms/step - loss: 0.1853 - accuracy: 0.9810 - val_loss: 0.1438 - val_accuracy: 1.0000\n",
            "Epoch 55/250\n",
            "15/15 [==============================] - 0s 8ms/step - loss: 0.1862 - accuracy: 0.9619 - val_loss: 0.1407 - val_accuracy: 0.9778\n",
            "Epoch 56/250\n",
            "15/15 [==============================] - 0s 6ms/step - loss: 0.1715 - accuracy: 0.9810 - val_loss: 0.1373 - val_accuracy: 1.0000\n",
            "Epoch 57/250\n",
            "15/15 [==============================] - 0s 6ms/step - loss: 0.1699 - accuracy: 0.9810 - val_loss: 0.1326 - val_accuracy: 1.0000\n",
            "Epoch 58/250\n",
            "15/15 [==============================] - 0s 6ms/step - loss: 0.1679 - accuracy: 0.9714 - val_loss: 0.1292 - val_accuracy: 1.0000\n",
            "Epoch 59/250\n",
            "15/15 [==============================] - 0s 7ms/step - loss: 0.1644 - accuracy: 0.9714 - val_loss: 0.1261 - val_accuracy: 1.0000\n",
            "Epoch 60/250\n",
            "15/15 [==============================] - 0s 6ms/step - loss: 0.1621 - accuracy: 0.9714 - val_loss: 0.1237 - val_accuracy: 1.0000\n",
            "Epoch 61/250\n",
            "15/15 [==============================] - 0s 6ms/step - loss: 0.1591 - accuracy: 0.9714 - val_loss: 0.1210 - val_accuracy: 0.9778\n",
            "Epoch 62/250\n",
            "15/15 [==============================] - 0s 7ms/step - loss: 0.1603 - accuracy: 0.9714 - val_loss: 0.1177 - val_accuracy: 1.0000\n",
            "Epoch 63/250\n",
            "15/15 [==============================] - 0s 6ms/step - loss: 0.1558 - accuracy: 0.9714 - val_loss: 0.1165 - val_accuracy: 1.0000\n",
            "Epoch 64/250\n",
            "15/15 [==============================] - 0s 6ms/step - loss: 0.1516 - accuracy: 0.9810 - val_loss: 0.1124 - val_accuracy: 1.0000\n",
            "Epoch 65/250\n",
            "15/15 [==============================] - 0s 6ms/step - loss: 0.1491 - accuracy: 0.9714 - val_loss: 0.1101 - val_accuracy: 1.0000\n",
            "Epoch 66/250\n",
            "15/15 [==============================] - 0s 8ms/step - loss: 0.1481 - accuracy: 0.9714 - val_loss: 0.1079 - val_accuracy: 0.9778\n",
            "Epoch 67/250\n",
            "15/15 [==============================] - 0s 10ms/step - loss: 0.1484 - accuracy: 0.9714 - val_loss: 0.1077 - val_accuracy: 0.9778\n",
            "Epoch 68/250\n",
            "15/15 [==============================] - 0s 8ms/step - loss: 0.1501 - accuracy: 0.9714 - val_loss: 0.1034 - val_accuracy: 1.0000\n",
            "Epoch 69/250\n",
            "15/15 [==============================] - 0s 10ms/step - loss: 0.1453 - accuracy: 0.9714 - val_loss: 0.1025 - val_accuracy: 1.0000\n",
            "Epoch 70/250\n",
            "15/15 [==============================] - 0s 7ms/step - loss: 0.1372 - accuracy: 0.9810 - val_loss: 0.0994 - val_accuracy: 1.0000\n",
            "Epoch 71/250\n",
            "15/15 [==============================] - 0s 6ms/step - loss: 0.1479 - accuracy: 0.9714 - val_loss: 0.0974 - val_accuracy: 1.0000\n",
            "Epoch 72/250\n",
            "15/15 [==============================] - 0s 7ms/step - loss: 0.1423 - accuracy: 0.9810 - val_loss: 0.1002 - val_accuracy: 0.9778\n",
            "Epoch 73/250\n",
            "15/15 [==============================] - 0s 6ms/step - loss: 0.1389 - accuracy: 0.9714 - val_loss: 0.0959 - val_accuracy: 0.9778\n",
            "Epoch 74/250\n",
            "15/15 [==============================] - 0s 6ms/step - loss: 0.1344 - accuracy: 0.9714 - val_loss: 0.0933 - val_accuracy: 1.0000\n",
            "Epoch 75/250\n",
            "15/15 [==============================] - 0s 7ms/step - loss: 0.1300 - accuracy: 0.9810 - val_loss: 0.0911 - val_accuracy: 1.0000\n",
            "Epoch 76/250\n",
            "15/15 [==============================] - 0s 8ms/step - loss: 0.1302 - accuracy: 0.9714 - val_loss: 0.0890 - val_accuracy: 1.0000\n",
            "Epoch 77/250\n",
            "15/15 [==============================] - 0s 7ms/step - loss: 0.1264 - accuracy: 0.9810 - val_loss: 0.0874 - val_accuracy: 1.0000\n",
            "Epoch 78/250\n",
            "15/15 [==============================] - 0s 6ms/step - loss: 0.1258 - accuracy: 0.9714 - val_loss: 0.0858 - val_accuracy: 1.0000\n",
            "Epoch 79/250\n",
            "15/15 [==============================] - 0s 7ms/step - loss: 0.1263 - accuracy: 0.9810 - val_loss: 0.0857 - val_accuracy: 0.9778\n",
            "Epoch 80/250\n",
            "15/15 [==============================] - 0s 6ms/step - loss: 0.1338 - accuracy: 0.9714 - val_loss: 0.0842 - val_accuracy: 0.9778\n",
            "Epoch 81/250\n",
            "15/15 [==============================] - 0s 7ms/step - loss: 0.1382 - accuracy: 0.9619 - val_loss: 0.0849 - val_accuracy: 0.9778\n",
            "Epoch 82/250\n",
            "15/15 [==============================] - 0s 9ms/step - loss: 0.1200 - accuracy: 0.9810 - val_loss: 0.0805 - val_accuracy: 1.0000\n",
            "Epoch 83/250\n",
            "15/15 [==============================] - 0s 8ms/step - loss: 0.1253 - accuracy: 0.9714 - val_loss: 0.0794 - val_accuracy: 1.0000\n",
            "Epoch 84/250\n",
            "15/15 [==============================] - 0s 9ms/step - loss: 0.1184 - accuracy: 0.9810 - val_loss: 0.0811 - val_accuracy: 0.9778\n",
            "Epoch 85/250\n",
            "15/15 [==============================] - 0s 7ms/step - loss: 0.1180 - accuracy: 0.9810 - val_loss: 0.0769 - val_accuracy: 1.0000\n",
            "Epoch 86/250\n",
            "15/15 [==============================] - 0s 7ms/step - loss: 0.1166 - accuracy: 0.9714 - val_loss: 0.0759 - val_accuracy: 1.0000\n",
            "Epoch 87/250\n",
            "15/15 [==============================] - 0s 7ms/step - loss: 0.1161 - accuracy: 0.9714 - val_loss: 0.0753 - val_accuracy: 1.0000\n",
            "Epoch 88/250\n",
            "15/15 [==============================] - 0s 7ms/step - loss: 0.1145 - accuracy: 0.9810 - val_loss: 0.0750 - val_accuracy: 0.9778\n",
            "Epoch 89/250\n",
            "15/15 [==============================] - 0s 8ms/step - loss: 0.1136 - accuracy: 0.9810 - val_loss: 0.0729 - val_accuracy: 1.0000\n",
            "Epoch 90/250\n",
            "15/15 [==============================] - 0s 6ms/step - loss: 0.1133 - accuracy: 0.9714 - val_loss: 0.0716 - val_accuracy: 1.0000\n",
            "Epoch 91/250\n",
            "15/15 [==============================] - 0s 7ms/step - loss: 0.1125 - accuracy: 0.9714 - val_loss: 0.0705 - val_accuracy: 1.0000\n",
            "Epoch 92/250\n",
            "15/15 [==============================] - 0s 6ms/step - loss: 0.1091 - accuracy: 0.9714 - val_loss: 0.0697 - val_accuracy: 1.0000\n",
            "Epoch 93/250\n",
            "15/15 [==============================] - 0s 7ms/step - loss: 0.1106 - accuracy: 0.9810 - val_loss: 0.0687 - val_accuracy: 1.0000\n",
            "Epoch 94/250\n",
            "15/15 [==============================] - 0s 7ms/step - loss: 0.1079 - accuracy: 0.9714 - val_loss: 0.0691 - val_accuracy: 0.9778\n",
            "Epoch 95/250\n",
            "15/15 [==============================] - 0s 8ms/step - loss: 0.1074 - accuracy: 0.9810 - val_loss: 0.0669 - val_accuracy: 1.0000\n",
            "Epoch 96/250\n",
            "15/15 [==============================] - 0s 7ms/step - loss: 0.1058 - accuracy: 0.9810 - val_loss: 0.0674 - val_accuracy: 0.9778\n",
            "Epoch 97/250\n",
            "15/15 [==============================] - 0s 9ms/step - loss: 0.1049 - accuracy: 0.9810 - val_loss: 0.0653 - val_accuracy: 1.0000\n",
            "Epoch 98/250\n",
            "15/15 [==============================] - 0s 7ms/step - loss: 0.1091 - accuracy: 0.9810 - val_loss: 0.0645 - val_accuracy: 1.0000\n",
            "Epoch 99/250\n",
            "15/15 [==============================] - 0s 7ms/step - loss: 0.1063 - accuracy: 0.9714 - val_loss: 0.0637 - val_accuracy: 1.0000\n",
            "Epoch 100/250\n",
            "15/15 [==============================] - 0s 11ms/step - loss: 0.1035 - accuracy: 0.9810 - val_loss: 0.0646 - val_accuracy: 0.9778\n",
            "Epoch 101/250\n",
            "15/15 [==============================] - 0s 7ms/step - loss: 0.1048 - accuracy: 0.9810 - val_loss: 0.0622 - val_accuracy: 1.0000\n",
            "Epoch 102/250\n",
            "15/15 [==============================] - 0s 8ms/step - loss: 0.1047 - accuracy: 0.9714 - val_loss: 0.0618 - val_accuracy: 1.0000\n",
            "Epoch 103/250\n",
            "15/15 [==============================] - 0s 7ms/step - loss: 0.1083 - accuracy: 0.9810 - val_loss: 0.0633 - val_accuracy: 0.9778\n",
            "Epoch 104/250\n",
            "15/15 [==============================] - 0s 6ms/step - loss: 0.1062 - accuracy: 0.9714 - val_loss: 0.0615 - val_accuracy: 0.9778\n",
            "Epoch 105/250\n",
            "15/15 [==============================] - 0s 7ms/step - loss: 0.0965 - accuracy: 0.9810 - val_loss: 0.0632 - val_accuracy: 0.9778\n",
            "Epoch 106/250\n",
            "15/15 [==============================] - 0s 7ms/step - loss: 0.1009 - accuracy: 0.9810 - val_loss: 0.0602 - val_accuracy: 0.9778\n",
            "Epoch 107/250\n",
            "15/15 [==============================] - 0s 7ms/step - loss: 0.1004 - accuracy: 0.9714 - val_loss: 0.0606 - val_accuracy: 0.9778\n",
            "Epoch 108/250\n",
            "15/15 [==============================] - 0s 7ms/step - loss: 0.0976 - accuracy: 0.9810 - val_loss: 0.0578 - val_accuracy: 1.0000\n",
            "Epoch 109/250\n",
            "15/15 [==============================] - 0s 6ms/step - loss: 0.0991 - accuracy: 0.9714 - val_loss: 0.0589 - val_accuracy: 0.9778\n",
            "Epoch 110/250\n",
            "15/15 [==============================] - 0s 7ms/step - loss: 0.0967 - accuracy: 0.9810 - val_loss: 0.0565 - val_accuracy: 1.0000\n",
            "Epoch 111/250\n",
            "15/15 [==============================] - 0s 6ms/step - loss: 0.0979 - accuracy: 0.9714 - val_loss: 0.0568 - val_accuracy: 0.9778\n",
            "Epoch 112/250\n",
            "15/15 [==============================] - 0s 6ms/step - loss: 0.1071 - accuracy: 0.9619 - val_loss: 0.0570 - val_accuracy: 0.9778\n",
            "Epoch 113/250\n",
            "15/15 [==============================] - 0s 7ms/step - loss: 0.1049 - accuracy: 0.9714 - val_loss: 0.0553 - val_accuracy: 1.0000\n",
            "Epoch 114/250\n",
            "15/15 [==============================] - 0s 6ms/step - loss: 0.0987 - accuracy: 0.9714 - val_loss: 0.0610 - val_accuracy: 0.9778\n",
            "Epoch 115/250\n",
            "15/15 [==============================] - 0s 7ms/step - loss: 0.1033 - accuracy: 0.9714 - val_loss: 0.0539 - val_accuracy: 1.0000\n",
            "Epoch 116/250\n",
            "15/15 [==============================] - 0s 7ms/step - loss: 0.0951 - accuracy: 0.9810 - val_loss: 0.0546 - val_accuracy: 0.9778\n",
            "Epoch 117/250\n",
            "15/15 [==============================] - 0s 7ms/step - loss: 0.0975 - accuracy: 0.9714 - val_loss: 0.0545 - val_accuracy: 0.9778\n",
            "Epoch 118/250\n",
            "15/15 [==============================] - 0s 6ms/step - loss: 0.0997 - accuracy: 0.9714 - val_loss: 0.0524 - val_accuracy: 1.0000\n",
            "Epoch 119/250\n",
            "15/15 [==============================] - 0s 6ms/step - loss: 0.0927 - accuracy: 0.9810 - val_loss: 0.0596 - val_accuracy: 0.9778\n",
            "Epoch 120/250\n",
            "15/15 [==============================] - 0s 6ms/step - loss: 0.0955 - accuracy: 0.9714 - val_loss: 0.0516 - val_accuracy: 1.0000\n",
            "Epoch 121/250\n",
            "15/15 [==============================] - 0s 7ms/step - loss: 0.0932 - accuracy: 0.9810 - val_loss: 0.0518 - val_accuracy: 1.0000\n",
            "Epoch 122/250\n",
            "15/15 [==============================] - 0s 7ms/step - loss: 0.0926 - accuracy: 0.9714 - val_loss: 0.0509 - val_accuracy: 1.0000\n",
            "Epoch 123/250\n",
            "15/15 [==============================] - 0s 6ms/step - loss: 0.0944 - accuracy: 0.9810 - val_loss: 0.0531 - val_accuracy: 0.9778\n",
            "Epoch 124/250\n",
            "15/15 [==============================] - 0s 6ms/step - loss: 0.0960 - accuracy: 0.9714 - val_loss: 0.0499 - val_accuracy: 1.0000\n",
            "Epoch 125/250\n",
            "15/15 [==============================] - 0s 6ms/step - loss: 0.0934 - accuracy: 0.9810 - val_loss: 0.0535 - val_accuracy: 0.9778\n",
            "Epoch 126/250\n",
            "15/15 [==============================] - 0s 7ms/step - loss: 0.0909 - accuracy: 0.9810 - val_loss: 0.0511 - val_accuracy: 0.9778\n",
            "Epoch 127/250\n",
            "15/15 [==============================] - 0s 7ms/step - loss: 0.1048 - accuracy: 0.9714 - val_loss: 0.0487 - val_accuracy: 1.0000\n",
            "Epoch 128/250\n",
            "15/15 [==============================] - 0s 6ms/step - loss: 0.0947 - accuracy: 0.9714 - val_loss: 0.0563 - val_accuracy: 0.9778\n",
            "Epoch 129/250\n",
            "15/15 [==============================] - 0s 7ms/step - loss: 0.0923 - accuracy: 0.9810 - val_loss: 0.0481 - val_accuracy: 1.0000\n",
            "Epoch 130/250\n",
            "15/15 [==============================] - 0s 7ms/step - loss: 0.0922 - accuracy: 0.9810 - val_loss: 0.0498 - val_accuracy: 0.9778\n",
            "Epoch 131/250\n",
            "15/15 [==============================] - 0s 5ms/step - loss: 0.0931 - accuracy: 0.9810 - val_loss: 0.0473 - val_accuracy: 1.0000\n",
            "Epoch 132/250\n",
            "15/15 [==============================] - 0s 4ms/step - loss: 0.0873 - accuracy: 0.9714 - val_loss: 0.0493 - val_accuracy: 0.9778\n",
            "Epoch 133/250\n",
            "15/15 [==============================] - 0s 5ms/step - loss: 0.0875 - accuracy: 0.9810 - val_loss: 0.0489 - val_accuracy: 0.9778\n",
            "Epoch 134/250\n",
            "15/15 [==============================] - 0s 6ms/step - loss: 0.0897 - accuracy: 0.9714 - val_loss: 0.0470 - val_accuracy: 1.0000\n",
            "Epoch 135/250\n",
            "15/15 [==============================] - 0s 11ms/step - loss: 0.1006 - accuracy: 0.9714 - val_loss: 0.0475 - val_accuracy: 0.9778\n",
            "Epoch 136/250\n",
            "15/15 [==============================] - 0s 8ms/step - loss: 0.0877 - accuracy: 0.9810 - val_loss: 0.0518 - val_accuracy: 0.9778\n",
            "Epoch 137/250\n",
            "15/15 [==============================] - 0s 10ms/step - loss: 0.1107 - accuracy: 0.9714 - val_loss: 0.0471 - val_accuracy: 0.9778\n",
            "Epoch 138/250\n",
            "15/15 [==============================] - 0s 9ms/step - loss: 0.0924 - accuracy: 0.9714 - val_loss: 0.0553 - val_accuracy: 0.9778\n",
            "Epoch 139/250\n",
            "15/15 [==============================] - 0s 12ms/step - loss: 0.0905 - accuracy: 0.9810 - val_loss: 0.0454 - val_accuracy: 1.0000\n",
            "Epoch 140/250\n",
            "15/15 [==============================] - 0s 9ms/step - loss: 0.0879 - accuracy: 0.9810 - val_loss: 0.0463 - val_accuracy: 0.9778\n",
            "Epoch 141/250\n",
            "15/15 [==============================] - 0s 7ms/step - loss: 0.0863 - accuracy: 0.9714 - val_loss: 0.0449 - val_accuracy: 1.0000\n",
            "Epoch 142/250\n",
            "15/15 [==============================] - 0s 9ms/step - loss: 0.0891 - accuracy: 0.9810 - val_loss: 0.0475 - val_accuracy: 0.9778\n",
            "Epoch 143/250\n",
            "15/15 [==============================] - 0s 8ms/step - loss: 0.0920 - accuracy: 0.9714 - val_loss: 0.0440 - val_accuracy: 1.0000\n",
            "Epoch 144/250\n",
            "15/15 [==============================] - 0s 8ms/step - loss: 0.0838 - accuracy: 0.9810 - val_loss: 0.0459 - val_accuracy: 0.9778\n",
            "Epoch 145/250\n",
            "15/15 [==============================] - 0s 8ms/step - loss: 0.0860 - accuracy: 0.9714 - val_loss: 0.0475 - val_accuracy: 0.9778\n",
            "Epoch 146/250\n",
            "15/15 [==============================] - 0s 8ms/step - loss: 0.0833 - accuracy: 0.9714 - val_loss: 0.0431 - val_accuracy: 1.0000\n",
            "Epoch 147/250\n",
            "15/15 [==============================] - 0s 8ms/step - loss: 0.0852 - accuracy: 0.9810 - val_loss: 0.0438 - val_accuracy: 0.9778\n",
            "Epoch 148/250\n",
            "15/15 [==============================] - 0s 7ms/step - loss: 0.0835 - accuracy: 0.9810 - val_loss: 0.0448 - val_accuracy: 0.9778\n",
            "Epoch 149/250\n",
            "15/15 [==============================] - 0s 8ms/step - loss: 0.0868 - accuracy: 0.9714 - val_loss: 0.0436 - val_accuracy: 0.9778\n",
            "Epoch 150/250\n",
            "15/15 [==============================] - 0s 12ms/step - loss: 0.0826 - accuracy: 0.9810 - val_loss: 0.0454 - val_accuracy: 0.9778\n",
            "Epoch 151/250\n",
            "15/15 [==============================] - 0s 7ms/step - loss: 0.0830 - accuracy: 0.9810 - val_loss: 0.0425 - val_accuracy: 1.0000\n",
            "Epoch 152/250\n",
            "15/15 [==============================] - 0s 8ms/step - loss: 0.0827 - accuracy: 0.9810 - val_loss: 0.0455 - val_accuracy: 0.9778\n",
            "Epoch 153/250\n",
            "15/15 [==============================] - 0s 13ms/step - loss: 0.0861 - accuracy: 0.9810 - val_loss: 0.0424 - val_accuracy: 0.9778\n",
            "Epoch 154/250\n",
            "15/15 [==============================] - 0s 11ms/step - loss: 0.0828 - accuracy: 0.9810 - val_loss: 0.0431 - val_accuracy: 0.9778\n",
            "Epoch 155/250\n",
            "15/15 [==============================] - 0s 11ms/step - loss: 0.0815 - accuracy: 0.9810 - val_loss: 0.0415 - val_accuracy: 1.0000\n",
            "Epoch 156/250\n",
            "15/15 [==============================] - 0s 13ms/step - loss: 0.0821 - accuracy: 0.9810 - val_loss: 0.0417 - val_accuracy: 0.9778\n",
            "Epoch 157/250\n",
            "15/15 [==============================] - 0s 8ms/step - loss: 0.0849 - accuracy: 0.9810 - val_loss: 0.0425 - val_accuracy: 0.9778\n",
            "Epoch 158/250\n",
            "15/15 [==============================] - 0s 8ms/step - loss: 0.0802 - accuracy: 0.9810 - val_loss: 0.0415 - val_accuracy: 0.9778\n",
            "Epoch 159/250\n",
            "15/15 [==============================] - 0s 8ms/step - loss: 0.0806 - accuracy: 0.9810 - val_loss: 0.0434 - val_accuracy: 0.9778\n",
            "Epoch 160/250\n",
            "15/15 [==============================] - 0s 7ms/step - loss: 0.0822 - accuracy: 0.9810 - val_loss: 0.0427 - val_accuracy: 0.9778\n",
            "Epoch 161/250\n",
            "15/15 [==============================] - 0s 8ms/step - loss: 0.0816 - accuracy: 0.9810 - val_loss: 0.0445 - val_accuracy: 0.9778\n",
            "Epoch 162/250\n",
            "15/15 [==============================] - 0s 7ms/step - loss: 0.0829 - accuracy: 0.9810 - val_loss: 0.0404 - val_accuracy: 0.9778\n",
            "Epoch 163/250\n",
            "15/15 [==============================] - 0s 9ms/step - loss: 0.0846 - accuracy: 0.9714 - val_loss: 0.0458 - val_accuracy: 0.9778\n",
            "Epoch 164/250\n",
            "15/15 [==============================] - 0s 8ms/step - loss: 0.0796 - accuracy: 0.9810 - val_loss: 0.0408 - val_accuracy: 0.9778\n",
            "Epoch 165/250\n",
            "15/15 [==============================] - 0s 8ms/step - loss: 0.0802 - accuracy: 0.9810 - val_loss: 0.0413 - val_accuracy: 0.9778\n",
            "Epoch 166/250\n",
            "15/15 [==============================] - 0s 8ms/step - loss: 0.0837 - accuracy: 0.9714 - val_loss: 0.0406 - val_accuracy: 0.9778\n",
            "Epoch 167/250\n",
            "15/15 [==============================] - 0s 9ms/step - loss: 0.0824 - accuracy: 0.9714 - val_loss: 0.0449 - val_accuracy: 0.9778\n",
            "Epoch 168/250\n",
            "15/15 [==============================] - 0s 10ms/step - loss: 0.0863 - accuracy: 0.9810 - val_loss: 0.0385 - val_accuracy: 1.0000\n",
            "Epoch 169/250\n",
            "15/15 [==============================] - 0s 7ms/step - loss: 0.0800 - accuracy: 0.9810 - val_loss: 0.0471 - val_accuracy: 0.9778\n",
            "Epoch 170/250\n",
            "15/15 [==============================] - 0s 8ms/step - loss: 0.0820 - accuracy: 0.9714 - val_loss: 0.0397 - val_accuracy: 0.9778\n",
            "Epoch 171/250\n",
            "15/15 [==============================] - 0s 8ms/step - loss: 0.0785 - accuracy: 0.9810 - val_loss: 0.0398 - val_accuracy: 0.9778\n",
            "Epoch 172/250\n",
            "15/15 [==============================] - 0s 9ms/step - loss: 0.0780 - accuracy: 0.9810 - val_loss: 0.0384 - val_accuracy: 1.0000\n",
            "Epoch 173/250\n",
            "15/15 [==============================] - 0s 8ms/step - loss: 0.0790 - accuracy: 0.9810 - val_loss: 0.0431 - val_accuracy: 0.9778\n",
            "Epoch 174/250\n",
            "15/15 [==============================] - 0s 10ms/step - loss: 0.0804 - accuracy: 0.9810 - val_loss: 0.0386 - val_accuracy: 0.9778\n",
            "Epoch 175/250\n",
            "15/15 [==============================] - 0s 8ms/step - loss: 0.0802 - accuracy: 0.9810 - val_loss: 0.0390 - val_accuracy: 0.9778\n",
            "Epoch 176/250\n",
            "15/15 [==============================] - 0s 11ms/step - loss: 0.0788 - accuracy: 0.9810 - val_loss: 0.0388 - val_accuracy: 0.9778\n",
            "Epoch 177/250\n",
            "15/15 [==============================] - 0s 7ms/step - loss: 0.0811 - accuracy: 0.9714 - val_loss: 0.0378 - val_accuracy: 1.0000\n",
            "Epoch 178/250\n",
            "15/15 [==============================] - 0s 7ms/step - loss: 0.0762 - accuracy: 0.9810 - val_loss: 0.0398 - val_accuracy: 0.9778\n",
            "Epoch 179/250\n",
            "15/15 [==============================] - 0s 6ms/step - loss: 0.0788 - accuracy: 0.9810 - val_loss: 0.0389 - val_accuracy: 0.9778\n",
            "Epoch 180/250\n",
            "15/15 [==============================] - 0s 6ms/step - loss: 0.0802 - accuracy: 0.9714 - val_loss: 0.0405 - val_accuracy: 0.9778\n",
            "Epoch 181/250\n",
            "15/15 [==============================] - 0s 7ms/step - loss: 0.0891 - accuracy: 0.9714 - val_loss: 0.0376 - val_accuracy: 0.9778\n",
            "Epoch 182/250\n",
            "15/15 [==============================] - 0s 6ms/step - loss: 0.0812 - accuracy: 0.9714 - val_loss: 0.0412 - val_accuracy: 0.9778\n",
            "Epoch 183/250\n",
            "15/15 [==============================] - 0s 7ms/step - loss: 0.0773 - accuracy: 0.9714 - val_loss: 0.0377 - val_accuracy: 0.9778\n",
            "Epoch 184/250\n",
            "15/15 [==============================] - 0s 7ms/step - loss: 0.0773 - accuracy: 0.9810 - val_loss: 0.0373 - val_accuracy: 0.9778\n",
            "Epoch 185/250\n",
            "15/15 [==============================] - 0s 7ms/step - loss: 0.0818 - accuracy: 0.9714 - val_loss: 0.0375 - val_accuracy: 0.9778\n",
            "Epoch 186/250\n",
            "15/15 [==============================] - 0s 6ms/step - loss: 0.0770 - accuracy: 0.9810 - val_loss: 0.0376 - val_accuracy: 0.9778\n",
            "Epoch 187/250\n",
            "15/15 [==============================] - 0s 6ms/step - loss: 0.0753 - accuracy: 0.9810 - val_loss: 0.0382 - val_accuracy: 0.9778\n",
            "Epoch 188/250\n",
            "15/15 [==============================] - 0s 7ms/step - loss: 0.0753 - accuracy: 0.9810 - val_loss: 0.0367 - val_accuracy: 0.9778\n",
            "Epoch 189/250\n",
            "15/15 [==============================] - 0s 6ms/step - loss: 0.0789 - accuracy: 0.9810 - val_loss: 0.0360 - val_accuracy: 1.0000\n",
            "Epoch 190/250\n",
            "15/15 [==============================] - 0s 6ms/step - loss: 0.0782 - accuracy: 0.9714 - val_loss: 0.0404 - val_accuracy: 0.9778\n",
            "Epoch 191/250\n",
            "15/15 [==============================] - 0s 7ms/step - loss: 0.0752 - accuracy: 0.9810 - val_loss: 0.0361 - val_accuracy: 0.9778\n",
            "Epoch 192/250\n",
            "15/15 [==============================] - 0s 6ms/step - loss: 0.0780 - accuracy: 0.9810 - val_loss: 0.0381 - val_accuracy: 0.9778\n",
            "Epoch 193/250\n",
            "15/15 [==============================] - 0s 6ms/step - loss: 0.0771 - accuracy: 0.9810 - val_loss: 0.0377 - val_accuracy: 0.9778\n",
            "Epoch 194/250\n",
            "15/15 [==============================] - 0s 6ms/step - loss: 0.0758 - accuracy: 0.9810 - val_loss: 0.0381 - val_accuracy: 0.9778\n",
            "Epoch 195/250\n",
            "15/15 [==============================] - 0s 6ms/step - loss: 0.0752 - accuracy: 0.9810 - val_loss: 0.0369 - val_accuracy: 0.9778\n",
            "Epoch 196/250\n",
            "15/15 [==============================] - 0s 6ms/step - loss: 0.0766 - accuracy: 0.9810 - val_loss: 0.0356 - val_accuracy: 0.9778\n",
            "Epoch 197/250\n",
            "15/15 [==============================] - 0s 7ms/step - loss: 0.0746 - accuracy: 0.9810 - val_loss: 0.0411 - val_accuracy: 0.9778\n",
            "Epoch 198/250\n",
            "15/15 [==============================] - 0s 7ms/step - loss: 0.0752 - accuracy: 0.9810 - val_loss: 0.0374 - val_accuracy: 0.9778\n",
            "Epoch 199/250\n",
            "15/15 [==============================] - 0s 6ms/step - loss: 0.0759 - accuracy: 0.9810 - val_loss: 0.0353 - val_accuracy: 0.9778\n",
            "Epoch 200/250\n",
            "15/15 [==============================] - 0s 6ms/step - loss: 0.0745 - accuracy: 0.9810 - val_loss: 0.0384 - val_accuracy: 0.9778\n",
            "Epoch 201/250\n",
            "15/15 [==============================] - 0s 6ms/step - loss: 0.0767 - accuracy: 0.9810 - val_loss: 0.0355 - val_accuracy: 0.9778\n",
            "Epoch 202/250\n",
            "15/15 [==============================] - 0s 8ms/step - loss: 0.0773 - accuracy: 0.9714 - val_loss: 0.0394 - val_accuracy: 0.9778\n",
            "Epoch 203/250\n",
            "15/15 [==============================] - 0s 7ms/step - loss: 0.0752 - accuracy: 0.9810 - val_loss: 0.0346 - val_accuracy: 1.0000\n",
            "Epoch 204/250\n",
            "15/15 [==============================] - 0s 6ms/step - loss: 0.0817 - accuracy: 0.9810 - val_loss: 0.0379 - val_accuracy: 0.9778\n",
            "Epoch 205/250\n",
            "15/15 [==============================] - 0s 7ms/step - loss: 0.0761 - accuracy: 0.9714 - val_loss: 0.0342 - val_accuracy: 1.0000\n",
            "Epoch 206/250\n",
            "15/15 [==============================] - 0s 6ms/step - loss: 0.0741 - accuracy: 0.9810 - val_loss: 0.0373 - val_accuracy: 0.9778\n",
            "Epoch 207/250\n",
            "15/15 [==============================] - 0s 4ms/step - loss: 0.0757 - accuracy: 0.9810 - val_loss: 0.0392 - val_accuracy: 0.9778\n",
            "Epoch 208/250\n",
            "15/15 [==============================] - 0s 5ms/step - loss: 0.0732 - accuracy: 0.9810 - val_loss: 0.0353 - val_accuracy: 0.9778\n",
            "Epoch 209/250\n",
            "15/15 [==============================] - 0s 5ms/step - loss: 0.0768 - accuracy: 0.9810 - val_loss: 0.0361 - val_accuracy: 0.9778\n",
            "Epoch 210/250\n",
            "15/15 [==============================] - 0s 4ms/step - loss: 0.0751 - accuracy: 0.9810 - val_loss: 0.0368 - val_accuracy: 0.9778\n",
            "Epoch 211/250\n",
            "15/15 [==============================] - 0s 4ms/step - loss: 0.0818 - accuracy: 0.9714 - val_loss: 0.0353 - val_accuracy: 0.9778\n",
            "Epoch 212/250\n",
            "15/15 [==============================] - 0s 4ms/step - loss: 0.0806 - accuracy: 0.9619 - val_loss: 0.0368 - val_accuracy: 0.9778\n",
            "Epoch 213/250\n",
            "15/15 [==============================] - 0s 4ms/step - loss: 0.0728 - accuracy: 0.9810 - val_loss: 0.0345 - val_accuracy: 0.9778\n",
            "Epoch 214/250\n",
            "15/15 [==============================] - 0s 5ms/step - loss: 0.0763 - accuracy: 0.9810 - val_loss: 0.0368 - val_accuracy: 0.9778\n",
            "Epoch 215/250\n",
            "15/15 [==============================] - 0s 4ms/step - loss: 0.0719 - accuracy: 0.9810 - val_loss: 0.0368 - val_accuracy: 0.9778\n",
            "Epoch 216/250\n",
            "15/15 [==============================] - 0s 4ms/step - loss: 0.0759 - accuracy: 0.9810 - val_loss: 0.0343 - val_accuracy: 0.9778\n",
            "Epoch 217/250\n",
            "15/15 [==============================] - 0s 4ms/step - loss: 0.0724 - accuracy: 0.9714 - val_loss: 0.0411 - val_accuracy: 0.9778\n",
            "Epoch 218/250\n",
            "15/15 [==============================] - 0s 5ms/step - loss: 0.0716 - accuracy: 0.9714 - val_loss: 0.0344 - val_accuracy: 0.9778\n",
            "Epoch 219/250\n",
            "15/15 [==============================] - 0s 6ms/step - loss: 0.0722 - accuracy: 0.9810 - val_loss: 0.0339 - val_accuracy: 0.9778\n",
            "Epoch 220/250\n",
            "15/15 [==============================] - 0s 6ms/step - loss: 0.0754 - accuracy: 0.9810 - val_loss: 0.0341 - val_accuracy: 0.9778\n",
            "Epoch 221/250\n",
            "15/15 [==============================] - 0s 7ms/step - loss: 0.0791 - accuracy: 0.9714 - val_loss: 0.0349 - val_accuracy: 0.9778\n",
            "Epoch 222/250\n",
            "15/15 [==============================] - 0s 7ms/step - loss: 0.0731 - accuracy: 0.9810 - val_loss: 0.0398 - val_accuracy: 0.9778\n",
            "Epoch 223/250\n",
            "15/15 [==============================] - 0s 7ms/step - loss: 0.0824 - accuracy: 0.9810 - val_loss: 0.0355 - val_accuracy: 0.9778\n",
            "Epoch 224/250\n",
            "15/15 [==============================] - 0s 5ms/step - loss: 0.0752 - accuracy: 0.9810 - val_loss: 0.0389 - val_accuracy: 0.9778\n",
            "Epoch 225/250\n",
            "15/15 [==============================] - 0s 6ms/step - loss: 0.0718 - accuracy: 0.9810 - val_loss: 0.0370 - val_accuracy: 0.9778\n",
            "Epoch 226/250\n",
            "15/15 [==============================] - 0s 6ms/step - loss: 0.0795 - accuracy: 0.9810 - val_loss: 0.0335 - val_accuracy: 0.9778\n",
            "Epoch 227/250\n",
            "15/15 [==============================] - 0s 6ms/step - loss: 0.0746 - accuracy: 0.9714 - val_loss: 0.0425 - val_accuracy: 0.9778\n",
            "Epoch 228/250\n",
            "15/15 [==============================] - 0s 6ms/step - loss: 0.0712 - accuracy: 0.9810 - val_loss: 0.0317 - val_accuracy: 1.0000\n",
            "Epoch 229/250\n",
            "15/15 [==============================] - 0s 5ms/step - loss: 0.0742 - accuracy: 0.9810 - val_loss: 0.0333 - val_accuracy: 0.9778\n",
            "Epoch 230/250\n",
            "15/15 [==============================] - 0s 5ms/step - loss: 0.0706 - accuracy: 0.9810 - val_loss: 0.0363 - val_accuracy: 0.9778\n",
            "Epoch 231/250\n",
            "15/15 [==============================] - 0s 6ms/step - loss: 0.0724 - accuracy: 0.9810 - val_loss: 0.0345 - val_accuracy: 0.9778\n",
            "Epoch 232/250\n",
            "15/15 [==============================] - 0s 5ms/step - loss: 0.0749 - accuracy: 0.9810 - val_loss: 0.0361 - val_accuracy: 0.9778\n",
            "Epoch 233/250\n",
            "15/15 [==============================] - 0s 5ms/step - loss: 0.0717 - accuracy: 0.9810 - val_loss: 0.0357 - val_accuracy: 0.9778\n",
            "Epoch 234/250\n",
            "15/15 [==============================] - 0s 6ms/step - loss: 0.0706 - accuracy: 0.9810 - val_loss: 0.0354 - val_accuracy: 0.9778\n",
            "Epoch 235/250\n",
            "15/15 [==============================] - 0s 6ms/step - loss: 0.0703 - accuracy: 0.9810 - val_loss: 0.0348 - val_accuracy: 0.9778\n",
            "Epoch 236/250\n",
            "15/15 [==============================] - 0s 5ms/step - loss: 0.0772 - accuracy: 0.9810 - val_loss: 0.0338 - val_accuracy: 0.9778\n",
            "Epoch 237/250\n",
            "15/15 [==============================] - 0s 6ms/step - loss: 0.0712 - accuracy: 0.9810 - val_loss: 0.0327 - val_accuracy: 0.9778\n",
            "Epoch 238/250\n",
            "15/15 [==============================] - 0s 7ms/step - loss: 0.0729 - accuracy: 0.9810 - val_loss: 0.0329 - val_accuracy: 0.9778\n",
            "Epoch 239/250\n",
            "15/15 [==============================] - 0s 6ms/step - loss: 0.0729 - accuracy: 0.9714 - val_loss: 0.0436 - val_accuracy: 0.9778\n",
            "Epoch 240/250\n",
            "15/15 [==============================] - 0s 6ms/step - loss: 0.0689 - accuracy: 0.9905 - val_loss: 0.0316 - val_accuracy: 0.9778\n",
            "Epoch 241/250\n",
            "15/15 [==============================] - 0s 5ms/step - loss: 0.0741 - accuracy: 0.9714 - val_loss: 0.0326 - val_accuracy: 0.9778\n",
            "Epoch 242/250\n",
            "15/15 [==============================] - 0s 6ms/step - loss: 0.0701 - accuracy: 0.9810 - val_loss: 0.0362 - val_accuracy: 0.9778\n",
            "Epoch 243/250\n",
            "15/15 [==============================] - 0s 6ms/step - loss: 0.0833 - accuracy: 0.9810 - val_loss: 0.0307 - val_accuracy: 1.0000\n",
            "Epoch 244/250\n",
            "15/15 [==============================] - 0s 6ms/step - loss: 0.0711 - accuracy: 0.9714 - val_loss: 0.0432 - val_accuracy: 0.9778\n",
            "Epoch 245/250\n",
            "15/15 [==============================] - 0s 5ms/step - loss: 0.0738 - accuracy: 0.9810 - val_loss: 0.0312 - val_accuracy: 1.0000\n",
            "Epoch 246/250\n",
            "15/15 [==============================] - 0s 5ms/step - loss: 0.0801 - accuracy: 0.9714 - val_loss: 0.0321 - val_accuracy: 0.9778\n",
            "Epoch 247/250\n",
            "15/15 [==============================] - 0s 6ms/step - loss: 0.0689 - accuracy: 0.9810 - val_loss: 0.0367 - val_accuracy: 0.9778\n",
            "Epoch 248/250\n",
            "15/15 [==============================] - 0s 6ms/step - loss: 0.0861 - accuracy: 0.9524 - val_loss: 0.0313 - val_accuracy: 0.9778\n",
            "Epoch 249/250\n",
            "15/15 [==============================] - 0s 6ms/step - loss: 0.0736 - accuracy: 0.9810 - val_loss: 0.0338 - val_accuracy: 0.9778\n",
            "Epoch 250/250\n",
            "15/15 [==============================] - 0s 5ms/step - loss: 0.0719 - accuracy: 0.9714 - val_loss: 0.0330 - val_accuracy: 0.9778\n"
          ]
        }
      ],
      "source": [
        "History_iris = Model_iris.fit(X_train, y_train,\n",
        "                              epochs = 250,\n",
        "                              batch_size = 7,\n",
        "                              validation_data = (X_test, y_test))"
      ]
    },
    {
      "cell_type": "markdown",
      "metadata": {
        "id": "KWR3hsEE_ZGS"
      },
      "source": [
        "> ## 5) 학습 결과 시각화"
      ]
    },
    {
      "cell_type": "code",
      "execution_count": 20,
      "metadata": {
        "colab": {
          "base_uri": "https://localhost:8080/",
          "height": 511
        },
        "id": "OMpwabfNq2_v",
        "outputId": "e001f4c4-f93d-4e55-fb9a-8fb6c55dc3b0",
        "tags": []
      },
      "outputs": [
        {
          "output_type": "display_data",
          "data": {
            "text/plain": [
              "<Figure size 900x600 with 1 Axes>"
            ],
            "image/png": "[encoded data removed]"
          },
          "metadata": {}
        }
      ],
      "source": [
        "import matplotlib.pyplot as plt\n",
        "\n",
        "plt.figure(figsize = (9, 6))\n",
        "plt.ylim(0, 1.1)\n",
        "plt.plot(History_iris.history['loss'])\n",
        "plt.plot(History_iris.history['val_loss'])\n",
        "plt.plot(History_iris.history['accuracy'])\n",
        "plt.plot(History_iris.history['val_accuracy'])\n",
        "plt.legend(['loss', 'val_loss', 'accuracy', 'val_accuracy'])\n",
        "plt.grid()\n",
        "plt.show()"
      ]
    },
    {
      "cell_type": "markdown",
      "metadata": {
        "id": "FNq1blJf_eIW"
      },
      "source": [
        "> ## 6) Model Evaluate"
      ]
    },
    {
      "cell_type": "markdown",
      "metadata": {
        "id": "Dok6iL5RKeTP"
      },
      "source": [
        "* Loss & Accuracy"
      ]
    },
    {
      "cell_type": "code",
      "execution_count": 21,
      "metadata": {
        "colab": {
          "base_uri": "https://localhost:8080/"
        },
        "id": "fJ2HtnYYsPIE",
        "outputId": "d8ac3192-8393-406b-80f0-2dfe7cc8c9fa",
        "tags": []
      },
      "outputs": [
        {
          "output_type": "stream",
          "name": "stdout",
          "text": [
            "2/2 [==============================] - 0s 7ms/step - loss: 0.0330 - accuracy: 0.9778\n",
            "Loss = 0.03300\n",
            "Accuracy = 0.97778\n"
          ]
        }
      ],
      "source": [
        "loss, accuracy = Model_iris.evaluate(X_test, y_test)\n",
        "\n",
        "print('Loss = {:.5f}'.format(loss))\n",
        "print('Accuracy = {:.5f}'.format(accuracy))"
      ]
    },
    {
      "cell_type": "markdown",
      "metadata": {
        "id": "jFjd3_I7_mqn"
      },
      "source": [
        "> ## 7) Model Predict"
      ]
    },
    {
      "cell_type": "markdown",
      "metadata": {
        "id": "CGP07vr3_rAK"
      },
      "source": [
        "* Probability"
      ]
    },
    {
      "cell_type": "code",
      "execution_count": 22,
      "metadata": {
        "colab": {
          "base_uri": "https://localhost:8080/"
        },
        "id": "St1qcFxQuKqB",
        "outputId": "26579cde-ad9f-450b-a26e-58e09ad45030",
        "tags": []
      },
      "outputs": [
        {
          "output_type": "stream",
          "name": "stdout",
          "text": [
            "2/2 [==============================] - 0s 5ms/step\n"
          ]
        },
        {
          "output_type": "execute_result",
          "data": {
            "text/plain": [
              "array([[0.99881, 0.00119, 0.     ],\n",
              "       [0.9956 , 0.0044 , 0.     ],\n",
              "       [0.01232, 0.98755, 0.00012],\n",
              "       [0.     , 0.00029, 0.99971],\n",
              "       [0.9995 , 0.0005 , 0.     ],\n",
              "       [0.00112, 0.99847, 0.00041],\n",
              "       [0.     , 0.01364, 0.98636],\n",
              "       [0.9996 , 0.0004 , 0.     ],\n",
              "       [0.     , 0.00145, 0.99855],\n",
              "       [0.99878, 0.00122, 0.     ],\n",
              "       [0.00004, 0.73395, 0.266  ],\n",
              "       [0.     , 0.00842, 0.99158],\n",
              "       [0.00008, 0.9888 , 0.01112],\n",
              "       [0.99986, 0.00014, 0.     ],\n",
              "       [0.99962, 0.00038, 0.     ],\n",
              "       [0.00016, 0.98714, 0.0127 ],\n",
              "       [0.00005, 0.96031, 0.03964],\n",
              "       [0.99879, 0.00121, 0.     ],\n",
              "       [0.0001 , 0.99879, 0.00112],\n",
              "       [0.99962, 0.00038, 0.     ],\n",
              "       [0.99885, 0.00115, 0.     ],\n",
              "       [0.99879, 0.00121, 0.     ],\n",
              "       [0.     , 0.00333, 0.99667],\n",
              "       [0.99924, 0.00076, 0.     ],\n",
              "       [0.     , 0.06444, 0.93556],\n",
              "       [0.     , 0.00969, 0.99031],\n",
              "       [0.99944, 0.00056, 0.     ],\n",
              "       [0.00004, 0.99459, 0.00537],\n",
              "       [0.00005, 0.99428, 0.00568],\n",
              "       [0.     , 0.03933, 0.96067],\n",
              "       [0.99958, 0.00042, 0.     ],\n",
              "       [0.00006, 0.99644, 0.00351],\n",
              "       [0.99972, 0.00028, 0.     ],\n",
              "       [0.00001, 0.56894, 0.43105],\n",
              "       [0.00007, 0.98509, 0.01484],\n",
              "       [0.00053, 0.99906, 0.00042],\n",
              "       [0.     , 0.00046, 0.99954],\n",
              "       [0.00052, 0.99848, 0.001  ],\n",
              "       [0.99917, 0.00083, 0.     ],\n",
              "       [0.00014, 0.99361, 0.00625],\n",
              "       [0.     , 0.0005 , 0.9995 ],\n",
              "       [0.99843, 0.00157, 0.     ],\n",
              "       [0.     , 0.00369, 0.99631],\n",
              "       [0.     , 0.0012 , 0.9988 ],\n",
              "       [0.     , 0.04813, 0.95187]], dtype=float32)"
            ]
          },
          "metadata": {},
          "execution_count": 22
        }
      ],
      "source": [
        "import numpy as np\n",
        "np.set_printoptions(suppress = True, precision = 5)\n",
        "\n",
        "Model_iris.predict(X_test)"
      ]
    },
    {
      "cell_type": "markdown",
      "metadata": {
        "id": "JbO8z-fFbrAT"
      },
      "source": [
        "* Probability to Class"
      ]
    },
    {
      "cell_type": "code",
      "execution_count": 23,
      "metadata": {
        "colab": {
          "base_uri": "https://localhost:8080/"
        },
        "id": "X9X3NSI1bc9z",
        "outputId": "f5a3dc7d-0f68-449d-abdb-9faa58493e15",
        "tags": []
      },
      "outputs": [
        {
          "output_type": "stream",
          "name": "stdout",
          "text": [
            "2/2 [==============================] - 0s 8ms/step\n"
          ]
        },
        {
          "output_type": "execute_result",
          "data": {
            "text/plain": [
              "array([0, 0, 1, 2, 0, 1, 2, 0, 2, 0, 1, 2, 1, 0, 0, 1, 1, 0, 1, 0, 0, 0,\n",
              "       2, 0, 2, 2, 0, 1, 1, 2, 0, 1, 0, 1, 1, 1, 2, 1, 0, 1, 2, 0, 2, 2,\n",
              "       2])"
            ]
          },
          "metadata": {},
          "execution_count": 23
        }
      ],
      "source": [
        "y_hat = np.argmax(Model_iris.predict(X_test), axis = 1)\n",
        "\n",
        "y_hat"
      ]
    },
    {
      "cell_type": "markdown",
      "metadata": {
        "id": "spr7DJmE_62e"
      },
      "source": [
        "* One-Hot Encoding to Array\n",
        " * np.argmax( ) : 다차원 배열의 차원에 따라 가장 큰 값의 인덱스를 반환\n",
        " * axis = 1 : 열기준"
      ]
    },
    {
      "cell_type": "code",
      "execution_count": 24,
      "metadata": {
        "colab": {
          "base_uri": "https://localhost:8080/"
        },
        "id": "8xv4SLZm0nzn",
        "outputId": "497c7f3b-b3fe-4978-b69a-70d399f6acc1",
        "tags": []
      },
      "outputs": [
        {
          "output_type": "execute_result",
          "data": {
            "text/plain": [
              "array([0, 0, 1, 2, 0, 1, 2, 0, 2, 0, 1, 2, 1, 0, 0, 1, 1, 0, 1, 0, 0, 0,\n",
              "       2, 0, 2, 2, 0, 1, 1, 2, 0, 1, 0, 2, 1, 1, 2, 1, 0, 1, 2, 0, 2, 2,\n",
              "       2])"
            ]
          },
          "metadata": {},
          "execution_count": 24
        }
      ],
      "source": [
        "y = np.argmax(y_test, axis = 1)\n",
        "\n",
        "y"
      ]
    },
    {
      "cell_type": "markdown",
      "metadata": {
        "id": "y-hzFPiDAEyo"
      },
      "source": [
        "* Confusion Matrix & Claasification Report"
      ]
    },
    {
      "cell_type": "code",
      "execution_count": 25,
      "metadata": {
        "colab": {
          "base_uri": "https://localhost:8080/"
        },
        "id": "ECnlNwrRzZve",
        "outputId": "d02a2c86-cc0e-4918-899e-cebfcc32beb0",
        "tags": []
      },
      "outputs": [
        {
          "output_type": "execute_result",
          "data": {
            "text/plain": [
              "array([[17,  0,  0],\n",
              "       [ 0, 14,  0],\n",
              "       [ 0,  1, 13]])"
            ]
          },
          "metadata": {},
          "execution_count": 25
        }
      ],
      "source": [
        "from sklearn.metrics import confusion_matrix, classification_report\n",
        "\n",
        "confusion_matrix(y, y_hat)"
      ]
    },
    {
      "cell_type": "code",
      "execution_count": 26,
      "metadata": {
        "colab": {
          "base_uri": "https://localhost:8080/"
        },
        "id": "6xW7Tw8Luk8O",
        "outputId": "470d78fe-610c-4c25-f010-02a9e602039f",
        "tags": []
      },
      "outputs": [
        {
          "output_type": "stream",
          "name": "stdout",
          "text": [
            "              precision    recall  f1-score   support\n",
            "\n",
            "      setosa       1.00      1.00      1.00        17\n",
            "  versicolor       0.93      1.00      0.97        14\n",
            "   virginica       1.00      0.93      0.96        14\n",
            "\n",
            "    accuracy                           0.98        45\n",
            "   macro avg       0.98      0.98      0.98        45\n",
            "weighted avg       0.98      0.98      0.98        45\n",
            "\n"
          ]
        }
      ],
      "source": [
        "print(classification_report(y, y_hat,\n",
        "                            target_names = ['setosa',\n",
        "                                            'versicolor',\n",
        "                                            'virginica']))"
      ]
    },
    {
      "cell_type": "markdown",
      "metadata": {
        "id": "N6YjXuM2AeEA"
      },
      "source": [
        "# III. Model Save & Load"
      ]
    },
    {
      "cell_type": "markdown",
      "metadata": {
        "id": "QJHanSlYBMaD"
      },
      "source": [
        "> ## 1) File System"
      ]
    },
    {
      "cell_type": "markdown",
      "metadata": {
        "id": "9fukCVfZBreP"
      },
      "source": [
        "* Save to Colab File System"
      ]
    },
    {
      "cell_type": "code",
      "execution_count": 27,
      "metadata": {
        "id": "90EpGKTo1B_2"
      },
      "outputs": [],
      "source": [
        "# !ls -l"
      ]
    },
    {
      "cell_type": "code",
      "execution_count": 28,
      "metadata": {
        "id": "FXz2D-PxAn0p",
        "tags": []
      },
      "outputs": [],
      "source": [
        "Model_iris.save('Model_iris.h5')\n",
        "\n",
        "# !ls -l"
      ]
    },
    {
      "cell_type": "markdown",
      "metadata": {
        "id": "mnABg40YB0Ex"
      },
      "source": [
        "* Download Colab File System to Local File System"
      ]
    },
    {
      "cell_type": "code",
      "execution_count": 29,
      "metadata": {
        "id": "UROGkgi7B3J6"
      },
      "outputs": [],
      "source": [
        "# from google.colab import files\n",
        "\n",
        "# files.download('Model_iris.h5')"
      ]
    },
    {
      "cell_type": "markdown",
      "metadata": {
        "id": "50eGEKhzDbVg"
      },
      "source": [
        "* Load from Colab File System"
      ]
    },
    {
      "cell_type": "code",
      "execution_count": 30,
      "metadata": {
        "id": "SlNcgVb9BZQz",
        "tags": []
      },
      "outputs": [],
      "source": [
        "from tensorflow.keras.models import load_model\n",
        "\n",
        "Model_local = load_model('Model_iris.h5')"
      ]
    },
    {
      "cell_type": "code",
      "execution_count": 31,
      "metadata": {
        "colab": {
          "base_uri": "https://localhost:8080/"
        },
        "id": "OoOS6Eet1-jY",
        "outputId": "822208a4-e52a-44f3-ca5a-aac4651ec10e",
        "tags": []
      },
      "outputs": [
        {
          "output_type": "stream",
          "name": "stdout",
          "text": [
            "2/2 [==============================] - 0s 5ms/step\n"
          ]
        },
        {
          "output_type": "execute_result",
          "data": {
            "text/plain": [
              "array([0, 0, 1, 2, 0, 1, 2, 0, 2, 0, 1, 2, 1, 0, 0, 1, 1, 0, 1, 0, 0, 0,\n",
              "       2, 0, 2, 2, 0, 1, 1, 2, 0, 1, 0, 1, 1, 1, 2, 1, 0, 1, 2, 0, 2, 2,\n",
              "       2])"
            ]
          },
          "metadata": {},
          "execution_count": 31
        }
      ],
      "source": [
        "np.argmax(Model_local.predict(X_test), axis = 1)"
      ]
    },
    {
      "cell_type": "markdown",
      "metadata": {
        "id": "q24HQDn3Bbmv"
      },
      "source": [
        "> ## 2) Google Drive"
      ]
    },
    {
      "cell_type": "markdown",
      "metadata": {
        "id": "-DoXDaDQD_nR"
      },
      "source": [
        "* Mount Google Drive"
      ]
    },
    {
      "cell_type": "code",
      "execution_count": 32,
      "metadata": {
        "colab": {
          "base_uri": "https://localhost:8080/"
        },
        "id": "XUcAHm-oEThi",
        "outputId": "38d5b4bf-5da1-4e46-eb4a-e909f4901e9a"
      },
      "outputs": [
        {
          "output_type": "stream",
          "name": "stdout",
          "text": [
            "Mounted at /content/drive\n"
          ]
        }
      ],
      "source": [
        "from google.colab import drive\n",
        "\n",
        "drive.mount('/content/drive')"
      ]
    },
    {
      "cell_type": "markdown",
      "metadata": {
        "id": "R3yaKi3GEftH"
      },
      "source": [
        "* Check Mounted_Drive"
      ]
    },
    {
      "cell_type": "code",
      "execution_count": 33,
      "metadata": {
        "colab": {
          "base_uri": "https://localhost:8080/"
        },
        "id": "Y96H0gSfEl0-",
        "outputId": "cf8f7e79-5c0e-4998-c2f6-44f0c378fae0"
      },
      "outputs": [
        {
          "output_type": "stream",
          "name": "stdout",
          "text": [
            "ls: cannot access '/content/drive/My Drive/Colab Notebooks/models': No such file or directory\n"
          ]
        }
      ],
      "source": [
        "!ls -l '/content/drive/My Drive/Colab Notebooks/models'"
      ]
    },
    {
      "cell_type": "markdown",
      "metadata": {
        "id": "izCHadxzFuj-"
      },
      "source": [
        "* Save to Mounted Google Drive Directory"
      ]
    },
    {
      "cell_type": "code",
      "execution_count": 34,
      "metadata": {
        "id": "VYxWBnRXF1sm"
      },
      "outputs": [],
      "source": [
        "Model_iris.save('/content/drive/My Drive/Colab Notebooks/models/001_Model_iris.h5')"
      ]
    },
    {
      "cell_type": "code",
      "execution_count": 35,
      "metadata": {
        "colab": {
          "base_uri": "https://localhost:8080/"
        },
        "id": "62Ks4RIcGM5e",
        "outputId": "7659c260-e300-4ba4-fb13-f8d70f661a2d"
      },
      "outputs": [
        {
          "output_type": "stream",
          "name": "stdout",
          "text": [
            "total 34\n",
            "-rw------- 1 root root 34240 Jul 22 07:51 001_Model_iris.h5\n"
          ]
        }
      ],
      "source": [
        "!ls -l '/content/drive/My Drive/Colab Notebooks/models'"
      ]
    },
    {
      "cell_type": "markdown",
      "metadata": {
        "id": "9qHYg5fPGnaB"
      },
      "source": [
        "* Load from Mounted Google Drive Directory"
      ]
    },
    {
      "cell_type": "code",
      "execution_count": 36,
      "metadata": {
        "id": "-c2nlwDbGcVZ"
      },
      "outputs": [],
      "source": [
        "from tensorflow.keras.models import load_model\n",
        "\n",
        "Model_google = load_model('/content/drive/My Drive/Colab Notebooks/models/001_Model_iris.h5')"
      ]
    },
    {
      "cell_type": "code",
      "execution_count": 37,
      "metadata": {
        "colab": {
          "base_uri": "https://localhost:8080/"
        },
        "id": "nsYObO3z4m3_",
        "outputId": "60b55a72-aaec-4575-ef56-f132bcd33ab1"
      },
      "outputs": [
        {
          "output_type": "stream",
          "name": "stdout",
          "text": [
            "2/2 [==============================] - 0s 5ms/step\n"
          ]
        },
        {
          "output_type": "execute_result",
          "data": {
            "text/plain": [
              "array([0, 0, 1, 2, 0, 1, 2, 0, 2, 0, 1, 2, 1, 0, 0, 1, 1, 0, 1, 0, 0, 0,\n",
              "       2, 0, 2, 2, 0, 1, 1, 2, 0, 1, 0, 1, 1, 1, 2, 1, 0, 1, 2, 0, 2, 2,\n",
              "       2])"
            ]
          },
          "metadata": {},
          "execution_count": 37
        }
      ],
      "source": [
        "np.argmax(Model_google.predict(X_test), axis = 1)"
      ]
    },
    {
      "cell_type": "markdown",
      "metadata": {
        "id": "prgTZL2h1A2Z"
      },
      "source": [
        "# The End"
      ]
    }
  ],
  "metadata": {
    "colab": {
      "provenance": []
    },
    "kernelspec": {
      "display_name": "Python 3 (ipykernel)",
      "language": "python",
      "name": "python3"
    },
    "language_info": {
      "codemirror_mode": {
        "name": "ipython",
        "version": 3
      },
      "file_extension": ".py",
      "mimetype": "text/x-python",
      "name": "python",
      "nbconvert_exporter": "python",
      "pygments_lexer": "ipython3",
      "version": "3.11.5"
    },
    "toc": {
      "base_numbering": 1,
      "nav_menu": {},
      "number_sections": true,
      "sideBar": true,
      "skip_h1_title": false,
      "title_cell": "Table of Contents",
      "title_sidebar": "Contents",
      "toc_cell": false,
      "toc_position": {},
      "toc_section_display": true,
      "toc_window_display": false
    }
  },
  "nbformat": 4,
  "nbformat_minor": 0
}