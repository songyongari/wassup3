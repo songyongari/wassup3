{
 "cells": [
  {
   "cell_type": "code",
   "execution_count": 25,
   "id": "41e70e31-64da-441f-9d74-4ec1fe40e598",
   "metadata": {
    "tags": []
   },
   "outputs": [
    {
     "data": {
      "text/plain": [
       "'jtbd/jtbd_canvas_filled_adjusted.png'"
      ]
     },
     "execution_count": 25,
     "metadata": {},
     "output_type": "execute_result"
    }
   ],
   "source": [
    "from PIL import Image, ImageDraw, ImageFont\n",
    "\n",
    "# Load the JTBD Canvas image\n",
    "canvas_path = \"jtbd/image.png\"\n",
    "canvas = Image.open(canvas_path)\n",
    "\n",
    "# Define the text content for each section of the JTBD Canvas\n",
    "texts = {\n",
    "    \"Target Job\": \"나에게 꼭 필요한 영양제를 올바르게 섭취한다\",\n",
    "    \"Aspirations\": \"건강한 생활 유지\\n질병 예방\\n체력 증진\",\n",
    "    \"Job Performer\": \"일반 사용자\\n영양 관리에 관심이 있는 사람들\\n건강한 생활을 추구하는 사람들\",\n",
    "    \"Related Jobs\": \"균형 잡힌 식사를 통해 영양을 섭취한다\\n운동을 통해 체력을 증진시킨다\",\n",
    "    \"Job Steps\": {\n",
    "        \"Beginning\": \"영양 보충제 선택 계획 수립\\n영양 보충제에 대한 정보 수집\",\n",
    "        \"Middle\": \"영양 보충제의 섭취 방법 준비\\n필요한 영양소를 우선순위에 따라 결정\\n영양 보충제 섭취\",\n",
    "        \"End\": \"영양 보충제 섭취 효과 추적\\n필요에 따라 영양 보충제 섭취 방법 조정\\n영양 보충제 섭취 완료 후 결과 정리\"\n",
    "    },\n",
    "    \"Emotional & Social Aspects\": \"건강하다: 면역력이 강해져 감기에 걸리지 않아서 건강함을 느낀다\\n자신감 있다: 피부 상태가 좋아져서 자신감이 생겼다\\n기쁘다: 관절 영양제를 통해 통증이 줄어서 기쁘다\\n행복하다: 피로를 회복하고 활력을 되찾아 행복하다\\n두렵다: 필요한 영양소를 제대로 섭취하지 못할까 봐 두렵다\\n불편하다: 소화불량으로 인해 하루 종일 불편하다\\n지쳤다: 피로가 쌓여서 지쳤다\\n불안하다: 호르몬 불균형으로 인해 불안하다\",\n",
    "    \"Outcomes\": \"건강 증진: 면역력 강화, 피부 개선, 관절 통증 완화, 활력 증진\\n영양 보충: 필요한 영양소를 섭취하여 건강 유지\\n체중 관리: 체중 감량 및 유지\\n피로 회복: 피로 회복 및 에너지 증진\",\n",
    "    \"Job Differentiators\": \"정확한 영양 정보 제공: 사용자가 필요한 영양소를 정확히 이해하고 섭취할 수 있도록 도움\\n개인 맞춤형 영양제 추천: 개인의 건강 상태와 필요에 맞춘 영양제 추천\\n사용 편의성: 사용자가 쉽게 섭취할 수 있는 방법 제공\"\n",
    "}\n",
    "\n",
    "# Define the font and size, make sure to use a Korean font\n",
    "font_path = \"jtbd/fonts/NotoSansKR-VariableFont_wght.ttf\"  # Update this path to your font file\n",
    "font_size = 16\n",
    "font = ImageFont.truetype(font_path, font_size)\n",
    "\n",
    "# Create a draw object\n",
    "draw = ImageDraw.Draw(canvas)\n",
    "\n",
    "# Define coordinates for each section\n",
    "coordinates = {\n",
    "    \"Target Job\": (600, 150),\n",
    "    \"Aspirations\": (950, 80),\n",
    "    \"Job Performer\": (50, 50),\n",
    "    \"Related Jobs\": (950, 230),\n",
    "    \"Job Steps Beginning\": (50, 380),\n",
    "    \"Job Steps Middle\": (500, 380),\n",
    "    \"Job Steps End\": (950, 380),\n",
    "    \"Emotional & Social Aspects\": (50, 750),\n",
    "    \"Outcomes\": (950, 750),\n",
    "    \"Job Differentiators\": (950, 950)\n",
    "}\n",
    "\n",
    "# Draw the text on the image\n",
    "for section, text in texts.items():\n",
    "    if section == \"Job Steps\":\n",
    "        draw.text(coordinates[\"Job Steps Beginning\"], text[\"Beginning\"], font=font, fill=\"black\")\n",
    "        draw.text(coordinates[\"Job Steps Middle\"], text[\"Middle\"], font=font, fill=\"black\")\n",
    "        draw.text(coordinates[\"Job Steps End\"], text[\"End\"], font=font, fill=\"black\")\n",
    "    else:\n",
    "        draw.text(coordinates[section], text, font=font, fill=\"black\")\n",
    "\n",
    "# Save the edited image\n",
    "output_path = \"jtbd/jtbd_canvas_filled_adjusted.png\"\n",
    "canvas.save(output_path)\n",
    "\n",
    "output_path\n"
   ]
  },
  {
   "cell_type": "code",
   "execution_count": null,
   "id": "a7ddc4fb-6826-4be4-8629-f68bc992c578",
   "metadata": {},
   "outputs": [],
   "source": []
  }
 ],
 "metadata": {
  "kernelspec": {
   "display_name": "Python 3 (ipykernel)",
   "language": "python",
   "name": "python3"
  },
  "language_info": {
   "codemirror_mode": {
    "name": "ipython",
    "version": 3
   },
   "file_extension": ".py",
   "mimetype": "text/x-python",
   "name": "python",
   "nbconvert_exporter": "python",
   "pygments_lexer": "ipython3",
   "version": "3.11.7"
  }
 },
 "nbformat": 4,
 "nbformat_minor": 5
}
